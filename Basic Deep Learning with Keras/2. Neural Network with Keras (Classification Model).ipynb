{
 "cells": [
  {
   "cell_type": "markdown",
   "id": "f8a498ec",
   "metadata": {},
   "source": [
    "Here, we are going to use MNIST database.\n",
    "\n",
    "The <strong>MNIST database</strong>, short for Modified National Institute of Standards and Technology database, is a large database of handwritten digits that is commonly used for training various image processing systems. The database is also widely used for training and testing in the field of machine learning.\n",
    "\n",
    "The MNIST database contains 60,000 training images and 10,000 testing images of digits written by high school students and employees of the United States Census Bureau."
   ]
  },
  {
   "cell_type": "code",
   "execution_count": 1,
   "id": "adcb45ef",
   "metadata": {},
   "outputs": [],
   "source": [
    "#import packages\n",
    "import numpy as np\n",
    "import pandas as pd\n",
    "import matplotlib.pyplot as plt\n",
    "import keras"
   ]
  },
  {
   "cell_type": "code",
   "execution_count": 2,
   "id": "1efdb21b",
   "metadata": {},
   "outputs": [],
   "source": [
    "from keras.models import Sequential\n",
    "from keras.layers import Dense\n",
    "from keras.utils import to_categorical"
   ]
  },
  {
   "cell_type": "markdown",
   "id": "cf431fcd",
   "metadata": {},
   "source": [
    "The Keras library conveniently includes the MNIST dataset as part of its API."
   ]
  },
  {
   "cell_type": "markdown",
   "id": "ce126df5",
   "metadata": {},
   "source": [
    "So, let's load the MNIST dataset from the Keras library. The dataset is readily divided into a training set and a test set."
   ]
  },
  {
   "cell_type": "code",
   "execution_count": 3,
   "id": "8fde3c89",
   "metadata": {},
   "outputs": [],
   "source": [
    "# import the data\n",
    "from keras.datasets import mnist\n",
    "\n",
    "# read the data\n",
    "(X_train, y_train), (X_test, y_test) = mnist.load_data()"
   ]
  },
  {
   "cell_type": "code",
   "execution_count": 4,
   "id": "7cafac6b",
   "metadata": {},
   "outputs": [
    {
     "data": {
      "text/plain": [
       "(60000, 28, 28)"
      ]
     },
     "execution_count": 4,
     "metadata": {},
     "output_type": "execute_result"
    }
   ],
   "source": [
    "X_train.shape"
   ]
  },
  {
   "cell_type": "markdown",
   "id": "d25d0648",
   "metadata": {},
   "source": [
    "The first number in the output tuple is the number of images, and the other two numbers are the size of the images in datset. So, each image is 28 pixels by 28 pixels."
   ]
  },
  {
   "cell_type": "markdown",
   "id": "f049fd0d",
   "metadata": {},
   "source": [
    "Let's visualize the first image in the training set using Matplotlib's scripting layer.\n"
   ]
  },
  {
   "cell_type": "code",
   "execution_count": 5,
   "id": "774cbced",
   "metadata": {},
   "outputs": [
    {
     "data": {
      "text/plain": [
       "<matplotlib.image.AxesImage at 0x2ee21309280>"
      ]
     },
     "execution_count": 5,
     "metadata": {},
     "output_type": "execute_result"
    },
    {
     "data": {
      "image/png": "[encoded data removed]",
      "text/plain": [
       "<Figure size 432x288 with 1 Axes>"
      ]
     },
     "metadata": {
      "needs_background": "light"
     },
     "output_type": "display_data"
    }
   ],
   "source": [
    "plt.imshow(X_train[0])"
   ]
  },
  {
   "cell_type": "markdown",
   "id": "b2b94dd0",
   "metadata": {},
   "source": [
    "With conventional neural networks, we cannot feed in the image as input as is. So we need to flatten the images into one-dimensional vectors, each of size 1 x (28 x 28) = 1 x 784."
   ]
  },
  {
   "cell_type": "code",
   "execution_count": 6,
   "id": "daa8e8d5",
   "metadata": {},
   "outputs": [],
   "source": [
    "# flatten images into one-dimensional vector\n",
    "num_pixels = X_train.shape[1] * X_train.shape[2] # find size of one-dimensional vector\n",
    "\n",
    "X_train = X_train.reshape(X_train.shape[0], num_pixels).astype('float32') # flatten training images\n",
    "X_test = X_test.reshape(X_test.shape[0], num_pixels).astype('float32') # flatten test images"
   ]
  },
  {
   "cell_type": "markdown",
   "id": "7133a601",
   "metadata": {},
   "source": [
    "Since pixel values can range from 0 to 255, let's normalize the vectors to be between 0 and 1."
   ]
  },
  {
   "cell_type": "code",
   "execution_count": 7,
   "id": "0ccc9068",
   "metadata": {},
   "outputs": [],
   "source": [
    "# normalize inputs from 0-255 to 0-1\n",
    "X_train = X_train / 255\n",
    "X_test = X_test / 255"
   ]
  },
  {
   "cell_type": "markdown",
   "id": "dd572db2",
   "metadata": {},
   "source": [
    "Finally, before we start building our model, remember that for classification we need to divide our target variable into categories. We use the to_categorical function from the Keras Utilities package."
   ]
  },
  {
   "cell_type": "code",
   "execution_count": 8,
   "id": "e662fcde",
   "metadata": {},
   "outputs": [
    {
     "name": "stdout",
     "output_type": "stream",
     "text": [
      "10\n"
     ]
    }
   ],
   "source": [
    "# one hot encode outputs\n",
    "y_train = to_categorical(y_train)\n",
    "y_test = to_categorical(y_test)\n",
    "\n",
    "num_classes = y_test.shape[1]\n",
    "print(num_classes)"
   ]
  },
  {
   "cell_type": "markdown",
   "id": "095eeb38",
   "metadata": {},
   "source": [
    "### Buliding the Neural Network"
   ]
  },
  {
   "cell_type": "code",
   "execution_count": 9,
   "id": "13203910",
   "metadata": {},
   "outputs": [],
   "source": [
    "# define classification model\n",
    "def classification_model():\n",
    "    # create model\n",
    "    model = Sequential()\n",
    "    model.add(Dense(num_pixels, activation='relu', input_shape=(num_pixels,)))\n",
    "    model.add(Dense(100, activation='relu'))\n",
    "    model.add(Dense(num_classes, activation='softmax'))\n",
    "    \n",
    "    \n",
    "    # compile model\n",
    "    model.compile(optimizer='adam', loss='categorical_crossentropy', metrics=['accuracy'])\n",
    "    return model"
   ]
  },
  {
   "cell_type": "markdown",
   "id": "f3616301",
   "metadata": {},
   "source": [
    "Train and Test the network"
   ]
  },
  {
   "cell_type": "code",
   "execution_count": 10,
   "id": "91b2ed9f",
   "metadata": {},
   "outputs": [],
   "source": [
    "# build the model\n",
    "model = classification_model()"
   ]
  },
  {
   "cell_type": "code",
   "execution_count": 11,
   "id": "15f7cac2",
   "metadata": {},
   "outputs": [
    {
     "name": "stdout",
     "output_type": "stream",
     "text": [
      "Epoch 1/10\n",
      "1875/1875 - 15s - loss: 0.1852 - accuracy: 0.9429 - val_loss: 0.0974 - val_accuracy: 0.9717 - 15s/epoch - 8ms/step\n",
      "Epoch 2/10\n",
      "1875/1875 - 13s - loss: 0.0779 - accuracy: 0.9753 - val_loss: 0.0807 - val_accuracy: 0.9746 - 13s/epoch - 7ms/step\n",
      "Epoch 3/10\n",
      "1875/1875 - 13s - loss: 0.0549 - accuracy: 0.9822 - val_loss: 0.0672 - val_accuracy: 0.9806 - 13s/epoch - 7ms/step\n",
      "Epoch 4/10\n",
      "1875/1875 - 13s - loss: 0.0400 - accuracy: 0.9872 - val_loss: 0.0617 - val_accuracy: 0.9824 - 13s/epoch - 7ms/step\n",
      "Epoch 5/10\n",
      "1875/1875 - 13s - loss: 0.0308 - accuracy: 0.9900 - val_loss: 0.0748 - val_accuracy: 0.9800 - 13s/epoch - 7ms/step\n",
      "Epoch 6/10\n",
      "1875/1875 - 15s - loss: 0.0274 - accuracy: 0.9912 - val_loss: 0.0652 - val_accuracy: 0.9836 - 15s/epoch - 8ms/step\n",
      "Epoch 7/10\n",
      "1875/1875 - 13s - loss: 0.0227 - accuracy: 0.9925 - val_loss: 0.0691 - val_accuracy: 0.9835 - 13s/epoch - 7ms/step\n",
      "Epoch 8/10\n",
      "1875/1875 - 13s - loss: 0.0188 - accuracy: 0.9941 - val_loss: 0.0785 - val_accuracy: 0.9820 - 13s/epoch - 7ms/step\n",
      "Epoch 9/10\n",
      "1875/1875 - 13s - loss: 0.0166 - accuracy: 0.9947 - val_loss: 0.0803 - val_accuracy: 0.9824 - 13s/epoch - 7ms/step\n",
      "Epoch 10/10\n",
      "1875/1875 - 13s - loss: 0.0167 - accuracy: 0.9951 - val_loss: 0.1063 - val_accuracy: 0.9793 - 13s/epoch - 7ms/step\n"
     ]
    },
    {
     "data": {
      "text/plain": [
       "<keras.callbacks.History at 0x2ee1f3003d0>"
      ]
     },
     "execution_count": 11,
     "metadata": {},
     "output_type": "execute_result"
    }
   ],
   "source": [
    "# fit the model\n",
    "model.fit(X_train, y_train, validation_data=(X_test, y_test), epochs=10, verbose=2)\n"
   ]
  },
  {
   "cell_type": "code",
   "execution_count": 12,
   "id": "ccb09a08",
   "metadata": {},
   "outputs": [],
   "source": [
    "# evaluate the model\n",
    "scores = model.evaluate(X_test, y_test, verbose=0)"
   ]
  },
  {
   "cell_type": "markdown",
   "id": "c0a891bc",
   "metadata": {},
   "source": [
    "Let's print the accuracy and the corresponding error."
   ]
  },
  {
   "cell_type": "code",
   "execution_count": 13,
   "id": "c6d7266d",
   "metadata": {
    "scrolled": true
   },
   "outputs": [
    {
     "name": "stdout",
     "output_type": "stream",
     "text": [
      "Accuracy: 97.93000221252441% \n",
      " Error: 0.02069997787475586\n"
     ]
    }
   ],
   "source": [
    "print('Accuracy: {}% \\n Error: {}'.format(scores[1]*100, 1 - scores[1]))        "
   ]
  },
  {
   "cell_type": "markdown",
   "id": "e74ae20c",
   "metadata": {},
   "source": [
    "We can save model using *.save()*"
   ]
  },
  {
   "cell_type": "code",
   "execution_count": 14,
   "id": "23ef7424",
   "metadata": {},
   "outputs": [],
   "source": [
    "model.save('classification_model.h5')"
   ]
  },
  {
   "cell_type": "markdown",
   "id": "270e5ae7",
   "metadata": {},
   "source": [
    "Since our model contains multidimensional arrays of data, then models are usually saved as .h5 files."
   ]
  },
  {
   "cell_type": "markdown",
   "id": "5ca2a98a",
   "metadata": {},
   "source": [
    "When you are ready to use your model again, you use the ***load_model*** function from <strong>keras.models</strong>.\n"
   ]
  },
  {
   "cell_type": "code",
   "execution_count": 15,
   "id": "b24361a8",
   "metadata": {},
   "outputs": [],
   "source": [
    "from keras.models import load_model"
   ]
  },
  {
   "cell_type": "code",
   "execution_count": 16,
   "id": "9b6c295f",
   "metadata": {},
   "outputs": [],
   "source": [
    "pretrained_model = load_model('classification_model.h5')"
   ]
  },
  {
   "cell_type": "markdown",
   "id": "d77decff",
   "metadata": {},
   "source": [
    "Now, we can use model to predict the class."
   ]
  }
 ],
 "metadata": {
  "kernelspec": {
   "display_name": "Python 3 (ipykernel)",
   "language": "python",
   "name": "python3"
  },
  "language_info": {
   "codemirror_mode": {
    "name": "ipython",
    "version": 3
   },
   "file_extension": ".py",
   "mimetype": "text/x-python",
   "name": "python",
   "nbconvert_exporter": "python",
   "pygments_lexer": "ipython3",
   "version": "3.9.12"
  }
 },
 "nbformat": 4,
 "nbformat_minor": 5
}
