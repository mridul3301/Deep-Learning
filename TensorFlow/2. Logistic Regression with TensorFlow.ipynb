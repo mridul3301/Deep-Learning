{
  "nbformat": 4,
  "nbformat_minor": 0,
  "metadata": {
    "colab": {
      "provenance": []
    },
    "kernelspec": {
      "name": "python3",
      "display_name": "Python 3"
    },
    "language_info": {
      "name": "python"
    }
  },
  "cells": [
    {
      "cell_type": "markdown",
      "source": [
        "### Logistic Regression with TensorFlow"
      ],
      "metadata": {
        "id": "Oup6wCsqlbyN"
      }
    },
    {
      "cell_type": "code",
      "execution_count": 1,
      "metadata": {
        "id": "4paTUQ0slUBT"
      },
      "outputs": [],
      "source": [
        "# Import necessary libraries\n",
        "\n",
        "import tensorflow as tf\n",
        "import pandas as pd\n",
        "import numpy as np\n",
        "import time\n",
        "from sklearn.datasets import load_iris\n",
        "from sklearn.model_selection import train_test_split\n",
        "import matplotlib.pyplot as plt"
      ]
    },
    {
      "cell_type": "code",
      "source": [
        "print(tf.__version__)"
      ],
      "metadata": {
        "colab": {
          "base_uri": "https://localhost:8080/"
        },
        "id": "5JxQhn-zlqO2",
        "outputId": "5ccb5af8-9382-457c-aee4-f31850fc6c3e"
      },
      "execution_count": 3,
      "outputs": [
        {
          "output_type": "stream",
          "name": "stdout",
          "text": [
            "2.12.0\n"
          ]
        }
      ]
    },
    {
      "cell_type": "markdown",
      "metadata": {
        "id": "dc7cab9f-e1c4-4b12-ad49-7ae5a10791ea"
      },
      "source": [
        "<h3>Understanding the Data</h3>\n",
        "\n",
        "<h4><code>Iris Dataset</code>:</h4>\n",
        "This dataset was introduced by British Statistician and Biologist Ronald Fisher, it consists of 50 samples from each of three species of Iris (Iris setosa, Iris virginica and Iris versicolor). In total it has 150 records under five attributes - petal length, petal width, sepal length, sepal width and species. <a href=\"https://archive.ics.uci.edu/ml/datasets/iris?utm_medium=Exinfluencer&utm_source=Exinfluencer&utm_content=000026UJ&utm_term=10006555&utm_id=NA-SkillsNetwork-Channel-SkillsNetworkCoursesIBMDeveloperSkillsNetworkDL0120ENSkillsNetwork954-2022-01-01\">Dataset source</a>\n",
        "\n",
        "Attributes\n",
        "Independent Variable\n",
        "\n",
        "<ul>\n",
        "    <li>petal length</li>\n",
        "    <li>petal width</li>\n",
        "    <li>sepal length</li>\n",
        "    <li>sepal width</li>\n",
        "</ul>\n",
        "Dependent Variable\n",
        "<ul>    \n",
        "    <li>Species\n",
        "        <ul>\n",
        "            <li>Iris setosa</li>\n",
        "            <li>Iris virginica</li>\n",
        "            <li>Iris versicolor</li>\n",
        "        </ul>\n",
        "    </li>\n",
        "</ul>\n",
        "<br>\n"
      ]
    },
    {
      "cell_type": "code",
      "metadata": {
        "id": "e9f86394-0ad1-41c6-8039-633d0796a49b"
      },
      "outputs": [],
      "source": [
        "iris = load_iris()\n",
        "iris_X, iris_y = iris.data[:-1,:], iris.target[:-1]\n",
        "iris_y= pd.get_dummies(iris_y).values\n",
        "trainX, testX, trainY, testY = train_test_split(iris_X, iris_y, test_size=0.33, random_state=42)"
      ],
      "execution_count": 4
    },
    {
      "cell_type": "markdown",
      "metadata": {
        "id": "38c15084-e87b-4ad8-a7ad-15eb06bcb032"
      },
      "source": [
        "Now we define x and y. These variables will hold our iris data (both the features and label matrices) We also need to give them shapes which correspond to the shape of our data. \n"
      ]
    },
    {
      "cell_type": "code",
      "metadata": {
        "id": "d1a41354-31a0-497f-aa41-2cc89bc4e21e",
        "colab": {
          "base_uri": "https://localhost:8080/"
        },
        "outputId": "85e99f75-b6b3-4dd5-c66a-adb9c4d8021c"
      },
      "outputs": [
        {
          "output_type": "stream",
          "name": "stdout",
          "text": [
            "numFeatures is :  4\n",
            "numLabels is :  3\n"
          ]
        }
      ],
      "source": [
        "# numFeatures is the number of features in our input data.\n",
        "# In the iris dataset, this number is '4'.\n",
        "numFeatures = trainX.shape[1]\n",
        "print('numFeatures is : ', numFeatures )\n",
        "# numLabels is the number of classes our data points can be in.\n",
        "# In the iris dataset, this number is '3'.\n",
        "numLabels = trainY.shape[1]\n",
        "print('numLabels is : ', numLabels )\n",
        "\n",
        "#X = tf.Variable( np.identity(numFeatures), tf.TensorShape(numFeatures),dtype='float32') # Iris has 4 features, so X is a tensor to hold our data.\n",
        "#yGold = tf.Variable(np.array([1,1,1]),shape=tf.TensorShape(numLabels),dtype='float32') # This will be our correct answers matrix for 3 classes."
      ],
      "execution_count": 5
    },
    {
      "cell_type": "code",
      "metadata": {
        "id": "e169567a-7770-4be9-8c3a-6e40b68a40d3"
      },
      "outputs": [],
      "source": [
        "trainX = tf.constant(trainX, dtype='float32')\n",
        "trainY = tf.constant(trainY, dtype='float32')\n",
        "testX = tf.constant(testX, dtype='float32')\n",
        "testY = tf.constant(testY, dtype='float32')"
      ],
      "execution_count": 6
    },
    {
      "cell_type": "markdown",
      "metadata": {
        "id": "7911eb6b-335b-4204-a96c-862d0e5cd873"
      },
      "source": [
        "<h3>Set model weights and bias</h3>\n",
        "\n",
        "Much like Linear Regression, we need a shared variable weight matrix for Logistic Regression. We initialize both <code>W</code> and <code>b</code> as tensors full of zeros. Since we are going to learn <code>W</code> and <code>b</code>, their initial value does not matter too much. These variables are the objects which define the structure of our regression model, and we can save them after they have been trained so we can reuse them later.\n",
        "\n",
        "We define two TensorFlow variables as our parameters. These variables will hold the weights and biases of our logistic regression and they will be continually updated during training. \n",
        "\n",
        "Notice that <code>W</code> has a shape of [4, 3] because we want to multiply the 4-dimensional input vectors by it to produce 3-dimensional vectors of evidence for the difference classes. <code>b</code> has a shape of [3] so we can add it to the output. TensorFlow variables need to be initialized with values, e.g. with zeros.\n"
      ]
    },
    {
      "cell_type": "code",
      "metadata": {
        "id": "83ab1fd6-b721-4e14-ac6f-78e53a723e20"
      },
      "outputs": [],
      "source": [
        "W = tf.Variable(tf.zeros([4, 3]))  # 4-dimensional input and  3 classes\n",
        "b = tf.Variable(tf.zeros([3])) # 3-dimensional output [0,0,1],[0,1,0],[1,0,0]"
      ],
      "execution_count": 7
    },
    {
      "cell_type": "code",
      "metadata": {
        "id": "b7daf7c8-f9de-409f-b22d-00c0417c9195"
      },
      "outputs": [],
      "source": [
        "#Randomly sample from a normal distribution with standard deviation .01\n",
        "\n",
        "weights = tf.Variable(tf.random.normal([numFeatures,numLabels],\n",
        "                                       mean=0.,\n",
        "                                       stddev=0.01,\n",
        "                                       name=\"weights\"),dtype='float32')\n",
        "\n",
        "\n",
        "bias = tf.Variable(tf.random.normal([1,numLabels],\n",
        "                                    mean=0.,\n",
        "                                    stddev=0.01,\n",
        "                                    name=\"bias\"))\n"
      ],
      "execution_count": 8
    },
    {
      "cell_type": "markdown",
      "metadata": {
        "id": "bd1f6b75-ba54-45db-b0b5-c16b72486ae4"
      },
      "source": [
        "<h3>Logistic Regression model</h3>\n",
        "\n",
        "We now define our operations in order to properly run the Logistic Regression. Logistic regression is typically thought of as a single equation:\n",
        "\n",
        "$$\n",
        "ŷ =sigmoid(WX+b)\n",
        "$$\n",
        "\n",
        "However, for the sake of clarity, we can have it broken into its three main components: \n",
        "\n",
        "-   a weight times features matrix multiplication operation, \n",
        "-   a summation of the weighted features and a bias term, \n",
        "-   and finally the application of a sigmoid function. \n",
        "\n",
        "As such, you will find these components defined as three separate operations below.\n"
      ]
    },
    {
      "cell_type": "code",
      "metadata": {
        "id": "790bf728-0e80-4d90-abca-3327ef765baf"
      },
      "outputs": [],
      "source": [
        "# Three-component breakdown of the Logistic Regression equation.\n",
        "# Note that these feed into each other.\n",
        "def logistic_regression(x):\n",
        "    apply_weights_OP = tf.matmul(x, weights, name=\"apply_weights\")\n",
        "    add_bias_OP = tf.add(apply_weights_OP, bias, name=\"add_bias\") \n",
        "    activation_OP = tf.nn.sigmoid(add_bias_OP, name=\"activation\")\n",
        "    return activation_OP"
      ],
      "execution_count": 9
    },
    {
      "cell_type": "markdown",
      "metadata": {
        "id": "77ef8d84-04d3-471f-9c42-d37c58b48a1c"
      },
      "source": [
        "As we have seen before, the function we are going to use is the <i>logistic function</i> $(\\frac{1}{1+e^{-Wx}})$, which is fed the input data after applying weights and bias. In TensorFlow, this function is implemented as the <code>nn.sigmoid</code> function. Effectively, this fits the weighted input with bias into a 0-100 percent curve, which is the probability function we want.\n"
      ]
    },
    {
      "cell_type": "markdown",
      "metadata": {
        "id": "a0679666-60f0-4931-a6ca-6a1ceca6aab9"
      },
      "source": [
        "<hr>\n"
      ]
    },
    {
      "cell_type": "markdown",
      "metadata": {
        "id": "a8f5c7a6-c515-4c54-975d-76cf800f1787"
      },
      "source": [
        "<a id=\"ref3\"></a>\n",
        "\n",
        "<h2>Training</h2>\n",
        "\n",
        "The learning algorithm is how we search for the best weight vector (${\\\\\\\\bf w}$). This search is an optimization problem looking for the hypothesis that optimizes an error/cost measure.\n",
        "\n",
        "<b>What tells us that our model is bad?</b>  \n",
        "The Cost or Loss of the model, so what we want is to minimize that. \n",
        "\n",
        "<h3>Cost function</h3>\n",
        "Before defining our cost function, we need to define how long we are going to train and how should we define the learning rate.\n"
      ]
    },
    {
      "cell_type": "code",
      "metadata": {
        "id": "0eae068e-6165-4fe6-9fa7-2e250f5cb0dc"
      },
      "outputs": [],
      "source": [
        "# Number of Epochs in our training\n",
        "numEpochs = 700\n",
        "\n",
        "# Defining our learning rate iterations (decay)\n",
        "learningRate = tf.keras.optimizers.schedules.ExponentialDecay(initial_learning_rate=0.0008,\n",
        "                                          decay_steps=trainX.shape[0],\n",
        "                                          decay_rate= 0.95,\n",
        "                                          staircase=True)"
      ],
      "execution_count": 10
    },
    {
      "cell_type": "markdown",
      "metadata": {
        "id": "3f748774-e375-4bdc-b348-40d508474a5d"
      },
      "source": [
        "<b>What is the cost function in our model?</b>  \n",
        "The cost function we are going to utilize is the Squared Mean Error loss function.\n",
        "\n",
        "<b>How to minimize the cost function?</b>  \n",
        "We can't use <b>least-squares linear regression</b> here, so we will use <a href=\"http://en.wikipedia.org/wiki/Gradient_descent?utm_medium=Exinfluencer&utm_source=Exinfluencer&utm_content=000026UJ&utm_term=10006555&utm_id=NA-SkillsNetwork-Channel-SkillsNetworkCoursesIBMDeveloperSkillsNetworkDL0120ENSkillsNetwork954-2022-01-01\">gradient descent</a> instead. Specifically, we will use batch gradient descent which calculates the gradient from all data points in the data set.\n"
      ]
    },
    {
      "cell_type": "code",
      "metadata": {
        "id": "7ab9c369-772f-4a59-86a7-4ba384c28ec2"
      },
      "outputs": [],
      "source": [
        "#Defining our cost function - Squared Mean Error\n",
        "loss_object = tf.keras.losses.MeanSquaredLogarithmicError()\n",
        "optimizer = tf.keras.optimizers.SGD(learningRate)"
      ],
      "execution_count": 11
    },
    {
      "cell_type": "markdown",
      "metadata": {
        "id": "fae0c02b-9a4e-4e43-b46d-82a26d56a73f"
      },
      "source": [
        "We also want some additional operations to keep track of our model's efficiency over time. We can do this like so:\n"
      ]
    },
    {
      "cell_type": "code",
      "metadata": {
        "id": "563fa1db-92a4-4080-a260-f9ceb4233e66"
      },
      "outputs": [],
      "source": [
        "# Accuracy metric.\n",
        "def accuracy(y_pred, y_true):\n",
        "# Predicted class is the index of the highest score in prediction vector (i.e. argmax).\n",
        "\n",
        "    correct_prediction = tf.equal(tf.argmax(y_pred, 1), tf.argmax(y_true, 1))\n",
        "\n",
        "    return tf.reduce_mean(tf.cast(correct_prediction, tf.float32))"
      ],
      "execution_count": 12
    },
    {
      "cell_type": "markdown",
      "metadata": {
        "id": "c4fc4724-3c9a-4a18-a40b-34177dbfe990"
      },
      "source": [
        "We first wrap computation inside a GradientTape for automatic differentiation. Then we compute gradients and update W and b.\n"
      ]
    },
    {
      "cell_type": "code",
      "metadata": {
        "id": "71c720f6-cf2f-42d3-89a0-0873063ce53f"
      },
      "outputs": [],
      "source": [
        "# Optimization process. \n",
        "\n",
        "def run_optimization(x, y):\n",
        "    with tf.GradientTape() as g:\n",
        "        pred = logistic_regression(x)\n",
        "        loss = loss_object(pred, y)\n",
        "    gradients = g.gradient(loss, [weights, bias])\n",
        "    optimizer.apply_gradients(zip(gradients, [weights, bias]))"
      ],
      "execution_count": 13
    },
    {
      "cell_type": "markdown",
      "metadata": {
        "id": "6ec350d5-5a2f-4027-aea1-8268254d609b"
      },
      "source": [
        "Now we move on to actually running our operations. We will start with the operations involved in the prediction phase (i.e. the logistic regression itself).\n"
      ]
    },
    {
      "cell_type": "markdown",
      "metadata": {
        "id": "5a0ed84d-8b4e-4902-984d-7d9d6c3af15f"
      },
      "source": [
        "Now we can define and run the actual training loop, like this:\n"
      ]
    },
    {
      "cell_type": "code",
      "metadata": {
        "id": "a73a0e5f-c8cc-4a26-9f82-b5a4c0e69fa0",
        "colab": {
          "base_uri": "https://localhost:8080/"
        },
        "outputId": "5b83d92e-419c-4688-c253-fb23312e6a02"
      },
      "outputs": [
        {
          "output_type": "stream",
          "name": "stdout",
          "text": [
            "step 0, training accuracy 0.3, loss 0.136123, change in loss 0.136123\n",
            "step 10, training accuracy 0.3, loss 0.135548, change in loss 0.000575274\n",
            "step 20, training accuracy 0.3, loss 0.13498, change in loss 0.000567675\n",
            "step 30, training accuracy 0.3, loss 0.13442, change in loss 0.000560045\n",
            "step 40, training accuracy 0.3, loss 0.133868, change in loss 0.000552401\n",
            "step 50, training accuracy 0.3, loss 0.133323, change in loss 0.000544757\n",
            "step 60, training accuracy 0.3, loss 0.132786, change in loss 0.000537038\n",
            "step 70, training accuracy 0.3, loss 0.132257, change in loss 0.000529349\n",
            "step 80, training accuracy 0.3, loss 0.131735, change in loss 0.000521645\n",
            "step 90, training accuracy 0.3, loss 0.131221, change in loss 0.000513956\n",
            "step 100, training accuracy 0.3, loss 0.13072, change in loss 0.000501215\n",
            "step 110, training accuracy 0.3, loss 0.130246, change in loss 0.000473887\n",
            "step 120, training accuracy 0.3, loss 0.129779, change in loss 0.000466987\n",
            "step 130, training accuracy 0.3, loss 0.129319, change in loss 0.000460103\n",
            "step 140, training accuracy 0.3, loss 0.128866, change in loss 0.000453219\n",
            "step 150, training accuracy 0.3, loss 0.128419, change in loss 0.000446424\n",
            "step 160, training accuracy 0.3, loss 0.12798, change in loss 0.000439584\n",
            "step 170, training accuracy 0.3, loss 0.127547, change in loss 0.000432849\n",
            "step 180, training accuracy 0.3, loss 0.127121, change in loss 0.000426114\n",
            "step 190, training accuracy 0.3, loss 0.126701, change in loss 0.000419438\n",
            "step 200, training accuracy 0.3, loss 0.126295, change in loss 0.000406682\n",
            "step 210, training accuracy 0.3, loss 0.125909, change in loss 0.000386178\n",
            "step 220, training accuracy 0.3, loss 0.125528, change in loss 0.000380293\n",
            "step 230, training accuracy 0.3, loss 0.125154, change in loss 0.000374436\n",
            "step 240, training accuracy 0.3, loss 0.124785, change in loss 0.000368655\n",
            "step 250, training accuracy 0.3, loss 0.124422, change in loss 0.00036291\n",
            "step 260, training accuracy 0.3, loss 0.124065, change in loss 0.00035724\n",
            "step 270, training accuracy 0.3, loss 0.123713, change in loss 0.000351608\n",
            "step 280, training accuracy 0.3, loss 0.123367, change in loss 0.000346057\n",
            "step 290, training accuracy 0.3, loss 0.123027, change in loss 0.000340529\n",
            "step 300, training accuracy 0.3, loss 0.122698, change in loss 0.000328436\n",
            "step 310, training accuracy 0.3, loss 0.122385, change in loss 0.000313446\n",
            "step 320, training accuracy 0.3, loss 0.122076, change in loss 0.000308625\n",
            "step 330, training accuracy 0.3, loss 0.121772, change in loss 0.000303894\n",
            "step 340, training accuracy 0.3, loss 0.121473, change in loss 0.0002992\n",
            "step 350, training accuracy 0.3, loss 0.121179, change in loss 0.000294544\n",
            "step 360, training accuracy 0.3, loss 0.120889, change in loss 0.000289954\n",
            "step 370, training accuracy 0.3, loss 0.120603, change in loss 0.000285447\n",
            "step 380, training accuracy 0.3, loss 0.120322, change in loss 0.000280961\n",
            "step 390, training accuracy 0.3, loss 0.120046, change in loss 0.000276573\n",
            "step 400, training accuracy 0.3, loss 0.11978, change in loss 0.000265457\n",
            "step 410, training accuracy 0.3, loss 0.119526, change in loss 0.00025472\n",
            "step 420, training accuracy 0.3, loss 0.119275, change in loss 0.000250906\n",
            "step 430, training accuracy 0.3, loss 0.119028, change in loss 0.000247128\n",
            "step 440, training accuracy 0.3, loss 0.118784, change in loss 0.000243403\n",
            "step 450, training accuracy 0.3, loss 0.118544, change in loss 0.000239737\n",
            "step 460, training accuracy 0.3, loss 0.118308, change in loss 0.000236109\n",
            "step 470, training accuracy 0.3, loss 0.118076, change in loss 0.000232548\n",
            "step 480, training accuracy 0.3, loss 0.117847, change in loss 0.000229023\n",
            "step 490, training accuracy 0.3, loss 0.117621, change in loss 0.000225566\n",
            "step 500, training accuracy 0.3, loss 0.117406, change in loss 0.000215515\n",
            "step 510, training accuracy 0.3, loss 0.117198, change in loss 0.000207998\n",
            "step 520, training accuracy 0.3, loss 0.116993, change in loss 0.000205003\n",
            "step 530, training accuracy 0.3, loss 0.116791, change in loss 0.000202052\n",
            "step 540, training accuracy 0.3, loss 0.116591, change in loss 0.000199132\n",
            "step 550, training accuracy 0.3, loss 0.116395, change in loss 0.000196263\n",
            "step 560, training accuracy 0.3, loss 0.116202, change in loss 0.000193432\n",
            "step 570, training accuracy 0.3, loss 0.116011, change in loss 0.000190645\n",
            "step 580, training accuracy 0.3, loss 0.115823, change in loss 0.000187911\n",
            "step 590, training accuracy 0.3, loss 0.115638, change in loss 0.000185184\n",
            "step 600, training accuracy 0.3, loss 0.115462, change in loss 0.000176169\n",
            "step 610, training accuracy 0.3, loss 0.115291, change in loss 0.00017105\n",
            "step 620, training accuracy 0.3, loss 0.115122, change in loss 0.000168726\n",
            "step 630, training accuracy 0.3, loss 0.114956, change in loss 0.000166409\n",
            "step 640, training accuracy 0.3, loss 0.114792, change in loss 0.000164144\n",
            "step 650, training accuracy 0.3, loss 0.11463, change in loss 0.000161923\n",
            "step 660, training accuracy 0.3, loss 0.11447, change in loss 0.000159696\n",
            "step 670, training accuracy 0.3, loss 0.114312, change in loss 0.000157535\n",
            "step 680, training accuracy 0.3, loss 0.114157, change in loss 0.000155404\n",
            "step 690, training accuracy 0.3, loss 0.114004, change in loss 0.000153288\n",
            "final accuracy on test set: 0.3\n"
          ]
        }
      ],
      "source": [
        "# Initialize reporting variables\n",
        "display_step = 10\n",
        "epoch_values = []\n",
        "accuracy_values = []\n",
        "loss_values = []\n",
        "loss = 0\n",
        "diff = 1\n",
        "# Training epochs\n",
        "for i in range(numEpochs):\n",
        "    if i > 1 and diff < .0001:\n",
        "        print(\"change in loss %g; convergence.\"%diff)\n",
        "        break\n",
        "    else:\n",
        "        # Run training step\n",
        "        run_optimization(trainX, trainY)\n",
        "        \n",
        "        # Report occasional stats\n",
        "        if i % display_step == 0:\n",
        "            # Add epoch to epoch_values\n",
        "            epoch_values.append(i)\n",
        "            \n",
        "            pred = logistic_regression(testX)\n",
        "\n",
        "            newLoss = loss_object(pred, testY)\n",
        "            # Add loss to live graphing variable\n",
        "            loss_values.append(newLoss)\n",
        "            \n",
        "            # Generate accuracy stats on test data\n",
        "            acc = accuracy(pred, testY)\n",
        "            accuracy_values.append(acc)\n",
        "            \n",
        "    \n",
        "            # Re-assign values for variables\n",
        "            diff = abs(newLoss - loss)\n",
        "            loss = newLoss\n",
        "\n",
        "            #generate print statements\n",
        "            print(\"step %d, training accuracy %g, loss %g, change in loss %g\"%(i, acc, newLoss, diff))\n",
        "\n",
        "        \n",
        "\n",
        "          \n",
        "\n",
        "# How well do we perform on held-out test data?\n",
        "print(\"final accuracy on test set: %s\" %acc.numpy())\n",
        "\n",
        "\n"
      ],
      "execution_count": 14
    },
    {
      "cell_type": "markdown",
      "metadata": {
        "id": "0be65692-cb6e-4615-a460-f298b0fc114f"
      },
      "source": [
        "<b>Why don't we plot the loss to see how it behaves?</b>\n"
      ]
    },
    {
      "cell_type": "code",
      "metadata": {
        "id": "d42fdfcc-e77d-4c84-a674-3604d42a87de",
        "colab": {
          "base_uri": "https://localhost:8080/",
          "height": 449
        },
        "outputId": "e746e762-8f08-4a0f-ee01-cc94f9c30d38"
      },
      "outputs": [
        {
          "output_type": "display_data",
          "data": {
            "text/plain": [
              "<Figure size 640x480 with 1 Axes>"
            ],
            "image/png": "[encoded data removed]"
          },
          "metadata": {}
        }
      ],
      "source": [
        "%matplotlib inline\n",
        "import numpy as np\n",
        "import matplotlib.pyplot as plt\n",
        "plt.xlabel(\"Epoch\")\n",
        "plt.ylabel(\"Loss\")\n",
        "plt.plot(loss_values)\n",
        "plt.show()"
      ],
      "execution_count": 15
    }
  ]
}