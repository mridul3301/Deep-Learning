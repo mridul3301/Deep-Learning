{
 "cells": [
  {
   "cell_type": "markdown",
   "id": "fdfbeecb-b4cc-416d-8916-6cc1829edbdd",
   "metadata": {},
   "source": [
    "<h1>Multiple Linear Regression</h1>\n"
   ]
  },
  {
   "cell_type": "markdown",
   "id": "b7f384b9-49f7-4ff0-9c94-e6757c7e37b8",
   "metadata": {},
   "source": [
    "Import the libraries and set the random seed.\n"
   ]
  },
  {
   "cell_type": "code",
   "execution_count": 1,
   "id": "4930bb07",
   "metadata": {},
   "outputs": [
    {
     "data": {
      "text/plain": [
       "<torch._C.Generator at 0x22e702d6c30>"
      ]
     },
     "execution_count": 1,
     "metadata": {},
     "output_type": "execute_result"
    }
   ],
   "source": [
    "# Import the libraries and set the random seed\n",
    "import torch\n",
    "from torch import nn\n",
    "torch.manual_seed(1)"
   ]
  },
  {
   "cell_type": "markdown",
   "id": "c7755915-560c-4e35-823b-e5ea9ab7f55f",
   "metadata": {},
   "source": [
    "<h2 id=\"Prediction\">Prediction</h2>\n"
   ]
  },
  {
   "cell_type": "markdown",
   "id": "fc5bcdd6-2de9-4b0d-80ca-d4d0ae94baf4",
   "metadata": {},
   "source": [
    "Set weight and bias.\n"
   ]
  },
  {
   "cell_type": "code",
   "execution_count": 2,
   "id": "2a0ea13a-27ed-4501-beec-801d88241333",
   "metadata": {},
   "outputs": [],
   "source": [
    "# Set the weight and bias\n",
    "\n",
    "w = torch.tensor([[2.0], [3.0]], requires_grad=True)\n",
    "b = torch.tensor([[1.0]], requires_grad=True)"
   ]
  },
  {
   "cell_type": "markdown",
   "id": "eaba4dc5-fd75-43e7-bdf6-6240d0b356cc",
   "metadata": {},
   "source": [
    "Define the parameters. <code>torch.mm</code> uses matrix multiplication instead of scaler multiplication.\n"
   ]
  },
  {
   "cell_type": "code",
   "execution_count": 3,
   "id": "52df478e-8a8b-4e66-a4cd-a5f5b3c620cb",
   "metadata": {},
   "outputs": [],
   "source": [
    "# Define Prediction Function\n",
    "\n",
    "def forward(x):\n",
    "    yhat = torch.mm(x, w) + b\n",
    "    return yhat"
   ]
  },
  {
   "cell_type": "markdown",
   "id": "9b149ee5-d99a-40fb-b93f-d9f53e3d974d",
   "metadata": {},
   "source": [
    "The function <code>forward</code> implements the following equation:\n"
   ]
  },
  {
   "cell_type": "markdown",
   "id": "fb4ba86e-e541-4416-99b2-8db485e7c569",
   "metadata": {},
   "source": [
    "<img src=\"https://s3-api.us-geo.objectstorage.softlayer.net/cf-courses-data/CognitiveClass/DL0110EN/notebook_images%20/chapter2/2.6.1_matrix_eq.png\" width=\"600\" alt=\"Matrix Linear Regression\">\n"
   ]
  },
  {
   "cell_type": "markdown",
   "id": "f1411577-4977-4e4a-90e7-452bdddc1835",
   "metadata": {},
   "source": [
    "If we input a <i>1x2</i> tensor, because we have a <i>2x1</i> tensor as <code>w</code>, we will get a <i>1x1</i> tensor: \n"
   ]
  },
  {
   "cell_type": "code",
   "execution_count": 4,
   "id": "1a1b14b3-4fce-4654-9f62-1b235ca12989",
   "metadata": {},
   "outputs": [
    {
     "name": "stdout",
     "output_type": "stream",
     "text": [
      "The result:  tensor([[9.]], grad_fn=<AddBackward0>)\n"
     ]
    }
   ],
   "source": [
    "# Calculate yhat\n",
    "\n",
    "x = torch.tensor([[1.0, 2.0]])\n",
    "yhat = forward(x)\n",
    "print(\"The result: \", yhat)"
   ]
  },
  {
   "cell_type": "markdown",
   "id": "52168d27-a11f-4f96-bbd4-23b09dcbf224",
   "metadata": {},
   "source": [
    "<img src=\"https://s3-api.us-geo.objectstorage.softlayer.net/cf-courses-data/CognitiveClass/DL0110EN/notebook_images%20/chapter2/2.6.1example.png\" width=\"300\" alt=\"Linear Regression Matrix Sample One\">\n"
   ]
  },
  {
   "cell_type": "markdown",
   "id": "3f943013-a49b-4226-b27f-4d679d82e11e",
   "metadata": {},
   "source": [
    "# Each row of the following tensor represents a sample:\n"
   ]
  },
  {
   "cell_type": "code",
   "execution_count": 5,
   "id": "dd31e3f1-0fc0-407f-99b4-5f8634db7cf6",
   "metadata": {},
   "outputs": [],
   "source": [
    "# Sample tensor X\n",
    "\n",
    "X = torch.tensor([[1.0, 1.0], [1.0, 2.0], [1.0, 3.0]])"
   ]
  },
  {
   "cell_type": "code",
   "execution_count": 6,
   "id": "9ba967b2-276c-4883-80b1-c7bc82c4f6a3",
   "metadata": {},
   "outputs": [
    {
     "name": "stdout",
     "output_type": "stream",
     "text": [
      "The result:  tensor([[ 6.],\n",
      "        [ 9.],\n",
      "        [12.]], grad_fn=<AddBackward0>)\n"
     ]
    }
   ],
   "source": [
    "# Make the prediction of X \n",
    "\n",
    "yhat = forward(X)\n",
    "print(\"The result: \", yhat)"
   ]
  },
  {
   "cell_type": "markdown",
   "id": "e16f9716-a78f-4f3c-ad0d-b932d54a6c91",
   "metadata": {},
   "source": [
    "<h2 id=\"Linear\">Class Linear</h2>\n"
   ]
  },
  {
   "cell_type": "markdown",
   "id": "3a3b23bc-26fb-4a31-a551-daa5ca30b2e2",
   "metadata": {},
   "source": [
    "We can use the linear class to make a prediction. You'll also use the linear class to build more complex models.\n"
   ]
  },
  {
   "cell_type": "markdown",
   "id": "eb9567e7-9395-40d2-9dc9-e7ef2cc117d3",
   "metadata": {},
   "source": [
    "Let us create a model.\n"
   ]
  },
  {
   "cell_type": "code",
   "execution_count": 7,
   "id": "0b04bfb0-8807-45c2-b6e3-31d3bb9887a3",
   "metadata": {},
   "outputs": [],
   "source": [
    "# Make a linear regression model using build-in function\n",
    "\n",
    "model = nn.Linear(2, 1)"
   ]
  },
  {
   "cell_type": "markdown",
   "id": "dde29ed8-7cf9-4545-a410-c5577fb8e7a3",
   "metadata": {},
   "source": [
    "Make a prediction with the first sample:\n"
   ]
  },
  {
   "cell_type": "code",
   "execution_count": 8,
   "id": "dcc73967-222c-4ede-80da-796cb2209f73",
   "metadata": {},
   "outputs": [
    {
     "name": "stdout",
     "output_type": "stream",
     "text": [
      "The result:  tensor([[-0.3969]], grad_fn=<AddmmBackward0>)\n"
     ]
    }
   ],
   "source": [
    "# Make a prediction of x\n",
    "\n",
    "yhat = model(x)\n",
    "print(\"The result: \", yhat)"
   ]
  },
  {
   "cell_type": "code",
   "execution_count": 9,
   "id": "87ee4588",
   "metadata": {},
   "outputs": [
    {
     "data": {
      "text/plain": [
       "OrderedDict([('weight', tensor([[ 0.3643, -0.3121]])),\n",
       "             ('bias', tensor([-0.1371]))])"
      ]
     },
     "execution_count": 9,
     "metadata": {},
     "output_type": "execute_result"
    }
   ],
   "source": [
    "model.state_dict()"
   ]
  },
  {
   "cell_type": "code",
   "execution_count": 10,
   "id": "0601f17f",
   "metadata": {},
   "outputs": [
    {
     "name": "stdout",
     "output_type": "stream",
     "text": [
      "The result:  tensor([[-0.0848],\n",
      "        [-0.3969],\n",
      "        [-0.7090]], grad_fn=<AddmmBackward0>)\n"
     ]
    }
   ],
   "source": [
    "# Make a prediction of X\n",
    "\n",
    "yhat = model(X)\n",
    "print(\"The result: \", yhat)"
   ]
  },
  {
   "cell_type": "markdown",
   "id": "30073be5-0ce1-4bec-b1d8-c791c2f2388e",
   "metadata": {},
   "source": [
    "The function performs matrix multiplication as shown in this image:\n"
   ]
  },
  {
   "cell_type": "markdown",
   "id": "b82fc8c7-28ff-42a4-bbed-b503d9587977",
   "metadata": {},
   "source": [
    "<img src=\"https://s3-api.us-geo.objectstorage.softlayer.net/cf-courses-data/CognitiveClass/DL0110EN/notebook_images%20/chapter2/2.6.1multi_sample_example.png\" width=\"600\" alt=\"Linear Regression Matrix Sample One\">\n"
   ]
  },
  {
   "cell_type": "markdown",
   "id": "5bca6411-d221-4a67-bee5-9c580efbf405",
   "metadata": {},
   "source": [
    "<!--Empty Space for separating topics-->\n"
   ]
  },
  {
   "cell_type": "markdown",
   "id": "6da540a8-03e5-444c-8b95-63d92a966ab6",
   "metadata": {},
   "source": [
    "<h2 id=\"Cust\">Build Custom Modules </h2>\n"
   ]
  },
  {
   "cell_type": "markdown",
   "id": "6040abc7-f7ab-4009-832f-897a64a2687c",
   "metadata": {},
   "source": [
    "Now, you'll build a custom module. You can make more complex models by using this method later. \n"
   ]
  },
  {
   "cell_type": "code",
   "execution_count": 11,
   "id": "304600c2",
   "metadata": {},
   "outputs": [],
   "source": [
    "#Creating custom linear_regression class\n",
    "\n",
    "class linear_regression(nn.Module):\n",
    "    \n",
    "    #Constructor\n",
    "    def __init__(self, input_size, output_size):\n",
    "        super(linear_regression, self).__init__()\n",
    "        self.linear = nn.Linear(input_size, output_size)\n",
    "        \n",
    "    #Prediction function  \n",
    "    def forward(self, x):\n",
    "        yhat = self.linear(x)\n",
    "        return yhat"
   ]
  },
  {
   "cell_type": "markdown",
   "id": "ee0a4dc0-cbc1-45ff-904a-a3e97de440bd",
   "metadata": {},
   "source": [
    "Build a linear regression object. The input feature size is two. \n"
   ]
  },
  {
   "cell_type": "code",
   "execution_count": 12,
   "id": "916924f2-0021-475a-b113-b96e7fdb7d4b",
   "metadata": {},
   "outputs": [],
   "source": [
    "model = linear_regression(2, 1)"
   ]
  },
  {
   "cell_type": "markdown",
   "id": "c57ae174-68a9-4347-bb23-4b6293876681",
   "metadata": {},
   "source": [
    "This will input the following equation:\n"
   ]
  },
  {
   "cell_type": "markdown",
   "id": "009edb6f-0f89-4c0d-8518-8bf1c88e713b",
   "metadata": {},
   "source": [
    "<img src=\"https://s3-api.us-geo.objectstorage.softlayer.net/cf-courses-data/CognitiveClass/DL0110EN/notebook_images%20/chapter2/2.6.1_matrix_eq.png\" width=\"600\" alt=\"Matrix Linear Regression\">\n"
   ]
  },
  {
   "cell_type": "markdown",
   "id": "461dd624-0199-49ef-9115-f0944a99b00d",
   "metadata": {},
   "source": [
    "You can see the randomly initialized parameters by using the <code>parameters()</code> method:\n"
   ]
  },
  {
   "cell_type": "code",
   "execution_count": 13,
   "id": "8297040a-5007-41ef-9dba-5724afa976e0",
   "metadata": {},
   "outputs": [
    {
     "name": "stdout",
     "output_type": "stream",
     "text": [
      "The parameters:  [Parameter containing:\n",
      "tensor([[ 0.3319, -0.6657]], requires_grad=True), Parameter containing:\n",
      "tensor([0.4241], requires_grad=True)]\n"
     ]
    }
   ],
   "source": [
    "# Print model parameters\n",
    "\n",
    "print(\"The parameters: \", list(model.parameters()))"
   ]
  },
  {
   "cell_type": "markdown",
   "id": "20bf6602-8be4-45c4-84d9-9b2a0044534d",
   "metadata": {},
   "source": [
    "You can also see the parameters by using the <code>state_dict()</code> method:\n"
   ]
  },
  {
   "cell_type": "code",
   "execution_count": 14,
   "id": "b848b7db-c94b-4d40-8cbb-22fb123ed8e0",
   "metadata": {},
   "outputs": [
    {
     "name": "stdout",
     "output_type": "stream",
     "text": [
      "The parameters:  OrderedDict([('linear.weight', tensor([[ 0.3319, -0.6657]])), ('linear.bias', tensor([0.4241]))])\n"
     ]
    }
   ],
   "source": [
    "# Print model parameters\n",
    "\n",
    "print(\"The parameters: \", model.state_dict())"
   ]
  },
  {
   "cell_type": "markdown",
   "id": "1bb5f64e-690c-401b-a5f7-a2e4e67e292a",
   "metadata": {},
   "source": [
    "Now we input a 1x2 tensor, and we will get a 1x1 tensor.\n"
   ]
  },
  {
   "cell_type": "code",
   "execution_count": 15,
   "id": "adfba15a-ac82-4081-81cf-a4d83f3f7d91",
   "metadata": {},
   "outputs": [
    {
     "name": "stdout",
     "output_type": "stream",
     "text": [
      "The result:  tensor([[-0.5754]], grad_fn=<AddmmBackward0>)\n"
     ]
    }
   ],
   "source": [
    "# Make a prediction of x\n",
    "\n",
    "yhat = model(x)\n",
    "print(\"The result: \", yhat)"
   ]
  },
  {
   "cell_type": "markdown",
   "id": "9bce13b5-37ee-4aed-ac28-e6c0a035e749",
   "metadata": {},
   "source": [
    "The shape of the output is shown in the following image: \n"
   ]
  },
  {
   "cell_type": "markdown",
   "id": "eaa59e45-d30f-4119-873d-2b226ddfafee",
   "metadata": {},
   "source": [
    "<img src=\"https://s3-api.us-geo.objectstorage.softlayer.net/cf-courses-data/CognitiveClass/DL0110EN/notebook_images%20/chapter2/2.6.1_matrix_eq.png\" width=\"600\" alt=\"Matrix Linear Regression\">\n"
   ]
  },
  {
   "cell_type": "markdown",
   "id": "b7efdf35-ba54-4175-ad1b-88903f934135",
   "metadata": {},
   "source": [
    "Make a prediction for multiple samples:\n"
   ]
  },
  {
   "cell_type": "code",
   "execution_count": 16,
   "id": "992ef2e1-0d61-4f86-9332-0c8ea31a21b0",
   "metadata": {},
   "outputs": [
    {
     "name": "stdout",
     "output_type": "stream",
     "text": [
      "The result:  tensor([[ 0.0903],\n",
      "        [-0.5754],\n",
      "        [-1.2411]], grad_fn=<AddmmBackward0>)\n"
     ]
    }
   ],
   "source": [
    "# Make a prediction of X\n",
    "\n",
    "yhat = model(X)\n",
    "print(\"The result: \", yhat)"
   ]
  },
  {
   "cell_type": "markdown",
   "id": "8bca0a5f-4888-408f-b95d-f87b49447867",
   "metadata": {},
   "source": [
    "The shape is shown in the following image: \n"
   ]
  },
  {
   "cell_type": "markdown",
   "id": "a7acd048-2843-432c-8bb5-a99e41403316",
   "metadata": {},
   "source": [
    "<img src=\"https://s3-api.us-geo.objectstorage.softlayer.net/cf-courses-data/CognitiveClass/DL0110EN/notebook_images%20/chapter2/2.6.1Multi_sample.png\" width=\"600\" alt=\"Multiple Samples Linear Regression\">\n"
   ]
  },
  {
   "cell_type": "markdown",
   "id": "e1ff090d-5474-41ce-9008-5bd298704bde",
   "metadata": {},
   "source": [
    "<h1>Linear Regression Multiple Outputs</h1> \n"
   ]
  },
  {
   "cell_type": "markdown",
   "id": "9ad6af36-5ea2-4f80-b8cb-249d1748b5a1",
   "metadata": {},
   "source": [
    "Import the following libraries:  \n"
   ]
  },
  {
   "cell_type": "code",
   "execution_count": 17,
   "id": "628866e9-47c2-47ac-8d82-c85b31aa57af",
   "metadata": {},
   "outputs": [],
   "source": [
    "import torch\n",
    "import numpy as np\n",
    "import matplotlib.pyplot as plt\n",
    "from torch import nn,optim\n",
    "from mpl_toolkits.mplot3d import Axes3D\n",
    "from torch.utils.data import Dataset, DataLoader\n",
    "import torchvision.transforms as transforms"
   ]
  },
  {
   "cell_type": "markdown",
   "id": "022ca421-f599-49fe-a68a-dd78bd13ed8c",
   "metadata": {},
   "source": [
    "Set the random seed:\n"
   ]
  },
  {
   "cell_type": "code",
   "execution_count": 18,
   "id": "abe1e050-6365-454b-975b-9d79c56a5ad4",
   "metadata": {},
   "outputs": [
    {
     "data": {
      "text/plain": [
       "<torch._C.Generator at 0x22e702d6c30>"
      ]
     },
     "execution_count": 18,
     "metadata": {},
     "output_type": "execute_result"
    }
   ],
   "source": [
    "torch.manual_seed(1)"
   ]
  },
  {
   "cell_type": "markdown",
   "id": "5842ac4e-2f48-45fc-bcef-7d9448dce9fd",
   "metadata": {},
   "source": [
    "<a id=\"ref0\"></a>\n",
    "<h2 align=center>Make Some Data </h2>"
   ]
  },
  {
   "cell_type": "markdown",
   "id": "6619ddd1",
   "metadata": {},
   "source": [
    "Create a dataset class with two-dimensional features and two targets: "
   ]
  },
  {
   "cell_type": "code",
   "execution_count": 19,
   "id": "b43ed5a2-543e-489a-b743-7553d86e4da2",
   "metadata": {},
   "outputs": [],
   "source": [
    "from torch.utils.data import Dataset, DataLoader\n",
    "class Data(Dataset):\n",
    "    def __init__(self):\n",
    "            self.x=torch.zeros(20,2)\n",
    "            self.x[:,0]=torch.arange(-1,1,0.1)\n",
    "            self.x[:,1]=torch.arange(-1,1,0.1)\n",
    "            self.w=torch.tensor([ [1.0,-1.0],[1.0,3.0]])\n",
    "            self.b=torch.tensor([[1.0,-1.0]])\n",
    "            self.f=torch.mm(self.x,self.w)+self.b\n",
    "            \n",
    "            self.y=self.f+0.001*torch.randn((self.x.shape[0],1))\n",
    "            self.len=self.x.shape[0]\n",
    "\n",
    "    def __getitem__(self,index):\n",
    "\n",
    "        return self.x[index],self.y[index]\n",
    "    \n",
    "    def __len__(self):\n",
    "        return self.len"
   ]
  },
  {
   "cell_type": "markdown",
   "id": "7dd64a7d-a391-4384-b515-4095b133423e",
   "metadata": {},
   "source": [
    "create a dataset object \n"
   ]
  },
  {
   "cell_type": "code",
   "execution_count": 20,
   "id": "e344a6e1-3290-41b9-9819-81b2faf08b78",
   "metadata": {},
   "outputs": [],
   "source": [
    "data_set=Data()"
   ]
  },
  {
   "cell_type": "markdown",
   "id": "72d62464-9215-4081-987f-096f88407859",
   "metadata": {},
   "source": [
    "<a id=\"ref1\"></a>\n",
    "<h2 align=center>Create the Model, Optimizer, and Total Loss Function (cost)</h2>\n"
   ]
  },
  {
   "cell_type": "markdown",
   "id": "f2ebe366-1dbd-41bd-9523-b47ed871e82e",
   "metadata": {},
   "source": [
    "Create a custom module:\n"
   ]
  },
  {
   "cell_type": "code",
   "execution_count": 21,
   "id": "810ac85d-78ee-406c-a3c4-bcf85c40151e",
   "metadata": {},
   "outputs": [],
   "source": [
    "class linear_regression(nn.Module):\n",
    "    def __init__(self,input_size,output_size):\n",
    "        super(linear_regression,self).__init__()\n",
    "        self.linear=nn.Linear(input_size,output_size)\n",
    "    def forward(self,x):\n",
    "        yhat=self.linear(x)\n",
    "        return yhat"
   ]
  },
  {
   "cell_type": "markdown",
   "id": "e5782862-6f44-4a59-9a6a-0267f621f5c0",
   "metadata": {},
   "source": [
    "Create a model."
   ]
  },
  {
   "cell_type": "code",
   "execution_count": 22,
   "id": "7d07e06b-51cb-4022-8e22-103ab10b358d",
   "metadata": {},
   "outputs": [],
   "source": [
    "model=linear_regression(2,2)"
   ]
  },
  {
   "cell_type": "markdown",
   "id": "2e656ccc-ded2-460c-b29d-a57cd7e2386f",
   "metadata": {},
   "source": [
    "Create an optimizer object and set the learning rate to 0.1."
   ]
  },
  {
   "cell_type": "markdown",
   "id": "9814531a-be31-4e1d-a8bc-da0d3e35207b",
   "metadata": {},
   "source": [
    "<img src=\"https://ibm.box.com/shared/static/f8hskuwrnctjg21agud69ddla0jkbef5.png\" width=\"100,\" align=\"center\">\n"
   ]
  },
  {
   "cell_type": "code",
   "execution_count": 23,
   "id": "f567625e-9f3b-4bc1-a499-1726054897c9",
   "metadata": {},
   "outputs": [],
   "source": [
    "optimizer = optim.SGD(model.parameters(), lr = 0.1)"
   ]
  },
  {
   "cell_type": "markdown",
   "id": "6139c864-71c6-4ca6-b2d4-ece9dbd2634d",
   "metadata": {},
   "source": [
    "Create the criterion function that calculates the total loss or cost:\n"
   ]
  },
  {
   "cell_type": "code",
   "execution_count": 24,
   "id": "c1c89cf5-fa65-4c9e-937a-6e6b06b70614",
   "metadata": {},
   "outputs": [],
   "source": [
    "criterion = nn.MSELoss()"
   ]
  },
  {
   "cell_type": "markdown",
   "id": "bc7173fb-fd77-498b-a203-f3f93e2c6fe1",
   "metadata": {},
   "source": [
    "Create a data loader object and set the batch_size to 5:\n"
   ]
  },
  {
   "cell_type": "code",
   "execution_count": 25,
   "id": "a388fc0d-d48f-49ed-8d08-d0caa86ebcf8",
   "metadata": {},
   "outputs": [],
   "source": [
    "train_loader=DataLoader(dataset=data_set,batch_size=5)"
   ]
  },
  {
   "cell_type": "markdown",
   "id": "5b288c70-410b-4d31-a56b-fb77f9140a2e",
   "metadata": {},
   "source": [
    "<a id=\"ref2\"></a>\n",
    "<h2 align=center>Train the Model via Mini-Batch Gradient Descent </h2>\n"
   ]
  },
  {
   "cell_type": "markdown",
   "id": "ed02a0df-80f7-456e-a729-18e7b375c133",
   "metadata": {},
   "source": [
    "Run 100 epochs of Mini-Batch Gradient Descent and store the total loss or cost for every iteration. Remember that this is an approximation of the true total loss or cost.\n"
   ]
  },
  {
   "cell_type": "code",
   "execution_count": 26,
   "id": "59f406e5-b4b7-444c-9bd3-770326736ce4",
   "metadata": {},
   "outputs": [],
   "source": [
    "LOSS=[]\n",
    " \n",
    "epochs=100\n",
    "   \n",
    "for epoch in range(epochs):\n",
    "    for x,y in train_loader:\n",
    "        #make a prediction \n",
    "        yhat=model(x)\n",
    "        #calculate the loss\n",
    "        loss=criterion(yhat,y)\n",
    "        #store loss/cost \n",
    "        LOSS.append(loss.item())\n",
    "        #clear gradient \n",
    "        optimizer.zero_grad()\n",
    "        #Backward pass: compute gradient of the loss with respect to all the learnable parameters\n",
    "        loss.backward()\n",
    "        #the step function on an Optimizer makes an update to its parameters\n",
    "        optimizer.step()\n",
    "     \n",
    "\n",
    "\n",
    "    "
   ]
  },
  {
   "cell_type": "markdown",
   "id": "c6447c08-03a9-48e4-b673-61d68e3c4f3e",
   "metadata": {},
   "source": [
    "Plot the cost:\n"
   ]
  },
  {
   "cell_type": "code",
   "execution_count": 27,
   "id": "e1fa1fab-5521-4884-bde9-6440a54364d7",
   "metadata": {},
   "outputs": [
    {
     "data": {
      "image/png": "[encoded data removed]",
      "text/plain": [
       "<Figure size 432x288 with 1 Axes>"
      ]
     },
     "metadata": {
      "needs_background": "light"
     },
     "output_type": "display_data"
    }
   ],
   "source": [
    "plt.plot(LOSS)\n",
    "plt.xlabel(\"iterations \")\n",
    "plt.ylabel(\"Cost/total loss \")\n",
    "plt.show()"
   ]
  }
 ],
 "metadata": {
  "kernelspec": {
   "display_name": "Python 3 (ipykernel)",
   "language": "python",
   "name": "python3"
  },
  "language_info": {
   "codemirror_mode": {
    "name": "ipython",
    "version": 3
   },
   "file_extension": ".py",
   "mimetype": "text/x-python",
   "name": "python",
   "nbconvert_exporter": "python",
   "pygments_lexer": "ipython3",
   "version": "3.9.12"
  }
 },
 "nbformat": 4,
 "nbformat_minor": 5
}
