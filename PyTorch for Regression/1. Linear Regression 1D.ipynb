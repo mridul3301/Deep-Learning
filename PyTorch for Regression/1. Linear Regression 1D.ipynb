{
 "cells": [
  {
   "cell_type": "code",
   "execution_count": 1,
   "id": "a5ccbebf",
   "metadata": {},
   "outputs": [],
   "source": [
    "#Import necessary libraries\n",
    "import torch"
   ]
  },
  {
   "cell_type": "markdown",
   "id": "083a62e3-2e15-4654-8b8d-9d825d6a553f",
   "metadata": {},
   "source": [
    "<h2 id=\"Prediction\">Prediction</h2>\n"
   ]
  },
  {
   "cell_type": "markdown",
   "id": "7ee734d6-5b29-418d-bfc8-c00ef50b0658",
   "metadata": {},
   "source": [
    "Let us create the following expressions:\n"
   ]
  },
  {
   "cell_type": "markdown",
   "id": "f8513cbb-2cfc-422c-9332-37c6cb72da4b",
   "metadata": {},
   "source": [
    "$b=-1,w=2$\n",
    "\n",
    "$\\hat{y}=-1+2x$\n"
   ]
  },
  {
   "cell_type": "code",
   "execution_count": 2,
   "id": "a976facd",
   "metadata": {},
   "outputs": [],
   "source": [
    "#First, let's define the parameters:\n",
    "\n",
    "w = torch.tensor(2.0, requires_grad = True)\n",
    "b = torch.tensor(-1.0, requires_grad = True)"
   ]
  },
  {
   "cell_type": "markdown",
   "id": "eb443bd2-3f02-42ac-8739-99aaa848fcff",
   "metadata": {},
   "source": [
    "Then, define the function <code>forward(x, w, b)</code> that makes the prediction: \n"
   ]
  },
  {
   "cell_type": "code",
   "execution_count": 3,
   "id": "fefe0cc3",
   "metadata": {},
   "outputs": [],
   "source": [
    "#Function forward(x) for prediction\n",
    "def forward(x):\n",
    "    yhat = w * x + b\n",
    "    return yhat"
   ]
  },
  {
   "cell_type": "markdown",
   "id": "96a01071-6a0c-47a2-8003-94744b5394df",
   "metadata": {},
   "source": [
    "Let's make the following prediction at <i>x = 1</i>\n"
   ]
  },
  {
   "cell_type": "markdown",
   "id": "78f1d865-24e4-4e6a-b8fa-b462cc3de3eb",
   "metadata": {},
   "source": [
    "$\\hat{y}=-1+2x$\n",
    "\n",
    "$\\hat{y}=-1+2(1)$\n"
   ]
  },
  {
   "cell_type": "code",
   "execution_count": 4,
   "id": "5f03b48d",
   "metadata": {},
   "outputs": [
    {
     "name": "stdout",
     "output_type": "stream",
     "text": [
      "The prediction:  tensor([[1.]], grad_fn=<AddBackward0>)\n"
     ]
    }
   ],
   "source": [
    "# Predict y = 2x - 1 at x = 1\n",
    "\n",
    "x = torch.tensor([[1.0]])\n",
    "yhat = forward(x)\n",
    "print(\"The prediction: \", yhat)"
   ]
  },
  {
   "cell_type": "markdown",
   "id": "8c8d6bc6-8887-4f41-b84f-bb54d85c913e",
   "metadata": {},
   "source": [
    "Now, let us try to make the prediction for multiple inputs:\n"
   ]
  },
  {
   "cell_type": "markdown",
   "id": "80d5466c-6681-4d23-b48e-3f8977f35640",
   "metadata": {},
   "source": [
    "<img src=\"https://s3-api.us-geo.objectstorage.softlayer.net/cf-courses-data/CognitiveClass/DL0110EN/notebook_images%20/chapter2/2.1.2.png\" width=\"500\" alt=\"Linear Regression Multiple Input Samples\">\n"
   ]
  },
  {
   "cell_type": "markdown",
   "id": "7d4d94b1-1491-4fdd-85ef-6d673cb0996c",
   "metadata": {},
   "source": [
    "Let us construct the <code>x</code> tensor first. Check the shape of <code>x</code>.\n"
   ]
  },
  {
   "cell_type": "code",
   "execution_count": 5,
   "id": "721e314d",
   "metadata": {},
   "outputs": [
    {
     "name": "stdout",
     "output_type": "stream",
     "text": [
      "The shape of x:  torch.Size([2, 1])\n"
     ]
    }
   ],
   "source": [
    "x = torch.tensor([[1.0], [2.0]])\n",
    "print(\"The shape of x: \", x.shape)"
   ]
  },
  {
   "cell_type": "code",
   "execution_count": 6,
   "id": "421a8de2",
   "metadata": {},
   "outputs": [
    {
     "name": "stdout",
     "output_type": "stream",
     "text": [
      "The prediction:  tensor([[1.],\n",
      "        [3.]], grad_fn=<AddBackward0>)\n"
     ]
    }
   ],
   "source": [
    "# Make the prediction of y = 2x - 1 at x = [1, 2]\n",
    "\n",
    "yhat = forward(x)\n",
    "print(\"The prediction: \", yhat)"
   ]
  },
  {
   "cell_type": "code",
   "execution_count": 7,
   "id": "269462d6",
   "metadata": {},
   "outputs": [
    {
     "name": "stdout",
     "output_type": "stream",
     "text": [
      "The shape of x:  torch.Size([3, 1])\n",
      "The prediction:  tensor([[1.],\n",
      "        [3.],\n",
      "        [5.]], grad_fn=<AddBackward0>)\n"
     ]
    }
   ],
   "source": [
    "#Make a prediction of y = 2x - 1 at x = [[1.0], [2.0], [3.0]]\n",
    "\n",
    "x = torch.tensor([[1.0], [2.0], [3.0]])\n",
    "print(\"The shape of x: \", x.shape)\n",
    "\n",
    "yhat = forward(x)\n",
    "print(\"The prediction: \", yhat)"
   ]
  },
  {
   "cell_type": "markdown",
   "id": "f0d9c295-a96f-457d-a689-242641e571a1",
   "metadata": {},
   "source": [
    "<h2 id=\"Linear\">Class Linear</h2>\n"
   ]
  },
  {
   "cell_type": "markdown",
   "id": "bc1f3099-5481-441f-8b35-b2f6b11647bc",
   "metadata": {},
   "source": [
    "The linear class can be used to make a prediction. We can also use the linear class to build more complex models. Let's import the module:\n"
   ]
  },
  {
   "cell_type": "code",
   "execution_count": 8,
   "id": "46e8db9d",
   "metadata": {},
   "outputs": [],
   "source": [
    "#Import Linear \n",
    "\n",
    "from torch.nn import Linear"
   ]
  },
  {
   "cell_type": "markdown",
   "id": "5079ce70-8b7d-429c-ae31-ea935c422115",
   "metadata": {},
   "source": [
    "Set the random seed for random initialization of parameters:\n"
   ]
  },
  {
   "cell_type": "code",
   "execution_count": 9,
   "id": "13bf2cef",
   "metadata": {},
   "outputs": [
    {
     "data": {
      "text/plain": [
       "<torch._C.Generator at 0x204ced89c10>"
      ]
     },
     "execution_count": 9,
     "metadata": {},
     "output_type": "execute_result"
    }
   ],
   "source": [
    "# Set random seed\n",
    "\n",
    "torch.manual_seed(1)"
   ]
  },
  {
   "cell_type": "markdown",
   "id": "61a1c98b-4bfd-4ce0-8796-1c70f33f8e83",
   "metadata": {},
   "source": [
    "Let us create the linear object by using the constructor. The parameters are randomly created. Let us print out to see what <i>w</i> and <i>b</i>. The parameters of an <code>torch.nn.Module</code> model are contained in the model’s parameters accessed with <code>lr.parameters()</code>:\n"
   ]
  },
  {
   "cell_type": "code",
   "execution_count": 10,
   "id": "7a6d0c6f",
   "metadata": {},
   "outputs": [
    {
     "name": "stdout",
     "output_type": "stream",
     "text": [
      "Parameters w and b:  [Parameter containing:\n",
      "tensor([[0.5153]], requires_grad=True), Parameter containing:\n",
      "tensor([-0.4414], requires_grad=True)]\n"
     ]
    }
   ],
   "source": [
    "# Create Linear Regression Model, and print out the parameters\n",
    "\n",
    "lr = Linear(in_features=1, out_features=1, bias=True)\n",
    "print(\"Parameters w and b: \", list(lr.parameters()))\n"
   ]
  },
  {
   "cell_type": "markdown",
   "id": "9a32c96d-2b5b-4580-9b12-088df636ca6c",
   "metadata": {},
   "source": [
    "This is equivalent to the following expression:  \n"
   ]
  },
  {
   "cell_type": "markdown",
   "id": "d1d22890-7e96-4df8-94e7-a7c58d07b474",
   "metadata": {},
   "source": [
    "$b=-0.44, w=0.5153$\n",
    "\n",
    "$\\hat{y}=-0.44+0.5153x$\n"
   ]
  },
  {
   "cell_type": "markdown",
   "id": "8ed41cb0-6f84-4048-82a5-5d591211da2c",
   "metadata": {},
   "source": [
    "A method  <code>state_dict()</code> Returns a Python dictionary object corresponding to the layers of each parameter  tensor. \n"
   ]
  },
  {
   "cell_type": "code",
   "execution_count": 11,
   "id": "4c0acbf8",
   "metadata": {},
   "outputs": [
    {
     "name": "stdout",
     "output_type": "stream",
     "text": [
      "Python dictionary:  OrderedDict([('weight', tensor([[0.5153]])), ('bias', tensor([-0.4414]))])\n",
      "keys:  odict_keys(['weight', 'bias'])\n",
      "values:  odict_values([tensor([[0.5153]]), tensor([-0.4414])])\n"
     ]
    }
   ],
   "source": [
    "print(\"Python dictionary: \",lr.state_dict())\n",
    "print(\"keys: \",lr.state_dict().keys())\n",
    "print(\"values: \",lr.state_dict().values())"
   ]
  },
  {
   "cell_type": "markdown",
   "id": "2ff093ef-2d53-4cb9-a526-8fea0335bd67",
   "metadata": {},
   "source": [
    "The keys correspond to the name of the attributes and the values correspond to the parameter value.\n"
   ]
  },
  {
   "cell_type": "code",
   "execution_count": 12,
   "id": "0c9292d3-86ac-4bd4-9ac3-140b3b46b453",
   "metadata": {},
   "outputs": [
    {
     "name": "stdout",
     "output_type": "stream",
     "text": [
      "weight: Parameter containing:\n",
      "tensor([[0.5153]], requires_grad=True)\n",
      "bias: Parameter containing:\n",
      "tensor([-0.4414], requires_grad=True)\n"
     ]
    }
   ],
   "source": [
    "print(\"weight:\",lr.weight)\n",
    "print(\"bias:\",lr.bias)"
   ]
  },
  {
   "cell_type": "markdown",
   "id": "0f14b0dc-baf4-4ef4-ab75-e82a5a4c1f5a",
   "metadata": {},
   "source": [
    "Now let us make a single prediction at <i>x = [[1.0]]</i>.\n"
   ]
  },
  {
   "cell_type": "code",
   "execution_count": 13,
   "id": "f8dc5691-01f1-4c5a-94f8-2d3ab3f3182d",
   "metadata": {},
   "outputs": [
    {
     "name": "stdout",
     "output_type": "stream",
     "text": [
      "The prediction:  tensor([[0.0739]], grad_fn=<AddmmBackward0>)\n"
     ]
    }
   ],
   "source": [
    "# Make the prediction at x = [[1.0]]\n",
    "\n",
    "x = torch.tensor([[1.0]])\n",
    "yhat = lr(x)\n",
    "print(\"The prediction: \", yhat)"
   ]
  },
  {
   "cell_type": "markdown",
   "id": "131c9a14-9e83-4a7b-82e6-7cb02bb06d98",
   "metadata": {},
   "source": [
    "Similarly, we can make multiple predictions:\n"
   ]
  },
  {
   "cell_type": "markdown",
   "id": "d1877165-4b3a-42bc-9f99-afa9e6948d48",
   "metadata": {},
   "source": [
    "<img src=\"https://s3-api.us-geo.objectstorage.softlayer.net/cf-courses-data/CognitiveClass/DL0110EN/notebook_images%20/chapter2/2.1.2vector_function.png\" width=\"500\" alt=\"Linear Class Sample with Multiple Inputs\">\n"
   ]
  },
  {
   "cell_type": "markdown",
   "id": "d7f4312e-677b-4e1c-b354-eea7cb211455",
   "metadata": {},
   "source": [
    "Use model <code>lr(x)</code> to predict the result.\n"
   ]
  },
  {
   "cell_type": "code",
   "execution_count": 14,
   "id": "9605034d-a00e-4555-a2dd-138d01e240e4",
   "metadata": {},
   "outputs": [
    {
     "name": "stdout",
     "output_type": "stream",
     "text": [
      "The prediction:  tensor([[0.0739],\n",
      "        [0.5891]], grad_fn=<AddmmBackward0>)\n"
     ]
    }
   ],
   "source": [
    "# Create the prediction using linear model\n",
    "\n",
    "x = torch.tensor([[1.0], [2.0]])\n",
    "yhat = lr(x)\n",
    "print(\"The prediction: \", yhat)"
   ]
  },
  {
   "cell_type": "code",
   "execution_count": 15,
   "id": "6316d7a0",
   "metadata": {},
   "outputs": [
    {
     "name": "stdout",
     "output_type": "stream",
     "text": [
      "The shape of x:  torch.Size([3, 1])\n",
      "The prediction:  tensor([[0.0739],\n",
      "        [0.5891],\n",
      "        [1.1044]], grad_fn=<AddmmBackward0>)\n"
     ]
    }
   ],
   "source": [
    "#Make a prediction at x = [[1.0], [2.0], [3.0]]\n",
    "\n",
    "x = torch.tensor([[1.0], [2.0], [3.0]])\n",
    "print(\"The shape of x: \", x.shape)\n",
    "\n",
    "yhat = lr(x)\n",
    "print(\"The prediction: \", yhat)"
   ]
  },
  {
   "cell_type": "markdown",
   "id": "12d7885a-0a24-47b3-9acf-7c6853255775",
   "metadata": {},
   "source": [
    "<h2 id=\"Cust\">Building Custom Modules</h2>\n"
   ]
  },
  {
   "cell_type": "markdown",
   "id": "2f3197d3-97ae-4c59-99b5-365e92624e6f",
   "metadata": {},
   "source": [
    "Now, let's build a custom module. We can make more complex models by using this method later on. \n"
   ]
  },
  {
   "cell_type": "markdown",
   "id": "c464917d-04d0-4b4a-bb05-61dd0b62f850",
   "metadata": {},
   "source": [
    "First, import the nn module from torch.\n"
   ]
  },
  {
   "cell_type": "code",
   "execution_count": 16,
   "id": "534458d5",
   "metadata": {},
   "outputs": [],
   "source": [
    "from torch import nn"
   ]
  },
  {
   "cell_type": "code",
   "execution_count": 17,
   "id": "c8bfdcfe",
   "metadata": {},
   "outputs": [],
   "source": [
    "#Define a class for Linear Regression\n",
    "\n",
    "\n",
    "class LR(nn.Module):\n",
    "    \n",
    "    #Constructor\n",
    "    def __init__(self, input_size, output_size):\n",
    "        \n",
    "        #Inherit from parent\n",
    "        super(LR, self).__init__()\n",
    "        self.linear = nn.Linear(input_size, output_size)\n",
    "        \n",
    "        \n",
    "    #Prediction function\n",
    "    def forward(self, x):\n",
    "        out = self.linear(x)\n",
    "        return out"
   ]
  },
  {
   "cell_type": "markdown",
   "id": "6b3b991e-7903-48d4-8f4b-47a563fa7ad9",
   "metadata": {},
   "source": [
    "Create an object by using the constructor. Print out the parameters we get and the model.\n"
   ]
  },
  {
   "cell_type": "code",
   "execution_count": 18,
   "id": "ffe48a22-89f9-4cdc-9ac1-5c97cdbb1978",
   "metadata": {},
   "outputs": [
    {
     "name": "stdout",
     "output_type": "stream",
     "text": [
      "The parameters:  [Parameter containing:\n",
      "tensor([[-0.1939]], requires_grad=True), Parameter containing:\n",
      "tensor([0.4694], requires_grad=True)]\n",
      "Linear model:  Linear(in_features=1, out_features=1, bias=True)\n"
     ]
    }
   ],
   "source": [
    "# Create the linear regression model. Print out the parameters.\n",
    "\n",
    "lr = LR(1, 1)\n",
    "print(\"The parameters: \", list(lr.parameters()))\n",
    "print(\"Linear model: \", lr.linear)"
   ]
  },
  {
   "cell_type": "markdown",
   "id": "16eeacb6-8d01-4d3a-882b-b85b1feb22b0",
   "metadata": {},
   "source": [
    "Let us try to make a prediction of a single input sample.\n"
   ]
  },
  {
   "cell_type": "code",
   "execution_count": 19,
   "id": "733b85c7-958a-4626-b616-dc5fb2b90325",
   "metadata": {},
   "outputs": [
    {
     "name": "stdout",
     "output_type": "stream",
     "text": [
      "The prediction:  tensor([[0.2755]], grad_fn=<AddmmBackward0>)\n"
     ]
    }
   ],
   "source": [
    "# Try our customize linear regression model with single input\n",
    "\n",
    "x = torch.tensor([[1.0]])\n",
    "yhat = lr(x)\n",
    "print(\"The prediction: \", yhat)"
   ]
  },
  {
   "cell_type": "markdown",
   "id": "52bddee2-1bb3-475c-807e-195e013a65f8",
   "metadata": {},
   "source": [
    "Now, let us try another example with multiple samples.\n"
   ]
  },
  {
   "cell_type": "code",
   "execution_count": 20,
   "id": "651b8fdc-8d26-418c-aa73-c19b3ce427e3",
   "metadata": {},
   "outputs": [
    {
     "name": "stdout",
     "output_type": "stream",
     "text": [
      "The prediction:  tensor([[0.2755],\n",
      "        [0.0816]], grad_fn=<AddmmBackward0>)\n"
     ]
    }
   ],
   "source": [
    "# Try our customize linear regression model with multiple input\n",
    "\n",
    "x = torch.tensor([[1.0], [2.0]])\n",
    "yhat = lr(x)\n",
    "print(\"The prediction: \", yhat)"
   ]
  },
  {
   "cell_type": "markdown",
   "id": "cd227cf2-9760-4370-8139-e91351d23b90",
   "metadata": {},
   "source": [
    "the parameters are also stored in an ordered dictionary :\n"
   ]
  },
  {
   "cell_type": "code",
   "execution_count": 21,
   "id": "cabfccba-ce3b-44f4-975a-9b283b3a02ff",
   "metadata": {},
   "outputs": [
    {
     "name": "stdout",
     "output_type": "stream",
     "text": [
      "Python dictionary:  OrderedDict([('linear.weight', tensor([[-0.1939]])), ('linear.bias', tensor([0.4694]))])\n",
      "keys:  odict_keys(['linear.weight', 'linear.bias'])\n",
      "values:  odict_values([tensor([[-0.1939]]), tensor([0.4694])])\n"
     ]
    }
   ],
   "source": [
    "print(\"Python dictionary: \", lr.state_dict())\n",
    "print(\"keys: \",lr.state_dict().keys())\n",
    "print(\"values: \",lr.state_dict().values())\n"
   ]
  },
  {
   "cell_type": "code",
   "execution_count": 22,
   "id": "625e1561",
   "metadata": {},
   "outputs": [
    {
     "name": "stdout",
     "output_type": "stream",
     "text": [
      "The shape of x:  torch.Size([3, 1])\n",
      "The prediction:  tensor([[ 0.2755],\n",
      "        [ 0.0816],\n",
      "        [-0.1122]], grad_fn=<AddmmBackward0>)\n"
     ]
    }
   ],
   "source": [
    "#Make a prediction at x = [[1.0], [2.0], [3.0]]\n",
    "\n",
    "x = torch.tensor([[1.0], [2.0], [3.0]])\n",
    "print(\"The shape of x: \", x.shape)\n",
    "\n",
    "yhat = lr(x)\n",
    "print(\"The prediction: \", yhat)"
   ]
  }
 ],
 "metadata": {
  "kernelspec": {
   "display_name": "Python 3 (ipykernel)",
   "language": "python",
   "name": "python3"
  },
  "language_info": {
   "codemirror_mode": {
    "name": "ipython",
    "version": 3
   },
   "file_extension": ".py",
   "mimetype": "text/x-python",
   "name": "python",
   "nbconvert_exporter": "python",
   "pygments_lexer": "ipython3",
   "version": "3.9.12"
  }
 },
 "nbformat": 4,
 "nbformat_minor": 5
}
