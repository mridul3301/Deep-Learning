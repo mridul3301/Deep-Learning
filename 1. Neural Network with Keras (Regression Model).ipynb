{
 "cells": [
  {
   "cell_type": "markdown",
   "id": "fc8cce9d",
   "metadata": {},
   "source": [
    "Keras is a high-level API for building deep learning models. It has gained favor for its ease of use and syntactic simplicity facilitating fast development."
   ]
  },
  {
   "cell_type": "code",
   "execution_count": 1,
   "id": "731d3ab2",
   "metadata": {},
   "outputs": [],
   "source": [
    "#Importing Numpy and Pandas\n",
    "import pandas as pd\n",
    "import numpy as np"
   ]
  },
  {
   "cell_type": "code",
   "execution_count": 2,
   "id": "3b6f19e4",
   "metadata": {},
   "outputs": [
    {
     "data": {
      "text/html": [
       "<div>\n",
       "<style scoped>\n",
       "    .dataframe tbody tr th:only-of-type {\n",
       "        vertical-align: middle;\n",
       "    }\n",
       "\n",
       "    .dataframe tbody tr th {\n",
       "        vertical-align: top;\n",
       "    }\n",
       "\n",
       "    .dataframe thead th {\n",
       "        text-align: right;\n",
       "    }\n",
       "</style>\n",
       "<table border=\"1\" class=\"dataframe\">\n",
       "  <thead>\n",
       "    <tr style=\"text-align: right;\">\n",
       "      <th></th>\n",
       "      <th>Cement</th>\n",
       "      <th>Blast Furnace Slag</th>\n",
       "      <th>Fly Ash</th>\n",
       "      <th>Water</th>\n",
       "      <th>Superplasticizer</th>\n",
       "      <th>Coarse Aggregate</th>\n",
       "      <th>Fine Aggregate</th>\n",
       "      <th>Age</th>\n",
       "      <th>Strength</th>\n",
       "    </tr>\n",
       "  </thead>\n",
       "  <tbody>\n",
       "    <tr>\n",
       "      <th>0</th>\n",
       "      <td>540.0</td>\n",
       "      <td>0.0</td>\n",
       "      <td>0.0</td>\n",
       "      <td>162.0</td>\n",
       "      <td>2.5</td>\n",
       "      <td>1040.0</td>\n",
       "      <td>676.0</td>\n",
       "      <td>28</td>\n",
       "      <td>79.99</td>\n",
       "    </tr>\n",
       "    <tr>\n",
       "      <th>1</th>\n",
       "      <td>540.0</td>\n",
       "      <td>0.0</td>\n",
       "      <td>0.0</td>\n",
       "      <td>162.0</td>\n",
       "      <td>2.5</td>\n",
       "      <td>1055.0</td>\n",
       "      <td>676.0</td>\n",
       "      <td>28</td>\n",
       "      <td>61.89</td>\n",
       "    </tr>\n",
       "    <tr>\n",
       "      <th>2</th>\n",
       "      <td>332.5</td>\n",
       "      <td>142.5</td>\n",
       "      <td>0.0</td>\n",
       "      <td>228.0</td>\n",
       "      <td>0.0</td>\n",
       "      <td>932.0</td>\n",
       "      <td>594.0</td>\n",
       "      <td>270</td>\n",
       "      <td>40.27</td>\n",
       "    </tr>\n",
       "    <tr>\n",
       "      <th>3</th>\n",
       "      <td>332.5</td>\n",
       "      <td>142.5</td>\n",
       "      <td>0.0</td>\n",
       "      <td>228.0</td>\n",
       "      <td>0.0</td>\n",
       "      <td>932.0</td>\n",
       "      <td>594.0</td>\n",
       "      <td>365</td>\n",
       "      <td>41.05</td>\n",
       "    </tr>\n",
       "    <tr>\n",
       "      <th>4</th>\n",
       "      <td>198.6</td>\n",
       "      <td>132.4</td>\n",
       "      <td>0.0</td>\n",
       "      <td>192.0</td>\n",
       "      <td>0.0</td>\n",
       "      <td>978.4</td>\n",
       "      <td>825.5</td>\n",
       "      <td>360</td>\n",
       "      <td>44.30</td>\n",
       "    </tr>\n",
       "  </tbody>\n",
       "</table>\n",
       "</div>"
      ],
      "text/plain": [
       "   Cement  Blast Furnace Slag  Fly Ash  Water  Superplasticizer  \\\n",
       "0   540.0                 0.0      0.0  162.0               2.5   \n",
       "1   540.0                 0.0      0.0  162.0               2.5   \n",
       "2   332.5               142.5      0.0  228.0               0.0   \n",
       "3   332.5               142.5      0.0  228.0               0.0   \n",
       "4   198.6               132.4      0.0  192.0               0.0   \n",
       "\n",
       "   Coarse Aggregate  Fine Aggregate  Age  Strength  \n",
       "0            1040.0           676.0   28     79.99  \n",
       "1            1055.0           676.0   28     61.89  \n",
       "2             932.0           594.0  270     40.27  \n",
       "3             932.0           594.0  365     41.05  \n",
       "4             978.4           825.5  360     44.30  "
      ]
     },
     "execution_count": 2,
     "metadata": {},
     "output_type": "execute_result"
    }
   ],
   "source": [
    "#Read data and load it into a pandas dataframe\n",
    "concrete_data = pd.read_csv('concrete_data.csv')\n",
    "concrete_data.head()"
   ]
  },
  {
   "cell_type": "markdown",
   "id": "e480b9de",
   "metadata": {},
   "source": [
    "The dataset is about the compressive strength of different samples of concrete based on the volumes of the different ingredients that were used to make them. Ingredients include:\n",
    "\n",
    "1. Cement\n",
    "\n",
    "2. Blast Furnace Slag\n",
    "\n",
    "3. Fly Ash\n",
    "\n",
    "4. Water\n",
    "\n",
    "5. Superplasticizer\n",
    "\n",
    "6. Coarse Aggregate\n",
    "\n",
    "7. Fine Aggregate"
   ]
  },
  {
   "cell_type": "markdown",
   "id": "20f3ab0f",
   "metadata": {},
   "source": [
    "So the first concrete sample has 540 cubic meter of cement, 0 cubic meter of blast furnace slag, 0 cubic meter of fly ash, 162 cubic meter of water, 2.5 cubic meter of superplaticizer, 1040 cubic meter of coarse aggregate, 676 cubic meter of fine aggregate. Such a concrete mix which is 28 days old, has a compressive strength of 79.99 MPa.\n"
   ]
  },
  {
   "cell_type": "markdown",
   "id": "afa3c01d",
   "metadata": {},
   "source": [
    "Let's do some obervations on our data."
   ]
  },
  {
   "cell_type": "code",
   "execution_count": 3,
   "id": "2fb46b4c",
   "metadata": {},
   "outputs": [
    {
     "data": {
      "text/plain": [
       "(1030, 9)"
      ]
     },
     "execution_count": 3,
     "metadata": {},
     "output_type": "execute_result"
    }
   ],
   "source": [
    "#Number of rows and columns.\n",
    "concrete_data.shape"
   ]
  },
  {
   "cell_type": "code",
   "execution_count": 4,
   "id": "88e4322d",
   "metadata": {},
   "outputs": [
    {
     "data": {
      "text/html": [
       "<div>\n",
       "<style scoped>\n",
       "    .dataframe tbody tr th:only-of-type {\n",
       "        vertical-align: middle;\n",
       "    }\n",
       "\n",
       "    .dataframe tbody tr th {\n",
       "        vertical-align: top;\n",
       "    }\n",
       "\n",
       "    .dataframe thead th {\n",
       "        text-align: right;\n",
       "    }\n",
       "</style>\n",
       "<table border=\"1\" class=\"dataframe\">\n",
       "  <thead>\n",
       "    <tr style=\"text-align: right;\">\n",
       "      <th></th>\n",
       "      <th>Cement</th>\n",
       "      <th>Blast Furnace Slag</th>\n",
       "      <th>Fly Ash</th>\n",
       "      <th>Water</th>\n",
       "      <th>Superplasticizer</th>\n",
       "      <th>Coarse Aggregate</th>\n",
       "      <th>Fine Aggregate</th>\n",
       "      <th>Age</th>\n",
       "      <th>Strength</th>\n",
       "    </tr>\n",
       "  </thead>\n",
       "  <tbody>\n",
       "    <tr>\n",
       "      <th>count</th>\n",
       "      <td>1030.000000</td>\n",
       "      <td>1030.000000</td>\n",
       "      <td>1030.000000</td>\n",
       "      <td>1030.000000</td>\n",
       "      <td>1030.000000</td>\n",
       "      <td>1030.000000</td>\n",
       "      <td>1030.000000</td>\n",
       "      <td>1030.000000</td>\n",
       "      <td>1030.000000</td>\n",
       "    </tr>\n",
       "    <tr>\n",
       "      <th>mean</th>\n",
       "      <td>281.167864</td>\n",
       "      <td>73.895825</td>\n",
       "      <td>54.188350</td>\n",
       "      <td>181.567282</td>\n",
       "      <td>6.204660</td>\n",
       "      <td>972.918932</td>\n",
       "      <td>773.580485</td>\n",
       "      <td>45.662136</td>\n",
       "      <td>35.817961</td>\n",
       "    </tr>\n",
       "    <tr>\n",
       "      <th>std</th>\n",
       "      <td>104.506364</td>\n",
       "      <td>86.279342</td>\n",
       "      <td>63.997004</td>\n",
       "      <td>21.354219</td>\n",
       "      <td>5.973841</td>\n",
       "      <td>77.753954</td>\n",
       "      <td>80.175980</td>\n",
       "      <td>63.169912</td>\n",
       "      <td>16.705742</td>\n",
       "    </tr>\n",
       "    <tr>\n",
       "      <th>min</th>\n",
       "      <td>102.000000</td>\n",
       "      <td>0.000000</td>\n",
       "      <td>0.000000</td>\n",
       "      <td>121.800000</td>\n",
       "      <td>0.000000</td>\n",
       "      <td>801.000000</td>\n",
       "      <td>594.000000</td>\n",
       "      <td>1.000000</td>\n",
       "      <td>2.330000</td>\n",
       "    </tr>\n",
       "    <tr>\n",
       "      <th>25%</th>\n",
       "      <td>192.375000</td>\n",
       "      <td>0.000000</td>\n",
       "      <td>0.000000</td>\n",
       "      <td>164.900000</td>\n",
       "      <td>0.000000</td>\n",
       "      <td>932.000000</td>\n",
       "      <td>730.950000</td>\n",
       "      <td>7.000000</td>\n",
       "      <td>23.710000</td>\n",
       "    </tr>\n",
       "    <tr>\n",
       "      <th>50%</th>\n",
       "      <td>272.900000</td>\n",
       "      <td>22.000000</td>\n",
       "      <td>0.000000</td>\n",
       "      <td>185.000000</td>\n",
       "      <td>6.400000</td>\n",
       "      <td>968.000000</td>\n",
       "      <td>779.500000</td>\n",
       "      <td>28.000000</td>\n",
       "      <td>34.445000</td>\n",
       "    </tr>\n",
       "    <tr>\n",
       "      <th>75%</th>\n",
       "      <td>350.000000</td>\n",
       "      <td>142.950000</td>\n",
       "      <td>118.300000</td>\n",
       "      <td>192.000000</td>\n",
       "      <td>10.200000</td>\n",
       "      <td>1029.400000</td>\n",
       "      <td>824.000000</td>\n",
       "      <td>56.000000</td>\n",
       "      <td>46.135000</td>\n",
       "    </tr>\n",
       "    <tr>\n",
       "      <th>max</th>\n",
       "      <td>540.000000</td>\n",
       "      <td>359.400000</td>\n",
       "      <td>200.100000</td>\n",
       "      <td>247.000000</td>\n",
       "      <td>32.200000</td>\n",
       "      <td>1145.000000</td>\n",
       "      <td>992.600000</td>\n",
       "      <td>365.000000</td>\n",
       "      <td>82.600000</td>\n",
       "    </tr>\n",
       "  </tbody>\n",
       "</table>\n",
       "</div>"
      ],
      "text/plain": [
       "            Cement  Blast Furnace Slag      Fly Ash        Water  \\\n",
       "count  1030.000000         1030.000000  1030.000000  1030.000000   \n",
       "mean    281.167864           73.895825    54.188350   181.567282   \n",
       "std     104.506364           86.279342    63.997004    21.354219   \n",
       "min     102.000000            0.000000     0.000000   121.800000   \n",
       "25%     192.375000            0.000000     0.000000   164.900000   \n",
       "50%     272.900000           22.000000     0.000000   185.000000   \n",
       "75%     350.000000          142.950000   118.300000   192.000000   \n",
       "max     540.000000          359.400000   200.100000   247.000000   \n",
       "\n",
       "       Superplasticizer  Coarse Aggregate  Fine Aggregate          Age  \\\n",
       "count       1030.000000       1030.000000     1030.000000  1030.000000   \n",
       "mean           6.204660        972.918932      773.580485    45.662136   \n",
       "std            5.973841         77.753954       80.175980    63.169912   \n",
       "min            0.000000        801.000000      594.000000     1.000000   \n",
       "25%            0.000000        932.000000      730.950000     7.000000   \n",
       "50%            6.400000        968.000000      779.500000    28.000000   \n",
       "75%           10.200000       1029.400000      824.000000    56.000000   \n",
       "max           32.200000       1145.000000      992.600000   365.000000   \n",
       "\n",
       "          Strength  \n",
       "count  1030.000000  \n",
       "mean     35.817961  \n",
       "std      16.705742  \n",
       "min       2.330000  \n",
       "25%      23.710000  \n",
       "50%      34.445000  \n",
       "75%      46.135000  \n",
       "max      82.600000  "
      ]
     },
     "execution_count": 4,
     "metadata": {},
     "output_type": "execute_result"
    }
   ],
   "source": [
    "concrete_data.describe()"
   ]
  },
  {
   "cell_type": "markdown",
   "id": "3b1b166e",
   "metadata": {},
   "source": [
    "So, there are approximately 1000 samples to train our model on. Because of the few samples, we have to be careful not to overfit the training data.\n"
   ]
  },
  {
   "cell_type": "code",
   "execution_count": 5,
   "id": "4bd5c076",
   "metadata": {},
   "outputs": [
    {
     "data": {
      "text/plain": [
       "Cement                0\n",
       "Blast Furnace Slag    0\n",
       "Fly Ash               0\n",
       "Water                 0\n",
       "Superplasticizer      0\n",
       "Coarse Aggregate      0\n",
       "Fine Aggregate        0\n",
       "Age                   0\n",
       "Strength              0\n",
       "dtype: int64"
      ]
     },
     "execution_count": 5,
     "metadata": {},
     "output_type": "execute_result"
    }
   ],
   "source": [
    "#Checking for the missing values.\n",
    "concrete_data.isnull().sum()"
   ]
  },
  {
   "cell_type": "markdown",
   "id": "e48ed869",
   "metadata": {},
   "source": [
    "The data looks very clean and is ready to be used to build our model."
   ]
  },
  {
   "cell_type": "markdown",
   "id": "35ccabfb",
   "metadata": {},
   "source": [
    "Next step is to split data into predicting features and target values."
   ]
  },
  {
   "cell_type": "code",
   "execution_count": 6,
   "id": "3e813e88",
   "metadata": {},
   "outputs": [],
   "source": [
    "concrete_data_columns = concrete_data.columns\n",
    "\n",
    "predictors = concrete_data[concrete_data_columns[concrete_data_columns != 'Strength']] # all columns except Strength\n",
    "target = concrete_data['Strength'] # Strength column"
   ]
  },
  {
   "cell_type": "code",
   "execution_count": 7,
   "id": "60ab93d7",
   "metadata": {},
   "outputs": [
    {
     "data": {
      "text/html": [
       "<div>\n",
       "<style scoped>\n",
       "    .dataframe tbody tr th:only-of-type {\n",
       "        vertical-align: middle;\n",
       "    }\n",
       "\n",
       "    .dataframe tbody tr th {\n",
       "        vertical-align: top;\n",
       "    }\n",
       "\n",
       "    .dataframe thead th {\n",
       "        text-align: right;\n",
       "    }\n",
       "</style>\n",
       "<table border=\"1\" class=\"dataframe\">\n",
       "  <thead>\n",
       "    <tr style=\"text-align: right;\">\n",
       "      <th></th>\n",
       "      <th>Cement</th>\n",
       "      <th>Blast Furnace Slag</th>\n",
       "      <th>Fly Ash</th>\n",
       "      <th>Water</th>\n",
       "      <th>Superplasticizer</th>\n",
       "      <th>Coarse Aggregate</th>\n",
       "      <th>Fine Aggregate</th>\n",
       "      <th>Age</th>\n",
       "    </tr>\n",
       "  </thead>\n",
       "  <tbody>\n",
       "    <tr>\n",
       "      <th>0</th>\n",
       "      <td>540.0</td>\n",
       "      <td>0.0</td>\n",
       "      <td>0.0</td>\n",
       "      <td>162.0</td>\n",
       "      <td>2.5</td>\n",
       "      <td>1040.0</td>\n",
       "      <td>676.0</td>\n",
       "      <td>28</td>\n",
       "    </tr>\n",
       "    <tr>\n",
       "      <th>1</th>\n",
       "      <td>540.0</td>\n",
       "      <td>0.0</td>\n",
       "      <td>0.0</td>\n",
       "      <td>162.0</td>\n",
       "      <td>2.5</td>\n",
       "      <td>1055.0</td>\n",
       "      <td>676.0</td>\n",
       "      <td>28</td>\n",
       "    </tr>\n",
       "    <tr>\n",
       "      <th>2</th>\n",
       "      <td>332.5</td>\n",
       "      <td>142.5</td>\n",
       "      <td>0.0</td>\n",
       "      <td>228.0</td>\n",
       "      <td>0.0</td>\n",
       "      <td>932.0</td>\n",
       "      <td>594.0</td>\n",
       "      <td>270</td>\n",
       "    </tr>\n",
       "    <tr>\n",
       "      <th>3</th>\n",
       "      <td>332.5</td>\n",
       "      <td>142.5</td>\n",
       "      <td>0.0</td>\n",
       "      <td>228.0</td>\n",
       "      <td>0.0</td>\n",
       "      <td>932.0</td>\n",
       "      <td>594.0</td>\n",
       "      <td>365</td>\n",
       "    </tr>\n",
       "    <tr>\n",
       "      <th>4</th>\n",
       "      <td>198.6</td>\n",
       "      <td>132.4</td>\n",
       "      <td>0.0</td>\n",
       "      <td>192.0</td>\n",
       "      <td>0.0</td>\n",
       "      <td>978.4</td>\n",
       "      <td>825.5</td>\n",
       "      <td>360</td>\n",
       "    </tr>\n",
       "  </tbody>\n",
       "</table>\n",
       "</div>"
      ],
      "text/plain": [
       "   Cement  Blast Furnace Slag  Fly Ash  Water  Superplasticizer  \\\n",
       "0   540.0                 0.0      0.0  162.0               2.5   \n",
       "1   540.0                 0.0      0.0  162.0               2.5   \n",
       "2   332.5               142.5      0.0  228.0               0.0   \n",
       "3   332.5               142.5      0.0  228.0               0.0   \n",
       "4   198.6               132.4      0.0  192.0               0.0   \n",
       "\n",
       "   Coarse Aggregate  Fine Aggregate  Age  \n",
       "0            1040.0           676.0   28  \n",
       "1            1055.0           676.0   28  \n",
       "2             932.0           594.0  270  \n",
       "3             932.0           594.0  365  \n",
       "4             978.4           825.5  360  "
      ]
     },
     "execution_count": 7,
     "metadata": {},
     "output_type": "execute_result"
    }
   ],
   "source": [
    "predictors.head()"
   ]
  },
  {
   "cell_type": "code",
   "execution_count": 8,
   "id": "24aa6a64",
   "metadata": {},
   "outputs": [
    {
     "data": {
      "text/plain": [
       "0    79.99\n",
       "1    61.89\n",
       "2    40.27\n",
       "3    41.05\n",
       "4    44.30\n",
       "Name: Strength, dtype: float64"
      ]
     },
     "execution_count": 8,
     "metadata": {},
     "output_type": "execute_result"
    }
   ],
   "source": [
    "target.head()"
   ]
  },
  {
   "cell_type": "markdown",
   "id": "8a7621db",
   "metadata": {},
   "source": [
    "Normalize the data using StandardScaler"
   ]
  },
  {
   "cell_type": "code",
   "execution_count": 9,
   "id": "f4e97651",
   "metadata": {},
   "outputs": [],
   "source": [
    "from sklearn.preprocessing import StandardScaler\n",
    "scaler = StandardScaler()"
   ]
  },
  {
   "cell_type": "code",
   "execution_count": 10,
   "id": "e3af84ed",
   "metadata": {},
   "outputs": [
    {
     "data": {
      "text/plain": [
       "StandardScaler()"
      ]
     },
     "execution_count": 10,
     "metadata": {},
     "output_type": "execute_result"
    }
   ],
   "source": [
    "scaler.fit(predictors.values)"
   ]
  },
  {
   "cell_type": "markdown",
   "id": "e3f1e6aa",
   "metadata": {},
   "source": [
    "We are doing *predictors.values* because StandardScaler takes numpy array as input."
   ]
  },
  {
   "cell_type": "code",
   "execution_count": 11,
   "id": "bb1941f8",
   "metadata": {},
   "outputs": [],
   "source": [
    "x = scaler.transform(predictors.values)"
   ]
  },
  {
   "cell_type": "code",
   "execution_count": 12,
   "id": "280e48bf",
   "metadata": {},
   "outputs": [],
   "source": [
    "predictors_norm = pd.DataFrame(x, columns = ['Cement', 'Blast Furnace Slag', 'Fly Ash', 'Water', 'Superplasticizer', 'Coarse Aggregate', 'Fine Aggregate', 'Age'])"
   ]
  },
  {
   "cell_type": "markdown",
   "id": "e8b001cb",
   "metadata": {},
   "source": [
    "The above step converts the normalized numpy array to dataframe."
   ]
  },
  {
   "cell_type": "code",
   "execution_count": 13,
   "id": "9da7a0ac",
   "metadata": {},
   "outputs": [
    {
     "data": {
      "text/html": [
       "<div>\n",
       "<style scoped>\n",
       "    .dataframe tbody tr th:only-of-type {\n",
       "        vertical-align: middle;\n",
       "    }\n",
       "\n",
       "    .dataframe tbody tr th {\n",
       "        vertical-align: top;\n",
       "    }\n",
       "\n",
       "    .dataframe thead th {\n",
       "        text-align: right;\n",
       "    }\n",
       "</style>\n",
       "<table border=\"1\" class=\"dataframe\">\n",
       "  <thead>\n",
       "    <tr style=\"text-align: right;\">\n",
       "      <th></th>\n",
       "      <th>Cement</th>\n",
       "      <th>Blast Furnace Slag</th>\n",
       "      <th>Fly Ash</th>\n",
       "      <th>Water</th>\n",
       "      <th>Superplasticizer</th>\n",
       "      <th>Coarse Aggregate</th>\n",
       "      <th>Fine Aggregate</th>\n",
       "      <th>Age</th>\n",
       "    </tr>\n",
       "  </thead>\n",
       "  <tbody>\n",
       "    <tr>\n",
       "      <th>0</th>\n",
       "      <td>2.477915</td>\n",
       "      <td>-0.856888</td>\n",
       "      <td>-0.847144</td>\n",
       "      <td>-0.916764</td>\n",
       "      <td>-0.620448</td>\n",
       "      <td>0.863154</td>\n",
       "      <td>-1.217670</td>\n",
       "      <td>-0.279733</td>\n",
       "    </tr>\n",
       "    <tr>\n",
       "      <th>1</th>\n",
       "      <td>2.477915</td>\n",
       "      <td>-0.856888</td>\n",
       "      <td>-0.847144</td>\n",
       "      <td>-0.916764</td>\n",
       "      <td>-0.620448</td>\n",
       "      <td>1.056164</td>\n",
       "      <td>-1.217670</td>\n",
       "      <td>-0.279733</td>\n",
       "    </tr>\n",
       "    <tr>\n",
       "      <th>2</th>\n",
       "      <td>0.491425</td>\n",
       "      <td>0.795526</td>\n",
       "      <td>-0.847144</td>\n",
       "      <td>2.175461</td>\n",
       "      <td>-1.039143</td>\n",
       "      <td>-0.526517</td>\n",
       "      <td>-2.240917</td>\n",
       "      <td>3.553066</td>\n",
       "    </tr>\n",
       "    <tr>\n",
       "      <th>3</th>\n",
       "      <td>0.491425</td>\n",
       "      <td>0.795526</td>\n",
       "      <td>-0.847144</td>\n",
       "      <td>2.175461</td>\n",
       "      <td>-1.039143</td>\n",
       "      <td>-0.526517</td>\n",
       "      <td>-2.240917</td>\n",
       "      <td>5.057677</td>\n",
       "    </tr>\n",
       "    <tr>\n",
       "      <th>4</th>\n",
       "      <td>-0.790459</td>\n",
       "      <td>0.678408</td>\n",
       "      <td>-0.847144</td>\n",
       "      <td>0.488793</td>\n",
       "      <td>-1.039143</td>\n",
       "      <td>0.070527</td>\n",
       "      <td>0.647884</td>\n",
       "      <td>4.978487</td>\n",
       "    </tr>\n",
       "  </tbody>\n",
       "</table>\n",
       "</div>"
      ],
      "text/plain": [
       "     Cement  Blast Furnace Slag   Fly Ash     Water  Superplasticizer  \\\n",
       "0  2.477915           -0.856888 -0.847144 -0.916764         -0.620448   \n",
       "1  2.477915           -0.856888 -0.847144 -0.916764         -0.620448   \n",
       "2  0.491425            0.795526 -0.847144  2.175461         -1.039143   \n",
       "3  0.491425            0.795526 -0.847144  2.175461         -1.039143   \n",
       "4 -0.790459            0.678408 -0.847144  0.488793         -1.039143   \n",
       "\n",
       "   Coarse Aggregate  Fine Aggregate       Age  \n",
       "0          0.863154       -1.217670 -0.279733  \n",
       "1          1.056164       -1.217670 -0.279733  \n",
       "2         -0.526517       -2.240917  3.553066  \n",
       "3         -0.526517       -2.240917  5.057677  \n",
       "4          0.070527        0.647884  4.978487  "
      ]
     },
     "execution_count": 13,
     "metadata": {},
     "output_type": "execute_result"
    }
   ],
   "source": [
    "predictors_norm.head()"
   ]
  },
  {
   "cell_type": "markdown",
   "id": "1b94ab8c",
   "metadata": {},
   "source": [
    "Let's save the number of predictors to n_cols since we will need this number when building our network."
   ]
  },
  {
   "cell_type": "code",
   "execution_count": 14,
   "id": "59f1dd42",
   "metadata": {},
   "outputs": [],
   "source": [
    "n_cols = predictors_norm.shape[1] # number of predictors"
   ]
  },
  {
   "cell_type": "markdown",
   "id": "f170579f",
   "metadata": {},
   "source": [
    "### Building a Neural Network"
   ]
  },
  {
   "cell_type": "code",
   "execution_count": 15,
   "id": "709c6d56",
   "metadata": {},
   "outputs": [],
   "source": [
    "#Importing Keras\n",
    "import keras"
   ]
  },
  {
   "cell_type": "markdown",
   "id": "5d36ecc5",
   "metadata": {},
   "source": [
    "Let's import the rest of the packages from the Keras library that we will need to build our regressoin model."
   ]
  },
  {
   "cell_type": "code",
   "execution_count": 16,
   "id": "13b0fd58",
   "metadata": {},
   "outputs": [],
   "source": [
    "from keras.models import Sequential\n",
    "from keras.layers import Dense"
   ]
  },
  {
   "cell_type": "markdown",
   "id": "28e9ebb3",
   "metadata": {},
   "source": [
    "Let's define a function that defines our regression model for us so that we can conveniently call it to create our model.\n"
   ]
  },
  {
   "cell_type": "code",
   "execution_count": 17,
   "id": "7019f5a2",
   "metadata": {},
   "outputs": [],
   "source": [
    "# define regression model\n",
    "def keras_regression_model():\n",
    "    # create model\n",
    "    model = Sequential()\n",
    "    model.add(Dense(50, activation='relu', input_shape=(n_cols,)))\n",
    "    model.add(Dense(50, activation='relu'))\n",
    "    model.add(Dense(1))\n",
    "    \n",
    "    # compile model\n",
    "    model.compile(optimizer='adam', loss='mean_squared_error')\n",
    "    return model"
   ]
  },
  {
   "cell_type": "markdown",
   "id": "d500a006",
   "metadata": {},
   "source": [
    "***Sequential()*** groups a linear stack of layers into a ***tf.keras.Model***.\n",
    "It provides training and inference features on this model.\n",
    "\n",
    "***.add()*** method is used to add layers to our NN model.\n",
    "\n",
    "***Dense()*** parameter is used to denote that the we will have regular deeply connected neural network layer.\n",
    "\n",
    "***50*** inside *Dense* means that the layer will have 50 hidden units.\n",
    "\n",
    "***activation = 'relu'*** means that the *Rectified Linear Unit* will be used as activation function.\n",
    "\n",
    "***.compile()*** is used for backpropagation purpose. The ***optimizer = 'adam'*** argument is used to optimize the weights and multipliers of Neural Network using *adam* method and the ***loss = 'meas_squared_error'*** means that the method used to calculate error is *MSE*.\n",
    "\n",
    "\n",
    "\n",
    "Thus, the above function create a model that has two hidden layers, each of 50 hidden units."
   ]
  },
  {
   "cell_type": "markdown",
   "id": "5ebc98e6",
   "metadata": {},
   "source": [
    "Call the function to create our model:"
   ]
  },
  {
   "cell_type": "code",
   "execution_count": 18,
   "id": "cd429155",
   "metadata": {},
   "outputs": [],
   "source": [
    "#Calling function to create our linear regression model\n",
    "model0 = keras_regression_model()"
   ]
  },
  {
   "cell_type": "markdown",
   "id": "9821b4ac",
   "metadata": {},
   "source": [
    "Next, we will train and test the model at the same time using the fit method. We will leave out 30% of the data for validation and we will train the model for 100 epochs."
   ]
  },
  {
   "cell_type": "code",
   "execution_count": 19,
   "id": "e3cebe7a",
   "metadata": {},
   "outputs": [
    {
     "name": "stdout",
     "output_type": "stream",
     "text": [
      "Epoch 1/186\n",
      "23/23 - 3s - loss: 1636.2999 - val_loss: 1130.6218 - 3s/epoch - 118ms/step\n",
      "Epoch 2/186\n",
      "23/23 - 0s - loss: 1487.8763 - val_loss: 996.9717 - 82ms/epoch - 4ms/step\n",
      "Epoch 3/186\n",
      "23/23 - 0s - loss: 1239.7844 - val_loss: 794.3533 - 85ms/epoch - 4ms/step\n",
      "Epoch 4/186\n",
      "23/23 - 0s - loss: 883.3925 - val_loss: 550.5178 - 92ms/epoch - 4ms/step\n",
      "Epoch 5/186\n",
      "23/23 - 0s - loss: 530.0326 - val_loss: 346.8819 - 90ms/epoch - 4ms/step\n",
      "Epoch 6/186\n",
      "23/23 - 0s - loss: 315.2227 - val_loss: 238.8395 - 78ms/epoch - 3ms/step\n",
      "Epoch 7/186\n",
      "23/23 - 0s - loss: 255.1444 - val_loss: 196.4919 - 97ms/epoch - 4ms/step\n",
      "Epoch 8/186\n",
      "23/23 - 0s - loss: 231.7724 - val_loss: 181.6910 - 100ms/epoch - 4ms/step\n",
      "Epoch 9/186\n",
      "23/23 - 0s - loss: 218.5944 - val_loss: 169.3574 - 78ms/epoch - 3ms/step\n",
      "Epoch 10/186\n",
      "23/23 - 0s - loss: 208.6519 - val_loss: 162.8996 - 126ms/epoch - 5ms/step\n",
      "Epoch 11/186\n",
      "23/23 - 0s - loss: 200.1312 - val_loss: 158.2448 - 87ms/epoch - 4ms/step\n",
      "Epoch 12/186\n",
      "23/23 - 0s - loss: 193.3105 - val_loss: 153.8675 - 84ms/epoch - 4ms/step\n",
      "Epoch 13/186\n",
      "23/23 - 0s - loss: 187.3159 - val_loss: 151.4670 - 87ms/epoch - 4ms/step\n",
      "Epoch 14/186\n",
      "23/23 - 0s - loss: 181.7527 - val_loss: 148.7170 - 75ms/epoch - 3ms/step\n",
      "Epoch 15/186\n",
      "23/23 - 0s - loss: 177.1177 - val_loss: 142.7882 - 78ms/epoch - 3ms/step\n",
      "Epoch 16/186\n",
      "23/23 - 0s - loss: 172.7566 - val_loss: 143.7324 - 101ms/epoch - 4ms/step\n",
      "Epoch 17/186\n",
      "23/23 - 0s - loss: 168.9011 - val_loss: 141.2513 - 106ms/epoch - 5ms/step\n",
      "Epoch 18/186\n",
      "23/23 - 0s - loss: 164.6428 - val_loss: 139.7440 - 84ms/epoch - 4ms/step\n",
      "Epoch 19/186\n",
      "23/23 - 0s - loss: 161.5443 - val_loss: 138.6212 - 90ms/epoch - 4ms/step\n",
      "Epoch 20/186\n",
      "23/23 - 0s - loss: 158.6290 - val_loss: 137.5140 - 78ms/epoch - 3ms/step\n",
      "Epoch 21/186\n",
      "23/23 - 0s - loss: 156.0700 - val_loss: 136.9609 - 63ms/epoch - 3ms/step\n",
      "Epoch 22/186\n",
      "23/23 - 0s - loss: 152.9866 - val_loss: 137.3015 - 63ms/epoch - 3ms/step\n",
      "Epoch 23/186\n",
      "23/23 - 0s - loss: 150.9805 - val_loss: 137.4216 - 63ms/epoch - 3ms/step\n",
      "Epoch 24/186\n",
      "23/23 - 0s - loss: 148.9989 - val_loss: 138.0834 - 62ms/epoch - 3ms/step\n",
      "Epoch 25/186\n",
      "23/23 - 0s - loss: 147.0689 - val_loss: 138.1944 - 78ms/epoch - 3ms/step\n",
      "Epoch 26/186\n",
      "23/23 - 0s - loss: 145.4558 - val_loss: 138.4956 - 63ms/epoch - 3ms/step\n",
      "Epoch 27/186\n",
      "23/23 - 0s - loss: 143.7410 - val_loss: 136.9933 - 62ms/epoch - 3ms/step\n",
      "Epoch 28/186\n",
      "23/23 - 0s - loss: 142.2813 - val_loss: 138.3246 - 70ms/epoch - 3ms/step\n",
      "Epoch 29/186\n",
      "23/23 - 0s - loss: 140.4657 - val_loss: 139.4964 - 75ms/epoch - 3ms/step\n",
      "Epoch 30/186\n",
      "23/23 - 0s - loss: 139.8347 - val_loss: 139.0125 - 82ms/epoch - 4ms/step\n",
      "Epoch 31/186\n",
      "23/23 - 0s - loss: 138.1777 - val_loss: 138.4721 - 70ms/epoch - 3ms/step\n",
      "Epoch 32/186\n",
      "23/23 - 0s - loss: 136.7439 - val_loss: 142.6020 - 98ms/epoch - 4ms/step\n",
      "Epoch 33/186\n",
      "23/23 - 0s - loss: 135.6591 - val_loss: 141.4747 - 81ms/epoch - 4ms/step\n",
      "Epoch 34/186\n",
      "23/23 - 0s - loss: 134.9303 - val_loss: 142.3836 - 76ms/epoch - 3ms/step\n",
      "Epoch 35/186\n",
      "23/23 - 0s - loss: 133.8908 - val_loss: 140.6555 - 67ms/epoch - 3ms/step\n",
      "Epoch 36/186\n",
      "23/23 - 0s - loss: 132.6625 - val_loss: 144.8394 - 67ms/epoch - 3ms/step\n",
      "Epoch 37/186\n",
      "23/23 - 0s - loss: 131.0906 - val_loss: 142.3455 - 75ms/epoch - 3ms/step\n",
      "Epoch 38/186\n",
      "23/23 - 0s - loss: 130.3047 - val_loss: 145.5556 - 75ms/epoch - 3ms/step\n",
      "Epoch 39/186\n",
      "23/23 - 0s - loss: 129.2547 - val_loss: 146.2260 - 82ms/epoch - 4ms/step\n",
      "Epoch 40/186\n",
      "23/23 - 0s - loss: 128.7349 - val_loss: 145.0665 - 86ms/epoch - 4ms/step\n",
      "Epoch 41/186\n",
      "23/23 - 0s - loss: 127.4816 - val_loss: 143.3311 - 75ms/epoch - 3ms/step\n",
      "Epoch 42/186\n",
      "23/23 - 0s - loss: 127.3225 - val_loss: 147.6720 - 76ms/epoch - 3ms/step\n",
      "Epoch 43/186\n",
      "23/23 - 0s - loss: 126.0790 - val_loss: 144.5178 - 91ms/epoch - 4ms/step\n",
      "Epoch 44/186\n",
      "23/23 - 0s - loss: 125.2188 - val_loss: 147.5396 - 74ms/epoch - 3ms/step\n",
      "Epoch 45/186\n",
      "23/23 - 0s - loss: 124.4338 - val_loss: 144.0188 - 93ms/epoch - 4ms/step\n",
      "Epoch 46/186\n",
      "23/23 - 0s - loss: 123.5006 - val_loss: 147.3661 - 184ms/epoch - 8ms/step\n",
      "Epoch 47/186\n",
      "23/23 - 0s - loss: 122.8920 - val_loss: 144.9019 - 94ms/epoch - 4ms/step\n",
      "Epoch 48/186\n",
      "23/23 - 0s - loss: 122.3697 - val_loss: 148.3357 - 91ms/epoch - 4ms/step\n",
      "Epoch 49/186\n",
      "23/23 - 0s - loss: 121.2125 - val_loss: 147.2724 - 95ms/epoch - 4ms/step\n",
      "Epoch 50/186\n",
      "23/23 - 0s - loss: 121.0074 - val_loss: 144.0336 - 78ms/epoch - 3ms/step\n",
      "Epoch 51/186\n",
      "23/23 - 0s - loss: 120.2301 - val_loss: 148.3591 - 84ms/epoch - 4ms/step\n",
      "Epoch 52/186\n",
      "23/23 - 0s - loss: 119.6379 - val_loss: 147.1184 - 107ms/epoch - 5ms/step\n",
      "Epoch 53/186\n",
      "23/23 - 0s - loss: 118.3417 - val_loss: 147.9837 - 97ms/epoch - 4ms/step\n",
      "Epoch 54/186\n",
      "23/23 - 0s - loss: 117.3269 - val_loss: 147.3234 - 70ms/epoch - 3ms/step\n",
      "Epoch 55/186\n",
      "23/23 - 0s - loss: 116.2599 - val_loss: 148.2051 - 77ms/epoch - 3ms/step\n",
      "Epoch 56/186\n",
      "23/23 - 0s - loss: 115.8233 - val_loss: 145.4110 - 80ms/epoch - 3ms/step\n",
      "Epoch 57/186\n",
      "23/23 - 0s - loss: 114.4734 - val_loss: 145.2687 - 73ms/epoch - 3ms/step\n",
      "Epoch 58/186\n",
      "23/23 - 0s - loss: 113.7279 - val_loss: 146.0212 - 75ms/epoch - 3ms/step\n",
      "Epoch 59/186\n",
      "23/23 - 0s - loss: 112.5192 - val_loss: 147.7354 - 68ms/epoch - 3ms/step\n",
      "Epoch 60/186\n",
      "23/23 - 0s - loss: 112.7975 - val_loss: 147.2941 - 74ms/epoch - 3ms/step\n",
      "Epoch 61/186\n",
      "23/23 - 0s - loss: 109.6975 - val_loss: 147.6392 - 69ms/epoch - 3ms/step\n",
      "Epoch 62/186\n",
      "23/23 - 0s - loss: 109.2792 - val_loss: 144.9565 - 70ms/epoch - 3ms/step\n",
      "Epoch 63/186\n",
      "23/23 - 0s - loss: 107.4905 - val_loss: 149.1087 - 68ms/epoch - 3ms/step\n",
      "Epoch 64/186\n",
      "23/23 - 0s - loss: 105.2250 - val_loss: 145.9828 - 70ms/epoch - 3ms/step\n",
      "Epoch 65/186\n",
      "23/23 - 0s - loss: 103.8525 - val_loss: 142.6690 - 69ms/epoch - 3ms/step\n",
      "Epoch 66/186\n",
      "23/23 - 0s - loss: 101.9553 - val_loss: 145.6648 - 71ms/epoch - 3ms/step\n",
      "Epoch 67/186\n",
      "23/23 - 0s - loss: 100.1919 - val_loss: 143.0916 - 74ms/epoch - 3ms/step\n",
      "Epoch 68/186\n",
      "23/23 - 0s - loss: 98.0360 - val_loss: 145.6799 - 69ms/epoch - 3ms/step\n",
      "Epoch 69/186\n",
      "23/23 - 0s - loss: 95.1603 - val_loss: 144.3279 - 72ms/epoch - 3ms/step\n",
      "Epoch 70/186\n",
      "23/23 - 0s - loss: 93.3883 - val_loss: 139.9572 - 81ms/epoch - 4ms/step\n",
      "Epoch 71/186\n",
      "23/23 - 0s - loss: 90.7604 - val_loss: 139.5908 - 85ms/epoch - 4ms/step\n",
      "Epoch 72/186\n",
      "23/23 - 0s - loss: 89.6062 - val_loss: 138.4819 - 88ms/epoch - 4ms/step\n",
      "Epoch 73/186\n",
      "23/23 - 0s - loss: 86.3729 - val_loss: 138.6185 - 93ms/epoch - 4ms/step\n",
      "Epoch 74/186\n",
      "23/23 - 0s - loss: 83.6631 - val_loss: 135.1006 - 91ms/epoch - 4ms/step\n",
      "Epoch 75/186\n",
      "23/23 - 0s - loss: 81.7101 - val_loss: 133.2964 - 83ms/epoch - 4ms/step\n",
      "Epoch 76/186\n",
      "23/23 - 0s - loss: 79.0971 - val_loss: 130.8221 - 114ms/epoch - 5ms/step\n",
      "Epoch 77/186\n",
      "23/23 - 0s - loss: 76.1541 - val_loss: 137.0181 - 204ms/epoch - 9ms/step\n",
      "Epoch 78/186\n",
      "23/23 - 0s - loss: 74.5957 - val_loss: 128.7141 - 77ms/epoch - 3ms/step\n",
      "Epoch 79/186\n",
      "23/23 - 0s - loss: 71.1589 - val_loss: 135.2093 - 76ms/epoch - 3ms/step\n",
      "Epoch 80/186\n",
      "23/23 - 0s - loss: 70.4526 - val_loss: 135.4515 - 80ms/epoch - 3ms/step\n",
      "Epoch 81/186\n",
      "23/23 - 0s - loss: 67.1323 - val_loss: 126.3753 - 88ms/epoch - 4ms/step\n",
      "Epoch 82/186\n",
      "23/23 - 0s - loss: 65.1205 - val_loss: 121.7472 - 81ms/epoch - 4ms/step\n",
      "Epoch 83/186\n",
      "23/23 - 0s - loss: 63.8929 - val_loss: 125.6448 - 85ms/epoch - 4ms/step\n",
      "Epoch 84/186\n",
      "23/23 - 0s - loss: 61.1672 - val_loss: 125.4198 - 68ms/epoch - 3ms/step\n",
      "Epoch 85/186\n",
      "23/23 - 0s - loss: 58.9543 - val_loss: 121.4205 - 82ms/epoch - 4ms/step\n",
      "Epoch 86/186\n",
      "23/23 - 0s - loss: 57.2452 - val_loss: 122.8594 - 71ms/epoch - 3ms/step\n",
      "Epoch 87/186\n",
      "23/23 - 0s - loss: 56.7957 - val_loss: 123.1194 - 78ms/epoch - 3ms/step\n",
      "Epoch 88/186\n",
      "23/23 - 0s - loss: 55.5032 - val_loss: 116.8473 - 62ms/epoch - 3ms/step\n",
      "Epoch 89/186\n",
      "23/23 - 0s - loss: 53.1116 - val_loss: 115.1224 - 99ms/epoch - 4ms/step\n",
      "Epoch 90/186\n",
      "23/23 - 0s - loss: 51.5207 - val_loss: 126.0328 - 93ms/epoch - 4ms/step\n",
      "Epoch 91/186\n",
      "23/23 - 0s - loss: 49.9826 - val_loss: 101.9221 - 89ms/epoch - 4ms/step\n",
      "Epoch 92/186\n",
      "23/23 - 0s - loss: 49.2612 - val_loss: 114.1674 - 94ms/epoch - 4ms/step\n",
      "Epoch 93/186\n",
      "23/23 - 0s - loss: 47.4419 - val_loss: 116.8813 - 92ms/epoch - 4ms/step\n",
      "Epoch 94/186\n",
      "23/23 - 0s - loss: 46.2454 - val_loss: 115.1999 - 83ms/epoch - 4ms/step\n",
      "Epoch 95/186\n",
      "23/23 - 0s - loss: 45.1836 - val_loss: 113.6417 - 79ms/epoch - 3ms/step\n",
      "Epoch 96/186\n",
      "23/23 - 0s - loss: 44.4704 - val_loss: 116.2211 - 80ms/epoch - 3ms/step\n"
     ]
    },
    {
     "name": "stdout",
     "output_type": "stream",
     "text": [
      "Epoch 97/186\n",
      "23/23 - 0s - loss: 43.5229 - val_loss: 118.4534 - 99ms/epoch - 4ms/step\n",
      "Epoch 98/186\n",
      "23/23 - 0s - loss: 42.6569 - val_loss: 110.1935 - 65ms/epoch - 3ms/step\n",
      "Epoch 99/186\n",
      "23/23 - 0s - loss: 42.7116 - val_loss: 106.8406 - 65ms/epoch - 3ms/step\n",
      "Epoch 100/186\n",
      "23/23 - 0s - loss: 41.5459 - val_loss: 117.0172 - 75ms/epoch - 3ms/step\n",
      "Epoch 101/186\n",
      "23/23 - 0s - loss: 40.4105 - val_loss: 109.8989 - 80ms/epoch - 3ms/step\n",
      "Epoch 102/186\n",
      "23/23 - 0s - loss: 39.6602 - val_loss: 116.5273 - 116ms/epoch - 5ms/step\n",
      "Epoch 103/186\n",
      "23/23 - 0s - loss: 39.0084 - val_loss: 118.5092 - 106ms/epoch - 5ms/step\n",
      "Epoch 104/186\n",
      "23/23 - 0s - loss: 38.4584 - val_loss: 121.5420 - 76ms/epoch - 3ms/step\n",
      "Epoch 105/186\n",
      "23/23 - 0s - loss: 38.2102 - val_loss: 112.5428 - 72ms/epoch - 3ms/step\n",
      "Epoch 106/186\n",
      "23/23 - 0s - loss: 37.4162 - val_loss: 117.8145 - 79ms/epoch - 3ms/step\n",
      "Epoch 107/186\n",
      "23/23 - 0s - loss: 37.2161 - val_loss: 122.0356 - 79ms/epoch - 3ms/step\n",
      "Epoch 108/186\n",
      "23/23 - 0s - loss: 36.5973 - val_loss: 115.4113 - 72ms/epoch - 3ms/step\n",
      "Epoch 109/186\n",
      "23/23 - 0s - loss: 36.0444 - val_loss: 120.9573 - 98ms/epoch - 4ms/step\n",
      "Epoch 110/186\n",
      "23/23 - 0s - loss: 35.9260 - val_loss: 109.2435 - 88ms/epoch - 4ms/step\n",
      "Epoch 111/186\n",
      "23/23 - 0s - loss: 35.3425 - val_loss: 119.3962 - 87ms/epoch - 4ms/step\n",
      "Epoch 112/186\n",
      "23/23 - 0s - loss: 35.2487 - val_loss: 111.3818 - 86ms/epoch - 4ms/step\n",
      "Epoch 113/186\n",
      "23/23 - 0s - loss: 34.6402 - val_loss: 125.3503 - 90ms/epoch - 4ms/step\n",
      "Epoch 114/186\n",
      "23/23 - 0s - loss: 34.8136 - val_loss: 119.5715 - 86ms/epoch - 4ms/step\n",
      "Epoch 115/186\n",
      "23/23 - 0s - loss: 33.9608 - val_loss: 116.4757 - 109ms/epoch - 5ms/step\n",
      "Epoch 116/186\n",
      "23/23 - 0s - loss: 34.0254 - val_loss: 113.0174 - 89ms/epoch - 4ms/step\n",
      "Epoch 117/186\n",
      "23/23 - 0s - loss: 33.5284 - val_loss: 119.0835 - 85ms/epoch - 4ms/step\n",
      "Epoch 118/186\n",
      "23/23 - 0s - loss: 33.3735 - val_loss: 126.2199 - 84ms/epoch - 4ms/step\n",
      "Epoch 119/186\n",
      "23/23 - 0s - loss: 33.0561 - val_loss: 122.9222 - 91ms/epoch - 4ms/step\n",
      "Epoch 120/186\n",
      "23/23 - 0s - loss: 32.6554 - val_loss: 116.8286 - 104ms/epoch - 5ms/step\n",
      "Epoch 121/186\n",
      "23/23 - 0s - loss: 32.4540 - val_loss: 116.3506 - 84ms/epoch - 4ms/step\n",
      "Epoch 122/186\n",
      "23/23 - 0s - loss: 32.0837 - val_loss: 120.9067 - 74ms/epoch - 3ms/step\n",
      "Epoch 123/186\n",
      "23/23 - 0s - loss: 32.2051 - val_loss: 117.7728 - 76ms/epoch - 3ms/step\n",
      "Epoch 124/186\n",
      "23/23 - 0s - loss: 32.2364 - val_loss: 122.9548 - 67ms/epoch - 3ms/step\n",
      "Epoch 125/186\n",
      "23/23 - 0s - loss: 31.6872 - val_loss: 108.4525 - 83ms/epoch - 4ms/step\n",
      "Epoch 126/186\n",
      "23/23 - 0s - loss: 31.6264 - val_loss: 114.7679 - 74ms/epoch - 3ms/step\n",
      "Epoch 127/186\n",
      "23/23 - 0s - loss: 31.2616 - val_loss: 122.0131 - 69ms/epoch - 3ms/step\n",
      "Epoch 128/186\n",
      "23/23 - 0s - loss: 31.1215 - val_loss: 113.5229 - 76ms/epoch - 3ms/step\n",
      "Epoch 129/186\n",
      "23/23 - 0s - loss: 32.0666 - val_loss: 119.2348 - 86ms/epoch - 4ms/step\n",
      "Epoch 130/186\n",
      "23/23 - 0s - loss: 30.4684 - val_loss: 116.7682 - 99ms/epoch - 4ms/step\n",
      "Epoch 131/186\n",
      "23/23 - 0s - loss: 30.5561 - val_loss: 116.6911 - 60ms/epoch - 3ms/step\n",
      "Epoch 132/186\n",
      "23/23 - 0s - loss: 30.0576 - val_loss: 123.2920 - 63ms/epoch - 3ms/step\n",
      "Epoch 133/186\n",
      "23/23 - 0s - loss: 30.0604 - val_loss: 120.8149 - 77ms/epoch - 3ms/step\n",
      "Epoch 134/186\n",
      "23/23 - 0s - loss: 29.6453 - val_loss: 118.2113 - 74ms/epoch - 3ms/step\n",
      "Epoch 135/186\n",
      "23/23 - 0s - loss: 29.5082 - val_loss: 115.5827 - 172ms/epoch - 7ms/step\n",
      "Epoch 136/186\n",
      "23/23 - 0s - loss: 29.4117 - val_loss: 128.1888 - 62ms/epoch - 3ms/step\n",
      "Epoch 137/186\n",
      "23/23 - 0s - loss: 29.3872 - val_loss: 117.1689 - 106ms/epoch - 5ms/step\n",
      "Epoch 138/186\n",
      "23/23 - 0s - loss: 28.8314 - val_loss: 115.3493 - 84ms/epoch - 4ms/step\n",
      "Epoch 139/186\n",
      "23/23 - 0s - loss: 28.8110 - val_loss: 120.8603 - 68ms/epoch - 3ms/step\n",
      "Epoch 140/186\n",
      "23/23 - 0s - loss: 28.7048 - val_loss: 122.2562 - 63ms/epoch - 3ms/step\n",
      "Epoch 141/186\n",
      "23/23 - 0s - loss: 28.6172 - val_loss: 122.6332 - 62ms/epoch - 3ms/step\n",
      "Epoch 142/186\n",
      "23/23 - 0s - loss: 28.1026 - val_loss: 114.4735 - 83ms/epoch - 4ms/step\n",
      "Epoch 143/186\n",
      "23/23 - 0s - loss: 28.6455 - val_loss: 117.0076 - 84ms/epoch - 4ms/step\n",
      "Epoch 144/186\n",
      "23/23 - 0s - loss: 28.5759 - val_loss: 114.3907 - 80ms/epoch - 3ms/step\n",
      "Epoch 145/186\n",
      "23/23 - 0s - loss: 27.9867 - val_loss: 124.1719 - 55ms/epoch - 2ms/step\n",
      "Epoch 146/186\n",
      "23/23 - 0s - loss: 27.8099 - val_loss: 118.5086 - 78ms/epoch - 3ms/step\n",
      "Epoch 147/186\n",
      "23/23 - 0s - loss: 27.7948 - val_loss: 117.3155 - 75ms/epoch - 3ms/step\n",
      "Epoch 148/186\n",
      "23/23 - 0s - loss: 27.4859 - val_loss: 119.7920 - 108ms/epoch - 5ms/step\n",
      "Epoch 149/186\n",
      "23/23 - 0s - loss: 27.4435 - val_loss: 125.3322 - 86ms/epoch - 4ms/step\n",
      "Epoch 150/186\n",
      "23/23 - 0s - loss: 27.0310 - val_loss: 115.4332 - 99ms/epoch - 4ms/step\n",
      "Epoch 151/186\n",
      "23/23 - 0s - loss: 27.8498 - val_loss: 121.6141 - 99ms/epoch - 4ms/step\n",
      "Epoch 152/186\n",
      "23/23 - 0s - loss: 27.1571 - val_loss: 118.2319 - 92ms/epoch - 4ms/step\n",
      "Epoch 153/186\n",
      "23/23 - 0s - loss: 26.8504 - val_loss: 116.1623 - 95ms/epoch - 4ms/step\n",
      "Epoch 154/186\n",
      "23/23 - 0s - loss: 26.7593 - val_loss: 118.5579 - 85ms/epoch - 4ms/step\n",
      "Epoch 155/186\n",
      "23/23 - 0s - loss: 26.4114 - val_loss: 121.3148 - 114ms/epoch - 5ms/step\n",
      "Epoch 156/186\n",
      "23/23 - 0s - loss: 26.4277 - val_loss: 121.0228 - 84ms/epoch - 4ms/step\n",
      "Epoch 157/186\n",
      "23/23 - 0s - loss: 26.6470 - val_loss: 119.7733 - 77ms/epoch - 3ms/step\n",
      "Epoch 158/186\n",
      "23/23 - 0s - loss: 26.0708 - val_loss: 110.8058 - 103ms/epoch - 4ms/step\n",
      "Epoch 159/186\n",
      "23/23 - 0s - loss: 26.6332 - val_loss: 117.8828 - 103ms/epoch - 4ms/step\n",
      "Epoch 160/186\n",
      "23/23 - 0s - loss: 25.9003 - val_loss: 116.0872 - 76ms/epoch - 3ms/step\n",
      "Epoch 161/186\n",
      "23/23 - 0s - loss: 25.9013 - val_loss: 108.5421 - 89ms/epoch - 4ms/step\n",
      "Epoch 162/186\n",
      "23/23 - 0s - loss: 25.8297 - val_loss: 117.6783 - 83ms/epoch - 4ms/step\n",
      "Epoch 163/186\n",
      "23/23 - 0s - loss: 26.2695 - val_loss: 130.9810 - 74ms/epoch - 3ms/step\n",
      "Epoch 164/186\n",
      "23/23 - 0s - loss: 26.0166 - val_loss: 121.2539 - 85ms/epoch - 4ms/step\n",
      "Epoch 165/186\n",
      "23/23 - 0s - loss: 25.5191 - val_loss: 112.5420 - 87ms/epoch - 4ms/step\n",
      "Epoch 166/186\n",
      "23/23 - 0s - loss: 25.1280 - val_loss: 116.2171 - 76ms/epoch - 3ms/step\n",
      "Epoch 167/186\n",
      "23/23 - 0s - loss: 24.9676 - val_loss: 121.6202 - 71ms/epoch - 3ms/step\n",
      "Epoch 168/186\n",
      "23/23 - 0s - loss: 25.0461 - val_loss: 111.6137 - 87ms/epoch - 4ms/step\n",
      "Epoch 169/186\n",
      "23/23 - 0s - loss: 24.8467 - val_loss: 112.6175 - 73ms/epoch - 3ms/step\n",
      "Epoch 170/186\n",
      "23/23 - 0s - loss: 24.6493 - val_loss: 112.4505 - 71ms/epoch - 3ms/step\n",
      "Epoch 171/186\n",
      "23/23 - 0s - loss: 24.7402 - val_loss: 120.2195 - 89ms/epoch - 4ms/step\n",
      "Epoch 172/186\n",
      "23/23 - 0s - loss: 24.5943 - val_loss: 110.9571 - 93ms/epoch - 4ms/step\n",
      "Epoch 173/186\n",
      "23/23 - 0s - loss: 24.5476 - val_loss: 118.4711 - 75ms/epoch - 3ms/step\n",
      "Epoch 174/186\n",
      "23/23 - 0s - loss: 24.3445 - val_loss: 114.3336 - 84ms/epoch - 4ms/step\n",
      "Epoch 175/186\n",
      "23/23 - 0s - loss: 24.0679 - val_loss: 116.3226 - 77ms/epoch - 3ms/step\n",
      "Epoch 176/186\n",
      "23/23 - 0s - loss: 24.0602 - val_loss: 106.9807 - 76ms/epoch - 3ms/step\n",
      "Epoch 177/186\n",
      "23/23 - 0s - loss: 23.9012 - val_loss: 109.8059 - 85ms/epoch - 4ms/step\n",
      "Epoch 178/186\n",
      "23/23 - 0s - loss: 24.2318 - val_loss: 113.2309 - 83ms/epoch - 4ms/step\n",
      "Epoch 179/186\n",
      "23/23 - 0s - loss: 23.6552 - val_loss: 114.0004 - 70ms/epoch - 3ms/step\n",
      "Epoch 180/186\n",
      "23/23 - 0s - loss: 23.6701 - val_loss: 112.1598 - 71ms/epoch - 3ms/step\n",
      "Epoch 181/186\n",
      "23/23 - 0s - loss: 23.6318 - val_loss: 119.6662 - 63ms/epoch - 3ms/step\n",
      "Epoch 182/186\n",
      "23/23 - 0s - loss: 23.5704 - val_loss: 110.4406 - 78ms/epoch - 3ms/step\n",
      "Epoch 183/186\n",
      "23/23 - 0s - loss: 24.2363 - val_loss: 119.5676 - 90ms/epoch - 4ms/step\n",
      "Epoch 184/186\n",
      "23/23 - 0s - loss: 23.4150 - val_loss: 119.0213 - 105ms/epoch - 5ms/step\n",
      "Epoch 185/186\n",
      "23/23 - 0s - loss: 23.5030 - val_loss: 118.4147 - 88ms/epoch - 4ms/step\n",
      "Epoch 186/186\n",
      "23/23 - 0s - loss: 23.3237 - val_loss: 114.1428 - 82ms/epoch - 4ms/step\n"
     ]
    },
    {
     "data": {
      "text/plain": [
       "<keras.callbacks.History at 0x19cad6597c0>"
      ]
     },
     "execution_count": 19,
     "metadata": {},
     "output_type": "execute_result"
    }
   ],
   "source": [
    "# fit the model\n",
    "model0.fit(predictors_norm, target, validation_split=0.3, epochs=186, verbose=2)"
   ]
  },
  {
   "cell_type": "markdown",
   "id": "4f8ef555",
   "metadata": {},
   "source": [
    "In ***model.fit()***, \\\n",
    "***predictors_norm** is the normalized feature of our dataset\\\n",
    "***target*** is the output\\\n",
    "***validation_split = 0.3***. It takes a float between 0 and 1. It defines the fraction of the training data to be used as validation data. The model will set apart this fraction of the training data, will not train on it, and will evaluate the loss and any model metrics on this data at the end of each epoch.In our case, 30% of data will be used for validation.\\\n",
    "***epoch = 100***. It takes integer values and is used to define the number of epoch to train a model. An epoch is an iteration over the entire x and y data provided.\\\n",
    "***verbose = 2***.'auto', 0, 1, or 2. Defines Verbosity mode. 0 = silent, 1 = progress bar, 2 = one line per epoch. 'auto' defaults to 1 for most cases, but 2 when used with ParameterServerStrategy."
   ]
  },
  {
   "cell_type": "markdown",
   "id": "6032708e",
   "metadata": {},
   "source": [
    "### Predicting"
   ]
  },
  {
   "cell_type": "markdown",
   "id": "7346d557",
   "metadata": {},
   "source": [
    "Let's provide a numpy array for prediction."
   ]
  },
  {
   "cell_type": "code",
   "execution_count": 20,
   "id": "306b71ef",
   "metadata": {},
   "outputs": [],
   "source": [
    "x = np.array([[545.0, 0.0, 0.0, 165.0, 2.6, 1045.0, 678.0, 27]])"
   ]
  },
  {
   "cell_type": "code",
   "execution_count": 21,
   "id": "e0f21fad",
   "metadata": {},
   "outputs": [],
   "source": [
    "x_norm = scaler.transform(x)"
   ]
  },
  {
   "cell_type": "code",
   "execution_count": 22,
   "id": "998c3c45",
   "metadata": {},
   "outputs": [
    {
     "name": "stdout",
     "output_type": "stream",
     "text": [
      "1/1 [==============================] - 0s 351ms/step\n"
     ]
    },
    {
     "data": {
      "text/plain": [
       "array([[70.54525]], dtype=float32)"
      ]
     },
     "execution_count": 22,
     "metadata": {},
     "output_type": "execute_result"
    }
   ],
   "source": [
    "model0.predict(x_norm, verbose = 1)"
   ]
  },
  {
   "cell_type": "code",
   "execution_count": 23,
   "id": "5f367517",
   "metadata": {},
   "outputs": [],
   "source": [
    "x2 = np.array([[332.5, 142.5, 0.0, 228.0, 0.0, 932.0, 594.0, 365]])"
   ]
  },
  {
   "cell_type": "code",
   "execution_count": 24,
   "id": "2750f6c7",
   "metadata": {},
   "outputs": [],
   "source": [
    "x2_norm = scaler.transform(x2)"
   ]
  },
  {
   "cell_type": "code",
   "execution_count": 25,
   "id": "1d67edcd",
   "metadata": {},
   "outputs": [
    {
     "name": "stdout",
     "output_type": "stream",
     "text": [
      "1/1 [==============================] - 0s 29ms/step\n"
     ]
    },
    {
     "data": {
      "text/plain": [
       "array([[47.2042]], dtype=float32)"
      ]
     },
     "execution_count": 25,
     "metadata": {},
     "output_type": "execute_result"
    }
   ],
   "source": [
    "model0.predict(x2_norm, verbose = 1)"
   ]
  },
  {
   "cell_type": "markdown",
   "id": "725c8988",
   "metadata": {},
   "source": [
    "Evaluate our dataset."
   ]
  },
  {
   "cell_type": "code",
   "execution_count": 26,
   "id": "ac9bd6d9",
   "metadata": {},
   "outputs": [
    {
     "name": "stdout",
     "output_type": "stream",
     "text": [
      "33/33 [==============================] - 0s 1ms/step - loss: 49.8935\n"
     ]
    },
    {
     "data": {
      "text/plain": [
       "49.89349365234375"
      ]
     },
     "execution_count": 26,
     "metadata": {},
     "output_type": "execute_result"
    }
   ],
   "source": [
    "model0.evaluate(predictors_norm, target)"
   ]
  }
 ],
 "metadata": {
  "kernelspec": {
   "display_name": "Python 3 (ipykernel)",
   "language": "python",
   "name": "python3"
  },
  "language_info": {
   "codemirror_mode": {
    "name": "ipython",
    "version": 3
   },
   "file_extension": ".py",
   "mimetype": "text/x-python",
   "name": "python",
   "nbconvert_exporter": "python",
   "pygments_lexer": "ipython3",
   "version": "3.9.12"
  }
 },
 "nbformat": 4,
 "nbformat_minor": 5
}
