{
 "cells": [
  {
   "cell_type": "code",
   "execution_count": 1,
   "id": "fe804f61",
   "metadata": {},
   "outputs": [],
   "source": [
    "#Importing necessary modules\n",
    "from PIL import Image\n",
    "import torch\n",
    "from torchvision import transforms\n",
    "from torch.utils.data import Dataset, DataLoader\n",
    "import numpy as np\n",
    "import pandas as pd\n",
    "from matplotlib.pyplot import imshow\n",
    "import matplotlib.pylab as plt\n",
    "import os\n",
    "import math"
   ]
  },
  {
   "cell_type": "markdown",
   "id": "a3c02c9e",
   "metadata": {},
   "source": [
    "Here, we will be building dataset for images."
   ]
  },
  {
   "cell_type": "markdown",
   "id": "1fa905fa",
   "metadata": {},
   "source": [
    "Let's build a dataset for images."
   ]
  },
  {
   "cell_type": "markdown",
   "id": "0b6865ed",
   "metadata": {},
   "source": [
    "We will use MNIST dataset containing 60000 28x28 grayscale images of clothing."
   ]
  },
  {
   "cell_type": "code",
   "execution_count": 2,
   "id": "114c2cbd",
   "metadata": {},
   "outputs": [
    {
     "name": "stderr",
     "output_type": "stream",
     "text": [
      "--2023-02-16 16:16:52--  https://cf-courses-data.s3.us.cloud-object-storage.appdomain.cloud/IBMDeveloperSkillsNetwork-DL0110EN-SkillsNetwork/labs/Week1/data/index.csv\n",
      "Resolving cf-courses-data.s3.us.cloud-object-storage.appdomain.cloud (cf-courses-data.s3.us.cloud-object-storage.appdomain.cloud)... 169.45.118.108\n",
      "Connecting to cf-courses-data.s3.us.cloud-object-storage.appdomain.cloud (cf-courses-data.s3.us.cloud-object-storage.appdomain.cloud)|169.45.118.108|:443... connected.\n",
      "HTTP request sent, awaiting response... 200 OK\n",
      "Length: 1680905 (1.6M) [text/csv]\n",
      "Saving to: 'index.csv.2'\n",
      "\n",
      "     0K .......... .......... .......... .......... ..........  3%  180K 9s\n",
      "    50K .......... .......... .......... .......... ..........  6%  193K 8s\n",
      "   100K .......... .......... .......... .......... ..........  9%  195K 8s\n",
      "   150K .......... .......... .......... .......... .......... 12% 3.51M 6s\n",
      "   200K .......... .......... .......... .......... .......... 15%  199K 6s\n",
      "   250K .......... .......... .......... .......... .......... 18% 4.87M 5s\n",
      "   300K .......... .......... .......... .......... .......... 21% 4.49M 4s\n",
      "   350K .......... .......... .......... .......... .......... 24% 6.95M 3s\n",
      "   400K .......... .......... .......... .......... .......... 27% 1.86M 3s\n",
      "   450K .......... .......... .......... .......... .......... 30%  192K 3s\n",
      "   500K .......... .......... .......... .......... .......... 33% 5.04M 3s\n",
      "   550K .......... .......... .......... .......... .......... 36% 5.45M 2s\n",
      "   600K .......... .......... .......... .......... .......... 39% 2.23M 2s\n",
      "   650K .......... .......... .......... .......... .......... 42% 14.5M 2s\n",
      "   700K .......... .......... .......... .......... .......... 45% 2.71M 2s\n",
      "   750K .......... .......... .......... .......... .......... 48% 1.00M 2s\n",
      "   800K .......... .......... .......... .......... .......... 51%  399K 1s\n",
      "   850K .......... .......... .......... .......... .......... 54% 1.79M 1s\n",
      "   900K .......... .......... .......... .......... .......... 57% 2.47M 1s\n",
      "   950K .......... .......... .......... .......... .......... 60% 2.00M 1s\n",
      "  1000K .......... .......... .......... .......... .......... 63% 5.29M 1s\n",
      "  1050K .......... .......... .......... .......... .......... 67% 1.91M 1s\n",
      "  1100K .......... .......... .......... .......... .......... 70% 3.50M 1s\n",
      "  1150K .......... .......... .......... .......... .......... 73% 2.24M 1s\n",
      "  1200K .......... .......... .......... .......... .......... 76% 1.64M 1s\n",
      "  1250K .......... .......... .......... .......... .......... 79% 3.69M 0s\n",
      "  1300K .......... .......... .......... .......... .......... 82%  558K 0s\n",
      "  1350K .......... .......... .......... .......... .......... 85% 4.50M 0s\n",
      "  1400K .......... .......... .......... .......... .......... 88% 2.35M 0s\n",
      "  1450K .......... .......... .......... .......... .......... 91% 5.25M 0s\n",
      "  1500K .......... .......... .......... .......... .......... 94% 2.11M 0s\n",
      "  1550K .......... .......... .......... .......... .......... 97% 1.97M 0s\n",
      "  1600K .......... .......... .......... .......... .         100% 7.62M=2.0s\n",
      "\n",
      "2023-02-16 16:16:56 (830 KB/s) - 'index.csv.2' saved [1680905/1680905]\n",
      "\n"
     ]
    }
   ],
   "source": [
    "!wget https://cf-courses-data.s3.us.cloud-object-storage.appdomain.cloud/IBMDeveloperSkillsNetwork-DL0110EN-SkillsNetwork/labs/Week1/data/index.csv "
   ]
  },
  {
   "cell_type": "markdown",
   "id": "43d43eef",
   "metadata": {},
   "source": [
    "Let's create a function to look at data."
   ]
  },
  {
   "cell_type": "code",
   "execution_count": 3,
   "id": "ebcc0f33",
   "metadata": {},
   "outputs": [],
   "source": [
    "def show_data(data_sample, shape = (28, 28)):\n",
    "    plt.imshow(data_sample[0].numpy().reshape(shape), cmap = 'gray')\n",
    "    plt.title('y' +\":\"+ data_sample[1])"
   ]
  },
  {
   "cell_type": "code",
   "execution_count": 4,
   "id": "e8d81612",
   "metadata": {},
   "outputs": [],
   "source": [
    "data_name = pd.read_csv('index.csv')"
   ]
  },
  {
   "cell_type": "code",
   "execution_count": 5,
   "id": "ac6fd762",
   "metadata": {},
   "outputs": [
    {
     "data": {
      "text/plain": [
       "(60000, 2)"
      ]
     },
     "execution_count": 5,
     "metadata": {},
     "output_type": "execute_result"
    }
   ],
   "source": [
    "data_name.shape"
   ]
  },
  {
   "cell_type": "code",
   "execution_count": 6,
   "id": "ed5db60d",
   "metadata": {},
   "outputs": [
    {
     "data": {
      "text/html": [
       "<div>\n",
       "<style scoped>\n",
       "    .dataframe tbody tr th:only-of-type {\n",
       "        vertical-align: middle;\n",
       "    }\n",
       "\n",
       "    .dataframe tbody tr th {\n",
       "        vertical-align: top;\n",
       "    }\n",
       "\n",
       "    .dataframe thead th {\n",
       "        text-align: right;\n",
       "    }\n",
       "</style>\n",
       "<table border=\"1\" class=\"dataframe\">\n",
       "  <thead>\n",
       "    <tr style=\"text-align: right;\">\n",
       "      <th></th>\n",
       "      <th>category</th>\n",
       "      <th>image</th>\n",
       "    </tr>\n",
       "  </thead>\n",
       "  <tbody>\n",
       "    <tr>\n",
       "      <th>0</th>\n",
       "      <td>Ankle boot</td>\n",
       "      <td>img/fashion0.png</td>\n",
       "    </tr>\n",
       "    <tr>\n",
       "      <th>1</th>\n",
       "      <td>T-shirt</td>\n",
       "      <td>img/fashion1.png</td>\n",
       "    </tr>\n",
       "    <tr>\n",
       "      <th>2</th>\n",
       "      <td>T-shirt</td>\n",
       "      <td>img/fashion2.png</td>\n",
       "    </tr>\n",
       "    <tr>\n",
       "      <th>3</th>\n",
       "      <td>Dress</td>\n",
       "      <td>img/fashion3.png</td>\n",
       "    </tr>\n",
       "    <tr>\n",
       "      <th>4</th>\n",
       "      <td>T-shirt</td>\n",
       "      <td>img/fashion4.png</td>\n",
       "    </tr>\n",
       "  </tbody>\n",
       "</table>\n",
       "</div>"
      ],
      "text/plain": [
       "     category             image\n",
       "0  Ankle boot  img/fashion0.png\n",
       "1     T-shirt  img/fashion1.png\n",
       "2     T-shirt  img/fashion2.png\n",
       "3       Dress  img/fashion3.png\n",
       "4     T-shirt  img/fashion4.png"
      ]
     },
     "execution_count": 6,
     "metadata": {},
     "output_type": "execute_result"
    }
   ],
   "source": [
    "data_name.head(5)"
   ]
  },
  {
   "cell_type": "code",
   "execution_count": 7,
   "id": "6669f0b1",
   "metadata": {},
   "outputs": [
    {
     "name": "stdout",
     "output_type": "stream",
     "text": [
      "File name: img/fashion1.png\n",
      "class or y: T-shirt\n"
     ]
    }
   ],
   "source": [
    "# Print out the file name and the class number of the element on row 1 (the second row)\n",
    "\n",
    "print('File name:', data_name.iloc[1, 1])\n",
    "print('class or y:', data_name.iloc[1, 0])"
   ]
  },
  {
   "cell_type": "markdown",
   "id": "b41fb370",
   "metadata": {},
   "source": [
    "<h2 id=\"load_image\">Load Image</h2>\n"
   ]
  },
  {
   "cell_type": "markdown",
   "id": "7642c060",
   "metadata": {},
   "source": [
    "To load the image, we need the directory and the image name. We can concatenate the variable <code>train_data_dir</code> with the name of the image stored in a Dataframe. Finally, We will store the result in the variable <code>image_name</code>\n"
   ]
  },
  {
   "cell_type": "code",
   "execution_count": 8,
   "id": "45941d67",
   "metadata": {},
   "outputs": [],
   "source": [
    "directory = \"\""
   ]
  },
  {
   "cell_type": "code",
   "execution_count": 9,
   "id": "1b90d66d",
   "metadata": {},
   "outputs": [
    {
     "data": {
      "text/plain": [
       "'img/fashion1.png'"
      ]
     },
     "execution_count": 9,
     "metadata": {},
     "output_type": "execute_result"
    }
   ],
   "source": [
    "# Combine the directory path with file name\n",
    "\n",
    "image_name =data_name.iloc[1, 1]\n",
    "\n",
    "image_path=os.path.join(directory,image_name)\n",
    "\n",
    "image_path"
   ]
  },
  {
   "cell_type": "code",
   "execution_count": 10,
   "id": "19d09e99",
   "metadata": {},
   "outputs": [
    {
     "data": {
      "image/png": "[encoded data removed]",
      "text/plain": [
       "<Figure size 432x288 with 1 Axes>"
      ]
     },
     "metadata": {
      "needs_background": "light"
     },
     "output_type": "display_data"
    }
   ],
   "source": [
    "# Plot the second training image\n",
    "\n",
    "image = Image.open(image_path)\n",
    "plt.imshow(image,cmap='gray', vmin=0, vmax=255)\n",
    "plt.title(data_name.iloc[1, 0])\n",
    "plt.show()"
   ]
  },
  {
   "cell_type": "code",
   "execution_count": 11,
   "id": "1471ec03",
   "metadata": {},
   "outputs": [
    {
     "data": {
      "image/png": "[encoded data removed]",
      "text/plain": [
       "<Figure size 432x288 with 1 Axes>"
      ]
     },
     "metadata": {
      "needs_background": "light"
     },
     "output_type": "display_data"
    }
   ],
   "source": [
    "# Plot the 20th image\n",
    "\n",
    "image_name = data_name.iloc[19, 1]\n",
    "image_path=os.path.join(directory,image_name)\n",
    "image = Image.open(image_path)\n",
    "plt.imshow(image,cmap='gray', vmin=0, vmax=255)\n",
    "plt.title(data_name.iloc[19, 0])\n",
    "plt.show()"
   ]
  },
  {
   "cell_type": "markdown",
   "id": "c37b9d03",
   "metadata": {},
   "source": [
    "Now, Let's create a dataset class and then create an object."
   ]
  },
  {
   "cell_type": "code",
   "execution_count": 12,
   "id": "62ac22ef",
   "metadata": {},
   "outputs": [],
   "source": [
    "class Dataset(Dataset):\n",
    "    \n",
    "    #CONSTRUCTOR\n",
    "    def __init__(self, csv_file, transform = None):\n",
    "        \n",
    "        #Image Directory\n",
    "        \n",
    "        self.transform = transform\n",
    "        self.data_name = pd.read_csv('index.csv')\n",
    "        \n",
    "        self.len = self.data_name.shape[0]\n",
    "        \n",
    "\n",
    "    #Get the length\n",
    "    def __len__(self):\n",
    "        return self.len\n",
    "    \n",
    "    #Getitem\n",
    "    def __getitem__(self, idx):\n",
    "        \n",
    "        img_name = self.data_name.iloc[idx, 1]\n",
    "        \n",
    "        image = Image.open(img_name)\n",
    "        \n",
    "\n",
    "        # The class label for the image\n",
    "        \n",
    "        y = self.data_name.iloc[idx, 0]\n",
    "        plt.imshow(image,cmap='gray', vmin=0, vmax=255)\n",
    "        \n",
    "        plt.title(y)\n",
    "        plt.show()\n",
    "        \n",
    "        # If there is any transform method, apply it onto the image\n",
    "        if self.transform:\n",
    "            image = self.transform(image)\n",
    "\n",
    "        return (image, y)"
   ]
  },
  {
   "cell_type": "code",
   "execution_count": 13,
   "id": "a82fd492",
   "metadata": {},
   "outputs": [],
   "source": [
    "# Create the dataset objects\n",
    "\n",
    "dataset = Dataset(csv_file='index.csv')"
   ]
  },
  {
   "cell_type": "code",
   "execution_count": 14,
   "id": "61a1fe65",
   "metadata": {},
   "outputs": [
    {
     "data": {
      "text/plain": [
       "<__main__.Dataset at 0x24811e228e0>"
      ]
     },
     "execution_count": 14,
     "metadata": {},
     "output_type": "execute_result"
    }
   ],
   "source": [
    "dataset"
   ]
  },
  {
   "cell_type": "code",
   "execution_count": 15,
   "id": "87e81307",
   "metadata": {},
   "outputs": [
    {
     "data": {
      "image/png": "[encoded data removed]",
      "text/plain": [
       "<Figure size 432x288 with 1 Axes>"
      ]
     },
     "metadata": {
      "needs_background": "light"
     },
     "output_type": "display_data"
    },
    {
     "data": {
      "text/plain": [
       "(<PIL.PngImagePlugin.PngImageFile image mode=L size=28x28 at 0x24811E224F0>,\n",
       " 'Ankle boot')"
      ]
     },
     "execution_count": 15,
     "metadata": {},
     "output_type": "execute_result"
    }
   ],
   "source": [
    "dataset[0]"
   ]
  },
  {
   "cell_type": "markdown",
   "id": "ee26df72",
   "metadata": {},
   "source": [
    "We have created the dataset class and initialized dataset object. Now, let's apply some transforms."
   ]
  },
  {
   "cell_type": "markdown",
   "id": "41586c94",
   "metadata": {},
   "source": [
    "We have already imported <code>transforms</code> from torchvision."
   ]
  },
  {
   "cell_type": "markdown",
   "id": "18bfbe22",
   "metadata": {},
   "source": [
    "Let's apply multiple transforms."
   ]
  },
  {
   "cell_type": "markdown",
   "id": "87cced2a",
   "metadata": {},
   "source": [
    "Let's create a transform using <code>Compose</code>"
   ]
  },
  {
   "cell_type": "code",
   "execution_count": 16,
   "id": "0b1bc4ef",
   "metadata": {},
   "outputs": [],
   "source": [
    "data_transform = transforms.Compose([transforms.CenterCrop(20), transforms.ToTensor()])"
   ]
  },
  {
   "cell_type": "code",
   "execution_count": 17,
   "id": "7bb57cb4",
   "metadata": {},
   "outputs": [],
   "source": [
    "dataset_ = Dataset(csv_file = 'index.csv', transform = data_transform)"
   ]
  },
  {
   "cell_type": "code",
   "execution_count": 18,
   "id": "4b94adeb",
   "metadata": {},
   "outputs": [
    {
     "data": {
      "text/plain": [
       "__main__.Dataset"
      ]
     },
     "execution_count": 18,
     "metadata": {},
     "output_type": "execute_result"
    }
   ],
   "source": [
    "type(dataset_)"
   ]
  },
  {
   "cell_type": "code",
   "execution_count": 19,
   "id": "0e26fed0",
   "metadata": {},
   "outputs": [
    {
     "data": {
      "image/png": "[encoded data removed]",
      "text/plain": [
       "<Figure size 432x288 with 1 Axes>"
      ]
     },
     "metadata": {
      "needs_background": "light"
     },
     "output_type": "display_data"
    },
    {
     "data": {
      "text/plain": [
       "(tensor([[[0.0000, 0.0000, 0.0000, 0.0000, 0.0000, 0.0000, 0.0000, 0.0000,\n",
       "           0.0118, 0.0000, 0.1412, 0.5333, 0.4980, 0.2431, 0.2118, 0.0000,\n",
       "           0.0000, 0.0000, 0.0039, 0.0118],\n",
       "          [0.0000, 0.0000, 0.0000, 0.0000, 0.0000, 0.0000, 0.0000, 0.0000,\n",
       "           0.0235, 0.0000, 0.4000, 0.8000, 0.6902, 0.5255, 0.5647, 0.4824,\n",
       "           0.0902, 0.0000, 0.0000, 0.0000],\n",
       "          [0.0000, 0.0000, 0.0000, 0.0000, 0.0000, 0.0000, 0.0000, 0.0000,\n",
       "           0.0000, 0.0000, 0.6078, 0.9255, 0.8118, 0.6980, 0.4196, 0.6118,\n",
       "           0.6314, 0.4275, 0.2510, 0.0902],\n",
       "          [0.0000, 0.0000, 0.0000, 0.0000, 0.0000, 0.0000, 0.0000, 0.0039,\n",
       "           0.0000, 0.2706, 0.8118, 0.8745, 0.8549, 0.8471, 0.8471, 0.6392,\n",
       "           0.4980, 0.4745, 0.4784, 0.5725],\n",
       "          [0.0000, 0.0000, 0.0000, 0.0000, 0.0000, 0.0039, 0.0039, 0.0039,\n",
       "           0.0000, 0.7843, 0.9098, 0.9098, 0.9137, 0.8980, 0.8745, 0.8745,\n",
       "           0.8431, 0.8353, 0.6431, 0.4980],\n",
       "          [0.0000, 0.0000, 0.0000, 0.0000, 0.0000, 0.0000, 0.0000, 0.0000,\n",
       "           0.0000, 0.7176, 0.8824, 0.8471, 0.8745, 0.8941, 0.9216, 0.8902,\n",
       "           0.8784, 0.8706, 0.8784, 0.8667],\n",
       "          [0.0000, 0.0000, 0.0000, 0.0000, 0.0000, 0.0000, 0.0000, 0.0000,\n",
       "           0.0000, 0.7569, 0.8941, 0.8549, 0.8353, 0.7765, 0.7059, 0.8314,\n",
       "           0.8235, 0.8275, 0.8353, 0.8745],\n",
       "          [0.0000, 0.0000, 0.0000, 0.0000, 0.0000, 0.0039, 0.0118, 0.0000,\n",
       "           0.0471, 0.8588, 0.8627, 0.8314, 0.8549, 0.7529, 0.6627, 0.8902,\n",
       "           0.8157, 0.8549, 0.8784, 0.8314],\n",
       "          [0.0000, 0.0000, 0.0000, 0.0000, 0.0000, 0.0000, 0.0235, 0.0000,\n",
       "           0.3882, 0.9569, 0.8706, 0.8627, 0.8549, 0.7961, 0.7765, 0.8667,\n",
       "           0.8431, 0.8353, 0.8706, 0.8627],\n",
       "          [0.0000, 0.0000, 0.0000, 0.0000, 0.0000, 0.0157, 0.0000, 0.0000,\n",
       "           0.2157, 0.9255, 0.8941, 0.9020, 0.8941, 0.9412, 0.9098, 0.8353,\n",
       "           0.8549, 0.8745, 0.9176, 0.8510],\n",
       "          [0.0235, 0.0275, 0.0078, 0.0000, 0.0000, 0.0000, 0.0000, 0.0000,\n",
       "           0.9294, 0.8863, 0.8510, 0.8745, 0.8706, 0.8588, 0.8706, 0.8667,\n",
       "           0.8471, 0.8745, 0.8980, 0.8431],\n",
       "          [0.0000, 0.0000, 0.0000, 0.0000, 0.0000, 0.2431, 0.5686, 0.8000,\n",
       "           0.8941, 0.8118, 0.8353, 0.8667, 0.8549, 0.8157, 0.8275, 0.8549,\n",
       "           0.8784, 0.8745, 0.8588, 0.8431],\n",
       "          [0.0706, 0.1725, 0.3216, 0.4196, 0.7412, 0.8941, 0.8627, 0.8706,\n",
       "           0.8510, 0.8863, 0.7843, 0.8039, 0.8275, 0.9020, 0.8784, 0.9176,\n",
       "           0.6902, 0.7373, 0.9804, 0.9725],\n",
       "          [0.8784, 0.8667, 0.8784, 0.8157, 0.8000, 0.8392, 0.8157, 0.8196,\n",
       "           0.7843, 0.6235, 0.9608, 0.7569, 0.8078, 0.8745, 1.0000, 1.0000,\n",
       "           0.8667, 0.9176, 0.8667, 0.8275],\n",
       "          [0.8667, 0.8275, 0.8275, 0.8392, 0.8039, 0.8039, 0.8039, 0.8627,\n",
       "           0.9412, 0.3137, 0.5882, 1.0000, 0.8980, 0.8667, 0.7373, 0.6039,\n",
       "           0.7490, 0.8235, 0.8000, 0.8196],\n",
       "          [0.8706, 0.8980, 0.8980, 0.9176, 0.9765, 0.8627, 0.7608, 0.8431,\n",
       "           0.8510, 0.9451, 0.2549, 0.2863, 0.4157, 0.4588, 0.6588, 0.8588,\n",
       "           0.8667, 0.8431, 0.8510, 0.8745],\n",
       "          [0.7569, 0.8039, 0.8275, 0.8824, 0.8471, 0.7255, 0.7725, 0.8078,\n",
       "           0.7765, 0.8353, 0.9412, 0.7647, 0.8902, 0.9608, 0.9373, 0.8745,\n",
       "           0.8549, 0.8314, 0.8196, 0.8706],\n",
       "          [0.8353, 0.7725, 0.7255, 0.7451, 0.7608, 0.7529, 0.7922, 0.8392,\n",
       "           0.8588, 0.8667, 0.8627, 0.9255, 0.8824, 0.8471, 0.7804, 0.8078,\n",
       "           0.7294, 0.7098, 0.6941, 0.6745],\n",
       "          [0.7020, 0.6706, 0.7176, 0.7686, 0.8000, 0.8235, 0.8353, 0.8118,\n",
       "           0.8275, 0.8235, 0.7843, 0.7686, 0.7608, 0.7490, 0.7647, 0.7490,\n",
       "           0.7765, 0.7529, 0.6902, 0.6118],\n",
       "          [0.8314, 0.7490, 0.6863, 0.6745, 0.6863, 0.7098, 0.7255, 0.7373,\n",
       "           0.7412, 0.7373, 0.7569, 0.7765, 0.8000, 0.8196, 0.8235, 0.8235,\n",
       "           0.8275, 0.7373, 0.7373, 0.7608]]]),\n",
       " 'Ankle boot')"
      ]
     },
     "execution_count": 19,
     "metadata": {},
     "output_type": "execute_result"
    }
   ],
   "source": [
    "dataset_[0]"
   ]
  },
  {
   "cell_type": "code",
   "execution_count": 20,
   "id": "b101f4fa",
   "metadata": {},
   "outputs": [
    {
     "data": {
      "image/png": "[encoded data removed]",
      "text/plain": [
       "<Figure size 432x288 with 1 Axes>"
      ]
     },
     "metadata": {
      "needs_background": "light"
     },
     "output_type": "display_data"
    },
    {
     "data": {
      "image/png": "[encoded data removed]",
      "text/plain": [
       "<Figure size 432x288 with 1 Axes>"
      ]
     },
     "metadata": {
      "needs_background": "light"
     },
     "output_type": "display_data"
    }
   ],
   "source": [
    "# Plot the first element in the dataset\n",
    "\n",
    "show_data(dataset_[0],shape = (20, 20))"
   ]
  },
  {
   "cell_type": "markdown",
   "id": "d6ea8abd",
   "metadata": {},
   "source": [
    "In the below example, we Vertically flip the image, and then convert it to a tensor. Use <code>transforms.Compose()</code> to combine these two transform functions. Plot the flipped image.\n"
   ]
  },
  {
   "cell_type": "code",
   "execution_count": 21,
   "id": "01c5236b",
   "metadata": {},
   "outputs": [
    {
     "data": {
      "image/png": "[encoded data removed]",
      "text/plain": [
       "<Figure size 432x288 with 1 Axes>"
      ]
     },
     "metadata": {
      "needs_background": "light"
     },
     "output_type": "display_data"
    },
    {
     "data": {
      "image/png": "[encoded data removed]",
      "text/plain": [
       "<Figure size 432x288 with 1 Axes>"
      ]
     },
     "metadata": {
      "needs_background": "light"
     },
     "output_type": "display_data"
    }
   ],
   "source": [
    "# Construct the compose. Apply it on MNIST dataset. Plot the image out.\n",
    "\n",
    "fliptensor_data_transform = transforms.Compose([transforms.RandomVerticalFlip(p=1),transforms.ToTensor()])\n",
    "dataset = Dataset(csv_file='index.csv' ,transform=fliptensor_data_transform )\n",
    "show_data(dataset[1])"
   ]
  }
 ],
 "metadata": {
  "kernelspec": {
   "display_name": "Python 3 (ipykernel)",
   "language": "python",
   "name": "python3"
  },
  "language_info": {
   "codemirror_mode": {
    "name": "ipython",
    "version": 3
   },
   "file_extension": ".py",
   "mimetype": "text/x-python",
   "name": "python",
   "nbconvert_exporter": "python",
   "pygments_lexer": "ipython3",
   "version": "3.9.12"
  }
 },
 "nbformat": 4,
 "nbformat_minor": 5
}
