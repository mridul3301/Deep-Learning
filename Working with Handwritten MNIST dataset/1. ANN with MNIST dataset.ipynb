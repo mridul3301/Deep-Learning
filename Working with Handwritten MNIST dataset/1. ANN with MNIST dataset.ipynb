{
  "nbformat": 4,
  "nbformat_minor": 0,
  "metadata": {
    "colab": {
      "provenance": [],
      "toc_visible": true
    },
    "kernelspec": {
      "name": "python3",
      "display_name": "Python 3"
    },
    "language_info": {
      "name": "python"
    }
  },
  "cells": [
    {
      "cell_type": "markdown",
      "source": [
        "### Importing Necessary Libraries"
      ],
      "metadata": {
        "id": "UDh_YFXIWjt5"
      }
    },
    {
      "cell_type": "code",
      "execution_count": 1,
      "metadata": {
        "id": "uWs5268bQTl_"
      },
      "outputs": [],
      "source": [
        "# Import necessary libraries\n",
        "\n",
        "import torch\n",
        "import torch.nn as nn\n",
        "import torch.nn.functional as F\n"
      ]
    },
    {
      "cell_type": "code",
      "source": [
        "# Imports for loading data\n",
        "\n",
        "from torch.utils.data import DataLoader\n",
        "from torchvision import datasets, transforms"
      ],
      "metadata": {
        "id": "WNBELclIUtj2"
      },
      "execution_count": 2,
      "outputs": []
    },
    {
      "cell_type": "code",
      "source": [
        "# Importing other libraries\n",
        "\n",
        "import numpy as np\n",
        "import pandas as pd\n",
        "from sklearn.metrics import confusion_matrix\n",
        "import matplotlib.pyplot as plt\n",
        "%matplotlib inline"
      ],
      "metadata": {
        "id": "yoF0Ia55U6ho"
      },
      "execution_count": 3,
      "outputs": []
    },
    {
      "cell_type": "markdown",
      "source": [
        "### Loading the MNIST dataset"
      ],
      "metadata": {
        "id": "htPPlgZJWpw-"
      }
    },
    {
      "cell_type": "code",
      "source": [
        "# Create tranform to convert image to tensor\n",
        "transform = transforms.ToTensor()"
      ],
      "metadata": {
        "id": "ykKrlBuQVh8c"
      },
      "execution_count": 4,
      "outputs": []
    },
    {
      "cell_type": "code",
      "source": [
        "# Load MNIST training dataset\n",
        "train_data = datasets.MNIST(root = './', train = True, download = True, transform = transform)"
      ],
      "metadata": {
        "id": "17TgFDb2VLfp"
      },
      "execution_count": 5,
      "outputs": []
    },
    {
      "cell_type": "code",
      "source": [
        "# Load MNIST testing dataset\n",
        "test_data = datasets.MNIST(root = './', train = False, download = True, transform = transform)"
      ],
      "metadata": {
        "id": "mb1xWc4tV7nD"
      },
      "execution_count": 6,
      "outputs": []
    },
    {
      "cell_type": "markdown",
      "source": [
        "### Observing the dataset"
      ],
      "metadata": {
        "id": "d3iuhfc4Wuxh"
      }
    },
    {
      "cell_type": "code",
      "source": [
        "# Check the training data\n",
        "train_data"
      ],
      "metadata": {
        "colab": {
          "base_uri": "https://localhost:8080/"
        },
        "id": "V9YoD0pOWQGj",
        "outputId": "04c2bf2e-77d6-4ee1-fb06-6503073eb597"
      },
      "execution_count": 7,
      "outputs": [
        {
          "output_type": "execute_result",
          "data": {
            "text/plain": [
              "Dataset MNIST\n",
              "    Number of datapoints: 60000\n",
              "    Root location: ./\n",
              "    Split: Train\n",
              "    StandardTransform\n",
              "Transform: ToTensor()"
            ]
          },
          "metadata": {},
          "execution_count": 7
        }
      ]
    },
    {
      "cell_type": "code",
      "source": [
        "# Check the testing data\n",
        "test_data"
      ],
      "metadata": {
        "colab": {
          "base_uri": "https://localhost:8080/"
        },
        "id": "cPTFSsUqWWt5",
        "outputId": "21aeae3e-24f4-4eea-ecd7-11bf4f334188"
      },
      "execution_count": 8,
      "outputs": [
        {
          "output_type": "execute_result",
          "data": {
            "text/plain": [
              "Dataset MNIST\n",
              "    Number of datapoints: 10000\n",
              "    Root location: ./\n",
              "    Split: Test\n",
              "    StandardTransform\n",
              "Transform: ToTensor()"
            ]
          },
          "metadata": {},
          "execution_count": 8
        }
      ]
    },
    {
      "cell_type": "code",
      "source": [
        "# Observing train_data\n",
        "\n",
        "type(train_data)"
      ],
      "metadata": {
        "colab": {
          "base_uri": "https://localhost:8080/"
        },
        "id": "Kwe9r1I8Wb6Y",
        "outputId": "5da79e3a-2c78-406a-aab4-0b2f04169c8b"
      },
      "execution_count": 9,
      "outputs": [
        {
          "output_type": "execute_result",
          "data": {
            "text/plain": [
              "torchvision.datasets.mnist.MNIST"
            ]
          },
          "metadata": {},
          "execution_count": 9
        }
      ]
    },
    {
      "cell_type": "code",
      "source": [
        "train_data[0]\n",
        "type(train_data[0])"
      ],
      "metadata": {
        "colab": {
          "base_uri": "https://localhost:8080/"
        },
        "id": "SL430wk4ZK9j",
        "outputId": "7a443664-7b9e-44e0-eb31-1060235e8ab0"
      },
      "execution_count": 10,
      "outputs": [
        {
          "output_type": "execute_result",
          "data": {
            "text/plain": [
              "tuple"
            ]
          },
          "metadata": {},
          "execution_count": 10
        }
      ]
    },
    {
      "cell_type": "markdown",
      "source": [
        "We can see that the first element of *train_data* is tuple consisting the image tensors and the image labels."
      ],
      "metadata": {
        "id": "BJWRfMXBZXZF"
      }
    },
    {
      "cell_type": "code",
      "source": [
        "# Check the image tensor\n",
        "train_data[0][0]"
      ],
      "metadata": {
        "colab": {
          "base_uri": "https://localhost:8080/"
        },
        "id": "QMyowNz9ZP4S",
        "outputId": "77609f06-00a2-4dd4-ae6c-7c22d3294ed6"
      },
      "execution_count": 11,
      "outputs": [
        {
          "output_type": "execute_result",
          "data": {
            "text/plain": [
              "tensor([[[0.0000, 0.0000, 0.0000, 0.0000, 0.0000, 0.0000, 0.0000, 0.0000,\n",
              "          0.0000, 0.0000, 0.0000, 0.0000, 0.0000, 0.0000, 0.0000, 0.0000,\n",
              "          0.0000, 0.0000, 0.0000, 0.0000, 0.0000, 0.0000, 0.0000, 0.0000,\n",
              "          0.0000, 0.0000, 0.0000, 0.0000],\n",
              "         [0.0000, 0.0000, 0.0000, 0.0000, 0.0000, 0.0000, 0.0000, 0.0000,\n",
              "          0.0000, 0.0000, 0.0000, 0.0000, 0.0000, 0.0000, 0.0000, 0.0000,\n",
              "          0.0000, 0.0000, 0.0000, 0.0000, 0.0000, 0.0000, 0.0000, 0.0000,\n",
              "          0.0000, 0.0000, 0.0000, 0.0000],\n",
              "         [0.0000, 0.0000, 0.0000, 0.0000, 0.0000, 0.0000, 0.0000, 0.0000,\n",
              "          0.0000, 0.0000, 0.0000, 0.0000, 0.0000, 0.0000, 0.0000, 0.0000,\n",
              "          0.0000, 0.0000, 0.0000, 0.0000, 0.0000, 0.0000, 0.0000, 0.0000,\n",
              "          0.0000, 0.0000, 0.0000, 0.0000],\n",
              "         [0.0000, 0.0000, 0.0000, 0.0000, 0.0000, 0.0000, 0.0000, 0.0000,\n",
              "          0.0000, 0.0000, 0.0000, 0.0000, 0.0000, 0.0000, 0.0000, 0.0000,\n",
              "          0.0000, 0.0000, 0.0000, 0.0000, 0.0000, 0.0000, 0.0000, 0.0000,\n",
              "          0.0000, 0.0000, 0.0000, 0.0000],\n",
              "         [0.0000, 0.0000, 0.0000, 0.0000, 0.0000, 0.0000, 0.0000, 0.0000,\n",
              "          0.0000, 0.0000, 0.0000, 0.0000, 0.0000, 0.0000, 0.0000, 0.0000,\n",
              "          0.0000, 0.0000, 0.0000, 0.0000, 0.0000, 0.0000, 0.0000, 0.0000,\n",
              "          0.0000, 0.0000, 0.0000, 0.0000],\n",
              "         [0.0000, 0.0000, 0.0000, 0.0000, 0.0000, 0.0000, 0.0000, 0.0000,\n",
              "          0.0000, 0.0000, 0.0000, 0.0000, 0.0118, 0.0706, 0.0706, 0.0706,\n",
              "          0.4941, 0.5333, 0.6863, 0.1020, 0.6510, 1.0000, 0.9686, 0.4980,\n",
              "          0.0000, 0.0000, 0.0000, 0.0000],\n",
              "         [0.0000, 0.0000, 0.0000, 0.0000, 0.0000, 0.0000, 0.0000, 0.0000,\n",
              "          0.1176, 0.1412, 0.3686, 0.6039, 0.6667, 0.9922, 0.9922, 0.9922,\n",
              "          0.9922, 0.9922, 0.8824, 0.6745, 0.9922, 0.9490, 0.7647, 0.2510,\n",
              "          0.0000, 0.0000, 0.0000, 0.0000],\n",
              "         [0.0000, 0.0000, 0.0000, 0.0000, 0.0000, 0.0000, 0.0000, 0.1922,\n",
              "          0.9333, 0.9922, 0.9922, 0.9922, 0.9922, 0.9922, 0.9922, 0.9922,\n",
              "          0.9922, 0.9843, 0.3647, 0.3216, 0.3216, 0.2196, 0.1529, 0.0000,\n",
              "          0.0000, 0.0000, 0.0000, 0.0000],\n",
              "         [0.0000, 0.0000, 0.0000, 0.0000, 0.0000, 0.0000, 0.0000, 0.0706,\n",
              "          0.8588, 0.9922, 0.9922, 0.9922, 0.9922, 0.9922, 0.7765, 0.7137,\n",
              "          0.9686, 0.9451, 0.0000, 0.0000, 0.0000, 0.0000, 0.0000, 0.0000,\n",
              "          0.0000, 0.0000, 0.0000, 0.0000],\n",
              "         [0.0000, 0.0000, 0.0000, 0.0000, 0.0000, 0.0000, 0.0000, 0.0000,\n",
              "          0.3137, 0.6118, 0.4196, 0.9922, 0.9922, 0.8039, 0.0431, 0.0000,\n",
              "          0.1686, 0.6039, 0.0000, 0.0000, 0.0000, 0.0000, 0.0000, 0.0000,\n",
              "          0.0000, 0.0000, 0.0000, 0.0000],\n",
              "         [0.0000, 0.0000, 0.0000, 0.0000, 0.0000, 0.0000, 0.0000, 0.0000,\n",
              "          0.0000, 0.0549, 0.0039, 0.6039, 0.9922, 0.3529, 0.0000, 0.0000,\n",
              "          0.0000, 0.0000, 0.0000, 0.0000, 0.0000, 0.0000, 0.0000, 0.0000,\n",
              "          0.0000, 0.0000, 0.0000, 0.0000],\n",
              "         [0.0000, 0.0000, 0.0000, 0.0000, 0.0000, 0.0000, 0.0000, 0.0000,\n",
              "          0.0000, 0.0000, 0.0000, 0.5451, 0.9922, 0.7451, 0.0078, 0.0000,\n",
              "          0.0000, 0.0000, 0.0000, 0.0000, 0.0000, 0.0000, 0.0000, 0.0000,\n",
              "          0.0000, 0.0000, 0.0000, 0.0000],\n",
              "         [0.0000, 0.0000, 0.0000, 0.0000, 0.0000, 0.0000, 0.0000, 0.0000,\n",
              "          0.0000, 0.0000, 0.0000, 0.0431, 0.7451, 0.9922, 0.2745, 0.0000,\n",
              "          0.0000, 0.0000, 0.0000, 0.0000, 0.0000, 0.0000, 0.0000, 0.0000,\n",
              "          0.0000, 0.0000, 0.0000, 0.0000],\n",
              "         [0.0000, 0.0000, 0.0000, 0.0000, 0.0000, 0.0000, 0.0000, 0.0000,\n",
              "          0.0000, 0.0000, 0.0000, 0.0000, 0.1373, 0.9451, 0.8824, 0.6275,\n",
              "          0.4235, 0.0039, 0.0000, 0.0000, 0.0000, 0.0000, 0.0000, 0.0000,\n",
              "          0.0000, 0.0000, 0.0000, 0.0000],\n",
              "         [0.0000, 0.0000, 0.0000, 0.0000, 0.0000, 0.0000, 0.0000, 0.0000,\n",
              "          0.0000, 0.0000, 0.0000, 0.0000, 0.0000, 0.3176, 0.9412, 0.9922,\n",
              "          0.9922, 0.4667, 0.0980, 0.0000, 0.0000, 0.0000, 0.0000, 0.0000,\n",
              "          0.0000, 0.0000, 0.0000, 0.0000],\n",
              "         [0.0000, 0.0000, 0.0000, 0.0000, 0.0000, 0.0000, 0.0000, 0.0000,\n",
              "          0.0000, 0.0000, 0.0000, 0.0000, 0.0000, 0.0000, 0.1765, 0.7294,\n",
              "          0.9922, 0.9922, 0.5882, 0.1059, 0.0000, 0.0000, 0.0000, 0.0000,\n",
              "          0.0000, 0.0000, 0.0000, 0.0000],\n",
              "         [0.0000, 0.0000, 0.0000, 0.0000, 0.0000, 0.0000, 0.0000, 0.0000,\n",
              "          0.0000, 0.0000, 0.0000, 0.0000, 0.0000, 0.0000, 0.0000, 0.0627,\n",
              "          0.3647, 0.9882, 0.9922, 0.7333, 0.0000, 0.0000, 0.0000, 0.0000,\n",
              "          0.0000, 0.0000, 0.0000, 0.0000],\n",
              "         [0.0000, 0.0000, 0.0000, 0.0000, 0.0000, 0.0000, 0.0000, 0.0000,\n",
              "          0.0000, 0.0000, 0.0000, 0.0000, 0.0000, 0.0000, 0.0000, 0.0000,\n",
              "          0.0000, 0.9765, 0.9922, 0.9765, 0.2510, 0.0000, 0.0000, 0.0000,\n",
              "          0.0000, 0.0000, 0.0000, 0.0000],\n",
              "         [0.0000, 0.0000, 0.0000, 0.0000, 0.0000, 0.0000, 0.0000, 0.0000,\n",
              "          0.0000, 0.0000, 0.0000, 0.0000, 0.0000, 0.0000, 0.1804, 0.5098,\n",
              "          0.7176, 0.9922, 0.9922, 0.8118, 0.0078, 0.0000, 0.0000, 0.0000,\n",
              "          0.0000, 0.0000, 0.0000, 0.0000],\n",
              "         [0.0000, 0.0000, 0.0000, 0.0000, 0.0000, 0.0000, 0.0000, 0.0000,\n",
              "          0.0000, 0.0000, 0.0000, 0.0000, 0.1529, 0.5804, 0.8980, 0.9922,\n",
              "          0.9922, 0.9922, 0.9804, 0.7137, 0.0000, 0.0000, 0.0000, 0.0000,\n",
              "          0.0000, 0.0000, 0.0000, 0.0000],\n",
              "         [0.0000, 0.0000, 0.0000, 0.0000, 0.0000, 0.0000, 0.0000, 0.0000,\n",
              "          0.0000, 0.0000, 0.0941, 0.4471, 0.8667, 0.9922, 0.9922, 0.9922,\n",
              "          0.9922, 0.7882, 0.3059, 0.0000, 0.0000, 0.0000, 0.0000, 0.0000,\n",
              "          0.0000, 0.0000, 0.0000, 0.0000],\n",
              "         [0.0000, 0.0000, 0.0000, 0.0000, 0.0000, 0.0000, 0.0000, 0.0000,\n",
              "          0.0902, 0.2588, 0.8353, 0.9922, 0.9922, 0.9922, 0.9922, 0.7765,\n",
              "          0.3176, 0.0078, 0.0000, 0.0000, 0.0000, 0.0000, 0.0000, 0.0000,\n",
              "          0.0000, 0.0000, 0.0000, 0.0000],\n",
              "         [0.0000, 0.0000, 0.0000, 0.0000, 0.0000, 0.0000, 0.0706, 0.6706,\n",
              "          0.8588, 0.9922, 0.9922, 0.9922, 0.9922, 0.7647, 0.3137, 0.0353,\n",
              "          0.0000, 0.0000, 0.0000, 0.0000, 0.0000, 0.0000, 0.0000, 0.0000,\n",
              "          0.0000, 0.0000, 0.0000, 0.0000],\n",
              "         [0.0000, 0.0000, 0.0000, 0.0000, 0.2157, 0.6745, 0.8863, 0.9922,\n",
              "          0.9922, 0.9922, 0.9922, 0.9569, 0.5216, 0.0431, 0.0000, 0.0000,\n",
              "          0.0000, 0.0000, 0.0000, 0.0000, 0.0000, 0.0000, 0.0000, 0.0000,\n",
              "          0.0000, 0.0000, 0.0000, 0.0000],\n",
              "         [0.0000, 0.0000, 0.0000, 0.0000, 0.5333, 0.9922, 0.9922, 0.9922,\n",
              "          0.8314, 0.5294, 0.5176, 0.0627, 0.0000, 0.0000, 0.0000, 0.0000,\n",
              "          0.0000, 0.0000, 0.0000, 0.0000, 0.0000, 0.0000, 0.0000, 0.0000,\n",
              "          0.0000, 0.0000, 0.0000, 0.0000],\n",
              "         [0.0000, 0.0000, 0.0000, 0.0000, 0.0000, 0.0000, 0.0000, 0.0000,\n",
              "          0.0000, 0.0000, 0.0000, 0.0000, 0.0000, 0.0000, 0.0000, 0.0000,\n",
              "          0.0000, 0.0000, 0.0000, 0.0000, 0.0000, 0.0000, 0.0000, 0.0000,\n",
              "          0.0000, 0.0000, 0.0000, 0.0000],\n",
              "         [0.0000, 0.0000, 0.0000, 0.0000, 0.0000, 0.0000, 0.0000, 0.0000,\n",
              "          0.0000, 0.0000, 0.0000, 0.0000, 0.0000, 0.0000, 0.0000, 0.0000,\n",
              "          0.0000, 0.0000, 0.0000, 0.0000, 0.0000, 0.0000, 0.0000, 0.0000,\n",
              "          0.0000, 0.0000, 0.0000, 0.0000],\n",
              "         [0.0000, 0.0000, 0.0000, 0.0000, 0.0000, 0.0000, 0.0000, 0.0000,\n",
              "          0.0000, 0.0000, 0.0000, 0.0000, 0.0000, 0.0000, 0.0000, 0.0000,\n",
              "          0.0000, 0.0000, 0.0000, 0.0000, 0.0000, 0.0000, 0.0000, 0.0000,\n",
              "          0.0000, 0.0000, 0.0000, 0.0000]]])"
            ]
          },
          "metadata": {},
          "execution_count": 11
        }
      ]
    },
    {
      "cell_type": "markdown",
      "source": [
        "The first item of the tuple is the 28*28 image tensor."
      ],
      "metadata": {
        "id": "2lnpjNytaF7c"
      }
    },
    {
      "cell_type": "code",
      "source": [
        "# Check the image label\n",
        "train_data[0][1]"
      ],
      "metadata": {
        "colab": {
          "base_uri": "https://localhost:8080/"
        },
        "id": "fx5I8wr4ZnHx",
        "outputId": "0ba81ff7-3ee9-4931-8922-a8edb84e8812"
      },
      "execution_count": 12,
      "outputs": [
        {
          "output_type": "execute_result",
          "data": {
            "text/plain": [
              "5"
            ]
          },
          "metadata": {},
          "execution_count": 12
        }
      ]
    },
    {
      "cell_type": "markdown",
      "source": [
        "The label says that the image represented by above tensor is the handwritten number 5."
      ],
      "metadata": {
        "id": "dp3VBarfZ24z"
      }
    },
    {
      "cell_type": "code",
      "source": [
        "image, label = train_data[0]"
      ],
      "metadata": {
        "id": "X54sZl7LZ1Px"
      },
      "execution_count": 13,
      "outputs": []
    },
    {
      "cell_type": "code",
      "source": [
        "image.shape"
      ],
      "metadata": {
        "colab": {
          "base_uri": "https://localhost:8080/"
        },
        "id": "IJbwo2zkaWYE",
        "outputId": "2bc04d70-77cf-42b8-9c5b-29562bd5ff5a"
      },
      "execution_count": 14,
      "outputs": [
        {
          "output_type": "execute_result",
          "data": {
            "text/plain": [
              "torch.Size([1, 28, 28])"
            ]
          },
          "metadata": {},
          "execution_count": 14
        }
      ]
    },
    {
      "cell_type": "markdown",
      "source": [
        "The reason that the shape of our dataset is 1x28x28 is because the image is of pixel size 28x28 and the image we have is grayscale image (Hence, only one channel). "
      ],
      "metadata": {
        "id": "K4CcE-qGada6"
      }
    },
    {
      "cell_type": "code",
      "source": [
        "label"
      ],
      "metadata": {
        "colab": {
          "base_uri": "https://localhost:8080/"
        },
        "id": "whEGL3ZBadMd",
        "outputId": "778bbc94-772e-48dd-9e3a-1bb721e3ac98"
      },
      "execution_count": 15,
      "outputs": [
        {
          "output_type": "execute_result",
          "data": {
            "text/plain": [
              "5"
            ]
          },
          "metadata": {},
          "execution_count": 15
        }
      ]
    },
    {
      "cell_type": "code",
      "source": [
        "# Visualizing tensor with matplotlib\n",
        "plt.imshow(image.reshape(28,28))"
      ],
      "metadata": {
        "colab": {
          "base_uri": "https://localhost:8080/",
          "height": 0
        },
        "id": "Zt1H4x58aX9S",
        "outputId": "a150f0e2-4961-4744-d7c4-f0af741e194e"
      },
      "execution_count": 16,
      "outputs": [
        {
          "output_type": "execute_result",
          "data": {
            "text/plain": [
              "<matplotlib.image.AxesImage at 0x7f4aa5d6b040>"
            ]
          },
          "metadata": {},
          "execution_count": 16
        },
        {
          "output_type": "display_data",
          "data": {
            "text/plain": [
              "<Figure size 640x480 with 1 Axes>"
            ],
            "image/png": "[encoded data removed]"
          },
          "metadata": {}
        }
      ]
    },
    {
      "cell_type": "markdown",
      "source": [
        "The actual image we have is grayscale image but becauase of matplotlib's default color mapping, we are getting a colored version."
      ],
      "metadata": {
        "id": "tEAYyAP3cqRm"
      }
    },
    {
      "cell_type": "markdown",
      "source": [
        "We can also view this image in grayscale by manually providing color mapping."
      ],
      "metadata": {
        "id": "B0SWbBjXdP0R"
      }
    },
    {
      "cell_type": "code",
      "source": [
        "plt.imshow(image.reshape(28,28), cmap = 'gist_yarg')"
      ],
      "metadata": {
        "colab": {
          "base_uri": "https://localhost:8080/",
          "height": 0
        },
        "id": "nJfYInb_cnzJ",
        "outputId": "4ba0a2b3-97c5-499c-c536-e99a862b5f57"
      },
      "execution_count": 17,
      "outputs": [
        {
          "output_type": "execute_result",
          "data": {
            "text/plain": [
              "<matplotlib.image.AxesImage at 0x7f4aa5a02e00>"
            ]
          },
          "metadata": {},
          "execution_count": 17
        },
        {
          "output_type": "display_data",
          "data": {
            "text/plain": [
              "<Figure size 640x480 with 1 Axes>"
            ],
            "image/png": "[encoded data removed]"
          },
          "metadata": {}
        }
      ]
    },
    {
      "cell_type": "markdown",
      "source": [
        "### Creating DataLoader to load data in batches."
      ],
      "metadata": {
        "id": "FbraG5nsdt78"
      }
    },
    {
      "cell_type": "code",
      "source": [
        "# Setting a random seed\n",
        "\n",
        "torch.manual_seed(101)\n",
        "\n",
        "# The initial seed can be any arbitrary number "
      ],
      "metadata": {
        "colab": {
          "base_uri": "https://localhost:8080/"
        },
        "id": "u8rZW6xzdaYy",
        "outputId": "f7eea361-e1a3-4bb3-e2e8-7af29230bb75"
      },
      "execution_count": 18,
      "outputs": [
        {
          "output_type": "execute_result",
          "data": {
            "text/plain": [
              "<torch._C.Generator at 0x7f4b75a5f2d0>"
            ]
          },
          "metadata": {},
          "execution_count": 18
        }
      ]
    },
    {
      "cell_type": "code",
      "source": [
        "# Loading data using TrainLoader\n",
        "\n",
        "train_loader = DataLoader(train_data, batch_size = 100, shuffle = True)\n",
        "\n",
        "test_loader = DataLoader(test_data, batch_size = 500, shuffle = False)"
      ],
      "metadata": {
        "id": "HeT5ED_jeVfH"
      },
      "execution_count": 19,
      "outputs": []
    },
    {
      "cell_type": "code",
      "source": [
        "# Inspecting dataset from dataloader\n",
        "\n",
        "from torchvision.utils import make_grid\n",
        "np.set_printoptions(formatter = dict(int = lambda x: f'{x:4}'))"
      ],
      "metadata": {
        "id": "evS9XwCjewMh"
      },
      "execution_count": 20,
      "outputs": []
    },
    {
      "cell_type": "code",
      "source": [
        "# First Batch\n",
        "\n",
        "for images, labels in train_loader:\n",
        "  break"
      ],
      "metadata": {
        "id": "0eIZJOtyjNxk"
      },
      "execution_count": 21,
      "outputs": []
    },
    {
      "cell_type": "code",
      "source": [
        "images.shape"
      ],
      "metadata": {
        "colab": {
          "base_uri": "https://localhost:8080/"
        },
        "id": "GB2vpF5XkTjc",
        "outputId": "0ac3632e-32b6-4b99-dc50-b328d0e9321d"
      },
      "execution_count": 22,
      "outputs": [
        {
          "output_type": "execute_result",
          "data": {
            "text/plain": [
              "torch.Size([100, 1, 28, 28])"
            ]
          },
          "metadata": {},
          "execution_count": 22
        }
      ]
    },
    {
      "cell_type": "code",
      "source": [
        "labels.shape"
      ],
      "metadata": {
        "colab": {
          "base_uri": "https://localhost:8080/"
        },
        "id": "2QoEHOPvkXLb",
        "outputId": "98755057-7fb6-4fe8-8830-8e1c61344d77"
      },
      "execution_count": 23,
      "outputs": [
        {
          "output_type": "execute_result",
          "data": {
            "text/plain": [
              "torch.Size([100])"
            ]
          },
          "metadata": {},
          "execution_count": 23
        }
      ]
    },
    {
      "cell_type": "code",
      "source": [
        "# Print the first 12 labels\n",
        "print('Labels : ', labels[:12].numpy())\n",
        "\n",
        "# Print the first 12 images\n",
        "im = make_grid(images[:12], nrow = 12)\n",
        "plt.figure(figsize = (10, 4))\n",
        "\n",
        "# We need to transpose the images from CWH to WHC\n",
        "plt.imshow(np.transpose(im.numpy(), (1, 2, 0)), cmap = 'gray')"
      ],
      "metadata": {
        "colab": {
          "base_uri": "https://localhost:8080/",
          "height": 0
        },
        "id": "gTGhtLeMkYyr",
        "outputId": "c493ffc0-3816-4b66-b7f2-9cf2534ba116"
      },
      "execution_count": 24,
      "outputs": [
        {
          "output_type": "stream",
          "name": "stdout",
          "text": [
            "Labels :  [   7    2    3    5    8    5    3    6    9    9    1    3]\n"
          ]
        },
        {
          "output_type": "execute_result",
          "data": {
            "text/plain": [
              "<matplotlib.image.AxesImage at 0x7f4aa58aab00>"
            ]
          },
          "metadata": {},
          "execution_count": 24
        },
        {
          "output_type": "display_data",
          "data": {
            "text/plain": [
              "<Figure size 1000x400 with 1 Axes>"
            ],
            "image/png": "[encoded data removed]"
          },
          "metadata": {}
        }
      ]
    },
    {
      "cell_type": "code",
      "source": [],
      "metadata": {
        "id": "cMLJXFQEqXoi"
      },
      "execution_count": 24,
      "outputs": []
    },
    {
      "cell_type": "markdown",
      "source": [
        "### Creating the NN model"
      ],
      "metadata": {
        "id": "Qv29P5VMqnc_"
      }
    },
    {
      "cell_type": "code",
      "source": [
        "# Create NN class\n",
        "\n",
        "class MultiLayerPerceptron(nn.Module):\n",
        "\n",
        "  # Constructor\n",
        "  def __init__(self, in_size = 784, out_size = 10, layers = [120, 84]):\n",
        "    super(MultiLayerPerceptron, self).__init__()\n",
        "\n",
        "    self.fc1 = nn.Linear(in_size, layers[0])\n",
        "    self.fc2 = nn.Linear(layers[0], layers[1])\n",
        "    self.fc3 = nn.Linear(layers[1], out_size)\n",
        "\n",
        "\n",
        "  # Activation\n",
        "\n",
        "  def forward(self, X):\n",
        "\n",
        "    X = F.relu(self.fc1(X))\n",
        "    X = F.relu(self.fc2(X))\n",
        "    X = self.fc3(X)\n",
        "\n",
        "    return F.log_softmax(X, dim = 1)\n"
      ],
      "metadata": {
        "id": "6o2EPZnoqzkD"
      },
      "execution_count": 25,
      "outputs": []
    },
    {
      "cell_type": "code",
      "source": [
        "model = MultiLayerPerceptron()\n",
        "model"
      ],
      "metadata": {
        "colab": {
          "base_uri": "https://localhost:8080/"
        },
        "id": "IqL6KtnR5EeI",
        "outputId": "85df1e36-2842-467c-ab4c-62fb53dca752"
      },
      "execution_count": 26,
      "outputs": [
        {
          "output_type": "execute_result",
          "data": {
            "text/plain": [
              "MultiLayerPerceptron(\n",
              "  (fc1): Linear(in_features=784, out_features=120, bias=True)\n",
              "  (fc2): Linear(in_features=120, out_features=84, bias=True)\n",
              "  (fc3): Linear(in_features=84, out_features=10, bias=True)\n",
              ")"
            ]
          },
          "metadata": {},
          "execution_count": 26
        }
      ]
    },
    {
      "cell_type": "code",
      "source": [
        "# Set the criterion function and optimizer\n",
        "\n",
        "criterion = nn.CrossEntropyLoss()\n",
        "optimizer = torch.optim.Adam(model.parameters(), lr = 0.001)"
      ],
      "metadata": {
        "id": "bTiRpmd_5MIm"
      },
      "execution_count": 27,
      "outputs": []
    },
    {
      "cell_type": "code",
      "source": [
        "# Flatten the image (EXAMPLE ONLY)\n",
        "images.view(100, -1).shape"
      ],
      "metadata": {
        "colab": {
          "base_uri": "https://localhost:8080/"
        },
        "id": "YqeH7L7L6FY3",
        "outputId": "0251ab53-390c-49cc-fd54-2da9120a56a0"
      },
      "execution_count": 28,
      "outputs": [
        {
          "output_type": "execute_result",
          "data": {
            "text/plain": [
              "torch.Size([100, 784])"
            ]
          },
          "metadata": {},
          "execution_count": 28
        }
      ]
    },
    {
      "cell_type": "markdown",
      "source": [
        "### Setting up the Training & Evaluation"
      ],
      "metadata": {
        "id": "6o0LIM1J6fEU"
      }
    },
    {
      "cell_type": "code",
      "source": [
        "# To calculate the time elapsed\n",
        "import time\n",
        "start_time = time.time()\n",
        "\n",
        "\n",
        "##### TRAINING ####\n",
        "\n",
        "epochs = 10\n",
        "\n",
        "# For tracking \n",
        "train_losses = []\n",
        "test_losses = []\n",
        "train_correct = []\n",
        "test_correct = []\n",
        "\n",
        "# Real training\n",
        "\n",
        "for i in range(epochs):\n",
        "  \n",
        "  train_corr = 0\n",
        "  test_corr = 0\n",
        "\n",
        "  for batch, (X_train, y_train) in enumerate(train_loader):\n",
        "    batch += 1\n",
        "\n",
        "    # Predict and calculate loss\n",
        "    y_pred = model(X_train.view(100, -1))\n",
        "    loss = criterion(y_pred, y_train)\n",
        "\n",
        "    # Calculate the number of correct predictions in a batch and total correct predictions in training data\n",
        "    predicted = torch.max(y_pred.data, 1)[1]\n",
        "    batch_correct = (predicted == y_train).sum()\n",
        "    train_corr += batch_correct\n",
        "\n",
        "    # Setting zero gradient and performing backpropagation\n",
        "    optimizer.zero_grad()\n",
        "    loss.backward()\n",
        "    optimizer.step()\n",
        "\n",
        "    # Reporting some information\n",
        "    if batch%200 == 0:\n",
        "      accuracy = train_corr.item()/(batch*100)\n",
        "      print(f'For Epoch {i}, In batch {batch} Loss is : {loss.item()} and accuracy is : {accuracy}')\n",
        "\n",
        "\n",
        "  train_losses.append(loss)\n",
        "  train_correct.append(train_corr)\n",
        "\n",
        "\n",
        "\n",
        "  # Check the test data\n",
        "  with torch.no_grad():\n",
        "\n",
        "    for batch, (X_test, y_test) in enumerate(test_loader):\n",
        "      y_val = model(X_test.view(500, -1))\n",
        "\n",
        "      predicted = torch.max(y_val.data, 1)[1]\n",
        "      test_corr += (predicted == y_test).sum()\n",
        "\n",
        "  loss = criterion(y_val, y_test)\n",
        "  test_losses.append(loss)\n",
        "  test_correct.append(test_corr)\n",
        "\n",
        "\n",
        "\n",
        "\n",
        "total_time = time.time()-start_time\n",
        "print(f'Duration : {total_time/60} minutes')"
      ],
      "metadata": {
        "colab": {
          "base_uri": "https://localhost:8080/"
        },
        "id": "BwqBza0c6P_P",
        "outputId": "eed886cd-6c87-403a-b72c-725c26598c00"
      },
      "execution_count": 29,
      "outputs": [
        {
          "output_type": "stream",
          "name": "stdout",
          "text": [
            "For Epoch 0, In batch 200 Loss is : 0.287929505109787 and accuracy is : 0.8305\n",
            "For Epoch 0, In batch 400 Loss is : 0.25784730911254883 and accuracy is : 0.874275\n",
            "For Epoch 0, In batch 600 Loss is : 0.2368019074201584 and accuracy is : 0.8946166666666666\n",
            "For Epoch 1, In batch 200 Loss is : 0.17159925401210785 and accuracy is : 0.94785\n",
            "For Epoch 1, In batch 400 Loss is : 0.06849920004606247 and accuracy is : 0.951\n",
            "For Epoch 1, In batch 600 Loss is : 0.18482984602451324 and accuracy is : 0.9533833333333334\n",
            "For Epoch 2, In batch 200 Loss is : 0.17636893689632416 and accuracy is : 0.9651\n",
            "For Epoch 2, In batch 400 Loss is : 0.18148832023143768 and accuracy is : 0.965025\n",
            "For Epoch 2, In batch 600 Loss is : 0.07688865810632706 and accuracy is : 0.9667\n",
            "For Epoch 3, In batch 200 Loss is : 0.12140345573425293 and accuracy is : 0.9748\n",
            "For Epoch 3, In batch 400 Loss is : 0.016630511730909348 and accuracy is : 0.9752\n",
            "For Epoch 3, In batch 600 Loss is : 0.057627979665994644 and accuracy is : 0.9746666666666667\n",
            "For Epoch 4, In batch 200 Loss is : 0.03180386498570442 and accuracy is : 0.98115\n",
            "For Epoch 4, In batch 400 Loss is : 0.07900971919298172 and accuracy is : 0.980725\n",
            "For Epoch 4, In batch 600 Loss is : 0.05857687070965767 and accuracy is : 0.9805166666666667\n",
            "For Epoch 5, In batch 200 Loss is : 0.08177308738231659 and accuracy is : 0.9845\n",
            "For Epoch 5, In batch 400 Loss is : 0.029934177175164223 and accuracy is : 0.984775\n",
            "For Epoch 5, In batch 600 Loss is : 0.07062062621116638 and accuracy is : 0.9836833333333334\n",
            "For Epoch 6, In batch 200 Loss is : 0.04085305333137512 and accuracy is : 0.9881\n",
            "For Epoch 6, In batch 400 Loss is : 0.059920020401477814 and accuracy is : 0.987175\n",
            "For Epoch 6, In batch 600 Loss is : 0.02448847144842148 and accuracy is : 0.9870333333333333\n",
            "For Epoch 7, In batch 200 Loss is : 0.005044102668762207 and accuracy is : 0.98995\n",
            "For Epoch 7, In batch 400 Loss is : 0.007832334376871586 and accuracy is : 0.989475\n",
            "For Epoch 7, In batch 600 Loss is : 0.047456298023462296 and accuracy is : 0.9887166666666667\n",
            "For Epoch 8, In batch 200 Loss is : 0.009787781164050102 and accuracy is : 0.9921\n",
            "For Epoch 8, In batch 400 Loss is : 0.09333903342485428 and accuracy is : 0.99145\n",
            "For Epoch 8, In batch 600 Loss is : 0.048658862709999084 and accuracy is : 0.99065\n",
            "For Epoch 9, In batch 200 Loss is : 0.018594620749354362 and accuracy is : 0.99365\n",
            "For Epoch 9, In batch 400 Loss is : 0.034845251590013504 and accuracy is : 0.993675\n",
            "For Epoch 9, In batch 600 Loss is : 0.00927828811109066 and accuracy is : 0.9926833333333334\n",
            "Duration : 2.38628732363383 minutes\n"
          ]
        }
      ]
    },
    {
      "cell_type": "markdown",
      "source": [
        "### Evaluation"
      ],
      "metadata": {
        "id": "ESc3lxHZFprP"
      }
    },
    {
      "cell_type": "code",
      "source": [
        "# Plotting the losses\n",
        "\n",
        "plt.plot([tensor.detach().numpy() for tensor in train_losses], label = 'Training Loss')\n",
        "plt.plot([tensor.detach().numpy() for tensor in test_losses], label = 'Test Loss')\n",
        "plt.legend()\n",
        "\n",
        "# .detach().numpy() is done to convert the pytorch tensor that requires grad to numpy array in order to plot using matplotlib"
      ],
      "metadata": {
        "colab": {
          "base_uri": "https://localhost:8080/",
          "height": 447
        },
        "id": "ZwZjwZOT_cSK",
        "outputId": "fee1c70c-b2aa-4749-a040-4f08d3ecf102"
      },
      "execution_count": 30,
      "outputs": [
        {
          "output_type": "execute_result",
          "data": {
            "text/plain": [
              "<matplotlib.legend.Legend at 0x7f4aa58d3eb0>"
            ]
          },
          "metadata": {},
          "execution_count": 30
        },
        {
          "output_type": "display_data",
          "data": {
            "text/plain": [
              "<Figure size 640x480 with 1 Axes>"
            ],
            "image/png": "[encoded data removed]"
          },
          "metadata": {}
        }
      ]
    },
    {
      "cell_type": "code",
      "source": [
        "train_acc = [t/600 for t in train_correct]"
      ],
      "metadata": {
        "id": "X4LC9L_aJ6JD"
      },
      "execution_count": 31,
      "outputs": []
    },
    {
      "cell_type": "code",
      "source": [
        "test_acc = [t/100 for t in test_correct]"
      ],
      "metadata": {
        "id": "bdjYljtYQ-y7"
      },
      "execution_count": 32,
      "outputs": []
    },
    {
      "cell_type": "code",
      "source": [
        "plt.plot([tensor.detach().numpy() for tensor in train_acc], label = 'Training Accuracy')\n",
        "plt.plot([tensor.detach().numpy() for tensor in test_acc], label = 'Test Accuracy')\n",
        "plt.legend()"
      ],
      "metadata": {
        "colab": {
          "base_uri": "https://localhost:8080/",
          "height": 447
        },
        "id": "c1543M6JRT-7",
        "outputId": "490e4fd3-6d68-4956-f241-ef8f12294462"
      },
      "execution_count": 33,
      "outputs": [
        {
          "output_type": "execute_result",
          "data": {
            "text/plain": [
              "<matplotlib.legend.Legend at 0x7f4aa56dddb0>"
            ]
          },
          "metadata": {},
          "execution_count": 33
        },
        {
          "output_type": "display_data",
          "data": {
            "text/plain": [
              "<Figure size 640x480 with 1 Axes>"
            ],
            "image/png": "[encoded data removed]"
          },
          "metadata": {}
        }
      ]
    },
    {
      "cell_type": "code",
      "source": [
        "# Testing with new unseen data\n",
        "\n",
        "test_load_all = DataLoader(test_data, batch_size=10000, shuffle = False)\n"
      ],
      "metadata": {
        "id": "BPfsUPJKRbEc"
      },
      "execution_count": 34,
      "outputs": []
    },
    {
      "cell_type": "code",
      "source": [
        "with torch.no_grad():\n",
        "  correct = 0\n",
        "\n",
        "  for X_test, y_test in test_load_all:\n",
        "    y_val = model(X_test.view(len(X_test), -1))\n",
        "    predicted = torch.max(y_val, 1)[1]\n",
        "    correct += (predicted == y_test).sum()"
      ],
      "metadata": {
        "id": "hYnBMhYOR6QM"
      },
      "execution_count": 35,
      "outputs": []
    },
    {
      "cell_type": "code",
      "source": [
        "print(f'Accuracy is : {correct.item()/len(y_test)}')"
      ],
      "metadata": {
        "colab": {
          "base_uri": "https://localhost:8080/"
        },
        "id": "jCKTbsHzSY2z",
        "outputId": "fdac136f-5334-40c4-fc56-1ed414c7c6c1"
      },
      "execution_count": 36,
      "outputs": [
        {
          "output_type": "stream",
          "name": "stdout",
          "text": [
            "Accuracy is : 0.9785\n"
          ]
        }
      ]
    },
    {
      "cell_type": "code",
      "source": [
        "confusion_matrix(predicted.view(-1), y_test.view(-1))"
      ],
      "metadata": {
        "colab": {
          "base_uri": "https://localhost:8080/"
        },
        "id": "yPKRqEPtStgj",
        "outputId": "c3915b01-491c-47cf-aa41-7015ec74db2e"
      },
      "execution_count": 37,
      "outputs": [
        {
          "output_type": "execute_result",
          "data": {
            "text/plain": [
              "array([[ 964,    0,    2,    0,    1,    2,    0,    1,    0,    0],\n",
              "       [   0, 1125,    0,    1,    1,    0,    3,    3,    0,    2],\n",
              "       [   1,    3, 1011,    7,    2,    0,    5,    9,    5,    1],\n",
              "       [   1,    1,    4,  991,    0,   11,    1,    3,    5,    5],\n",
              "       [   1,    0,    1,    0,  964,    2,    5,    1,    3,   10],\n",
              "       [   3,    0,    0,    4,    1,  863,    2,    0,    5,    5],\n",
              "       [   3,    2,    2,    0,    4,    4,  938,    0,    2,    0],\n",
              "       [   2,    0,    4,    4,    3,    0,    1, 1003,    2,    4],\n",
              "       [   3,    4,    7,    2,    1,    7,    3,    3,  948,    4],\n",
              "       [   2,    0,    1,    1,    5,    3,    0,    5,    4,  978]])"
            ]
          },
          "metadata": {},
          "execution_count": 37
        }
      ]
    }
  ]
}