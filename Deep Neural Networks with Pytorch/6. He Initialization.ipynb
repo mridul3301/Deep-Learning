{
  "cells": [
    {
      "cell_type": "markdown",
      "id": "d60e7179",
      "metadata": {
        "id": "d60e7179"
      },
      "source": [
        "### Test Uniform, Default, Xavier and He Initialization on MNIST dataset with tanh activation"
      ]
    },
    {
      "cell_type": "code",
      "execution_count": 26,
      "id": "a5d0427f",
      "metadata": {
        "colab": {
          "base_uri": "https://localhost:8080/"
        },
        "id": "a5d0427f",
        "outputId": "e8c1eaf9-9966-4c4e-c1c6-7b221eb1b779"
      },
      "outputs": [
        {
          "output_type": "execute_result",
          "data": {
            "text/plain": [
              "<torch._C.Generator at 0x7f04c41183f0>"
            ]
          },
          "metadata": {},
          "execution_count": 26
        }
      ],
      "source": [
        "# Import necessary libraries\n",
        "\n",
        "import torch \n",
        "import torch.nn as nn\n",
        "import torchvision.transforms as transforms\n",
        "import torchvision.datasets as dsets\n",
        "import torch.nn.functional as F\n",
        "import matplotlib.pylab as plt\n",
        "import numpy as np\n",
        "\n",
        "#Set the manual seed for random numbers\n",
        "torch.manual_seed(0)"
      ]
    },
    {
      "cell_type": "markdown",
      "id": "a0716853",
      "metadata": {
        "id": "a0716853"
      },
      "source": [
        "#### Neural Network Module and Training Function"
      ]
    },
    {
      "cell_type": "markdown",
      "id": "5d9f2c29",
      "metadata": {
        "id": "5d9f2c29"
      },
      "source": [
        "Define the neural network module or class with He Initialization\n"
      ]
    },
    {
      "cell_type": "code",
      "execution_count": 43,
      "id": "2ceec943",
      "metadata": {
        "id": "2ceec943"
      },
      "outputs": [],
      "source": [
        "#Define the class for neural network with He initialization\n",
        "\n",
        "class NetHe(nn.Module):\n",
        "    \n",
        "    #Constructor\n",
        "    def __init__(self, Layers):\n",
        "        super(NetHe, self).__init__()\n",
        "        self.hidden = nn.ModuleList()\n",
        "        \n",
        "        for input_size, output_size in zip(Layers, Layers[1:]):\n",
        "            linear = nn.Linear(input_size, output_size)\n",
        "            torch.nn.init.kaiming_uniform_(linear.weight, nonlinearity = \"relu\")\n",
        "            self.hidden.append(linear)\n",
        "            \n",
        "        \n",
        "    # Prediction\n",
        "    def forward(self, x):\n",
        "        L = len(self.hidden)\n",
        "        for (l, linear_transform) in zip(range(L), self.hidden):\n",
        "            if l < L-1:\n",
        "                x = torch.tanh(linear_transform(x))\n",
        "            else:\n",
        "                x = linear_transform(x)\n",
        "            return x"
      ]
    },
    {
      "cell_type": "markdown",
      "id": "889e8591-d7f1-43eb-b72c-83900c06ed8c",
      "metadata": {
        "id": "889e8591-d7f1-43eb-b72c-83900c06ed8c"
      },
      "source": [
        "Define the neural network module or class with Xavier Initialization\n"
      ]
    },
    {
      "cell_type": "code",
      "execution_count": 28,
      "id": "0c05cc6a-561c-4f6d-98b5-40e7cebb62f3",
      "metadata": {
        "id": "0c05cc6a-561c-4f6d-98b5-40e7cebb62f3"
      },
      "outputs": [],
      "source": [
        "# Define the neural network with Xavier initialization\n",
        "\n",
        "class Net_Xavier(nn.Module):\n",
        "    \n",
        "    # Constructor\n",
        "    def __init__(self, Layers):\n",
        "        super(Net_Xavier, self).__init__()\n",
        "        self.hidden = nn.ModuleList()\n",
        "\n",
        "        for input_size, output_size in zip(Layers, Layers[1:]):\n",
        "            linear = nn.Linear(input_size, output_size)\n",
        "            torch.nn.init.xavier_uniform_(linear.weight)\n",
        "            self.hidden.append(linear)\n",
        "    \n",
        "    # Prediction\n",
        "    def forward(self, x):\n",
        "        L = len(self.hidden)\n",
        "        for (l, linear_transform) in zip(range(L), self.hidden):\n",
        "            if l < L - 1:\n",
        "                x = torch.tanh(linear_transform(x))\n",
        "            else:\n",
        "                x = linear_transform(x)\n",
        "        return x"
      ]
    },
    {
      "cell_type": "markdown",
      "id": "080df4b3-da20-49b3-9d87-1bf9e04cd5cf",
      "metadata": {
        "id": "080df4b3-da20-49b3-9d87-1bf9e04cd5cf"
      },
      "source": [
        "Define the neural network module with Uniform Initialization:\n"
      ]
    },
    {
      "cell_type": "code",
      "execution_count": 29,
      "id": "7579f1a0-0186-4e86-aa0b-524721871bcd",
      "metadata": {
        "id": "7579f1a0-0186-4e86-aa0b-524721871bcd"
      },
      "outputs": [],
      "source": [
        "# Define the neural network with Uniform initialization\n",
        "\n",
        "class Net_Uniform(nn.Module):\n",
        "    \n",
        "    # Constructor\n",
        "    def __init__(self, Layers):\n",
        "        super(Net_Uniform, self).__init__()\n",
        "        self.hidden = nn.ModuleList()\n",
        "\n",
        "        for input_size, output_size in zip(Layers, Layers[1:]):\n",
        "            linear = nn.Linear(input_size, output_size)\n",
        "            linear.weight.data.uniform_(0, 1)\n",
        "            self.hidden.append(linear)\n",
        "    \n",
        "    # Prediction\n",
        "    def forward(self, x):\n",
        "        L = len(self.hidden)\n",
        "        for (l, linear_transform) in zip(range(L), self.hidden):\n",
        "            if l < L - 1:\n",
        "                x = torch.tanh(linear_transform(x))\n",
        "            else:\n",
        "                x = linear_transform(x)\n",
        "        return x"
      ]
    },
    {
      "cell_type": "markdown",
      "id": "eb9ae96b-31ac-4cc2-b42d-16e3c73ef343",
      "metadata": {
        "id": "eb9ae96b-31ac-4cc2-b42d-16e3c73ef343"
      },
      "source": [
        "Define the neural network module with PyTroch Default Initialization\n"
      ]
    },
    {
      "cell_type": "code",
      "execution_count": 30,
      "id": "824059a4-9ab1-4cd3-90a3-5a4cc05070e6",
      "metadata": {
        "id": "824059a4-9ab1-4cd3-90a3-5a4cc05070e6"
      },
      "outputs": [],
      "source": [
        "# Define the neural network with Default initialization\n",
        "\n",
        "class Net(nn.Module):\n",
        "    \n",
        "    # Constructor\n",
        "    def __init__(self, Layers):\n",
        "        super(Net, self).__init__()\n",
        "        self.hidden = nn.ModuleList()\n",
        "\n",
        "        for input_size, output_size in zip(Layers, Layers[1:]):\n",
        "            linear = nn.Linear(input_size, output_size)\n",
        "            self.hidden.append(linear)\n",
        "    \n",
        "    # Prediction\n",
        "    def forward(self, x):\n",
        "        L = len(self.hidden)\n",
        "        for (l, linear_transform) in zip(range(L), self.hidden):\n",
        "            if l < L - 1:\n",
        "                x = torch.tanh(linear_transform(x))\n",
        "            else:\n",
        "                x = linear_transform(x)\n",
        "        return x"
      ]
    },
    {
      "cell_type": "markdown",
      "id": "25e0a68e",
      "metadata": {
        "id": "25e0a68e"
      },
      "source": [
        "Define a function to train the model, in this case the function returns a Python dictionary to store the training loss and accuracy on the validation data \n"
      ]
    },
    {
      "cell_type": "code",
      "execution_count": 31,
      "id": "dff2ae89",
      "metadata": {
        "id": "dff2ae89"
      },
      "outputs": [],
      "source": [
        "#Define a function to train the model\n",
        "\n",
        "def train(model, criterion, train_loader, validation_loader, optimizer, epochs = 100):\n",
        "    i = 0\n",
        "    loss_accuracy = {'training_loss': [], \"validation_accuracy\": []}\n",
        "    \n",
        "    #n_epochs\n",
        "    for epoch in range(epochs):\n",
        "        for i, (x, y) in enumerate(train_loader):\n",
        "            optimizer.zero_grad()\n",
        "            z = model(x.view(-1, 28*28))\n",
        "            loss = criterion(z, y)\n",
        "            loss.backward()\n",
        "            optimizer.step()\n",
        "            loss_accuracy['training_loss'].append(loss.data.item())\n",
        "            \n",
        "        correct = 0\n",
        "        \n",
        "        for x, y in validation_loader:\n",
        "            yhat = model(x.view(-1, 28*28))\n",
        "            _, label = torch.max(yhat, 1)\n",
        "            correct += (label == y).sum().item()\n",
        "        accuracy = 100 * (correct/len(validation_dataset))\n",
        "        loss_accuracy['validation_accuracy'].append(accuracy)\n",
        "        \n",
        "    return loss_accuracy"
      ]
    },
    {
      "cell_type": "markdown",
      "id": "13adcee7",
      "metadata": {
        "id": "13adcee7"
      },
      "source": [
        "#### Make some Data"
      ]
    },
    {
      "cell_type": "markdown",
      "id": "a7b252c2-687c-4927-9f49-ee5484f3d91e",
      "metadata": {
        "id": "a7b252c2-687c-4927-9f49-ee5484f3d91e"
      },
      "source": [
        "Load the training dataset by setting the parameters <code>train </code> to <code>True</code> and convert it to a tensor  by placing a transform object int the argument <code>transform</code>\n"
      ]
    },
    {
      "cell_type": "code",
      "execution_count": 32,
      "id": "bdd5c5c4-fd58-4b2a-9d43-5dd021b569ee",
      "metadata": {
        "id": "bdd5c5c4-fd58-4b2a-9d43-5dd021b569ee"
      },
      "outputs": [],
      "source": [
        "# Create the training dataset\n",
        "\n",
        "train_dataset = dsets.MNIST(root='./data', train=True, download=True, transform=transforms.ToTensor())"
      ]
    },
    {
      "cell_type": "markdown",
      "id": "1d561877-56a8-4a9c-9724-9d8cb9a95d42",
      "metadata": {
        "id": "1d561877-56a8-4a9c-9724-9d8cb9a95d42"
      },
      "source": [
        "Load the testing dataset by setting the parameters train  <code>False</code> and convert it to a tensor  by placing a transform object int the argument <code>transform</code>\n"
      ]
    },
    {
      "cell_type": "code",
      "execution_count": 33,
      "id": "7d083ed5-e256-444f-9bec-82b07b909fd9",
      "metadata": {
        "id": "7d083ed5-e256-444f-9bec-82b07b909fd9"
      },
      "outputs": [],
      "source": [
        "# Create the validation dataset\n",
        "\n",
        "validation_dataset = dsets.MNIST(root='./data', train=False, download=True, transform=transforms.ToTensor())"
      ]
    },
    {
      "cell_type": "markdown",
      "id": "49bac2f4-b4c6-4850-a36f-3b648959d9df",
      "metadata": {
        "id": "49bac2f4-b4c6-4850-a36f-3b648959d9df"
      },
      "source": [
        "Create the training-data loader and the validation-data loader object \n"
      ]
    },
    {
      "cell_type": "code",
      "execution_count": 34,
      "id": "4567e342-d5ba-4284-a847-0e93b9156a40",
      "metadata": {
        "id": "4567e342-d5ba-4284-a847-0e93b9156a40"
      },
      "outputs": [],
      "source": [
        "# Create the data loader for training and validation\n",
        "\n",
        "train_loader = torch.utils.data.DataLoader(dataset=train_dataset, batch_size=2000, shuffle=True)\n",
        "validation_loader = torch.utils.data.DataLoader(dataset=validation_dataset, batch_size=5000, shuffle=False)"
      ]
    },
    {
      "cell_type": "markdown",
      "id": "d8405697",
      "metadata": {
        "id": "d8405697"
      },
      "source": [
        "#### Define Neural Network, Criterion function, Optimizer and Train the Model"
      ]
    },
    {
      "cell_type": "markdown",
      "id": "68140885",
      "metadata": {
        "id": "68140885"
      },
      "source": [
        "Create the criterion function"
      ]
    },
    {
      "cell_type": "code",
      "execution_count": 35,
      "id": "aa191fb3",
      "metadata": {
        "id": "aa191fb3"
      },
      "outputs": [],
      "source": [
        "# Criterion Function\n",
        "\n",
        "criterion = nn.CrossEntropyLoss()"
      ]
    },
    {
      "cell_type": "markdown",
      "id": "376211a6",
      "metadata": {
        "id": "376211a6"
      },
      "source": [
        "Create a list that contains layer size"
      ]
    },
    {
      "cell_type": "code",
      "execution_count": 36,
      "id": "460952c9",
      "metadata": {
        "id": "460952c9"
      },
      "outputs": [],
      "source": [
        "# Create the parameters\n",
        "\n",
        "input_dim = 28 * 28\n",
        "output_dim = 10\n",
        "layers = [input_dim, 100, 200, 100, output_dim]"
      ]
    },
    {
      "cell_type": "markdown",
      "source": [
        "<h3 id=\"Train\">Test PyTorch Default Initialization, Xavier Initialization and Uniform Initialization</h3> \n"
      ],
      "metadata": {
        "id": "v7hJTM1ss9FW"
      },
      "id": "v7hJTM1ss9FW"
    },
    {
      "cell_type": "markdown",
      "source": [
        "Train the PyTorch using Default  initialization."
      ],
      "metadata": {
        "id": "oSIhLftJtC0_"
      },
      "id": "oSIhLftJtC0_"
    },
    {
      "cell_type": "code",
      "source": [
        "# Train the model with default initialization\n",
        "\n",
        "model = Net(layers)\n",
        "learning_rate = 0.01\n",
        "optimizer = torch.optim.SGD(model.parameters(), lr = learning_rate)\n",
        "training_results = train(model, criterion, train_loader, validation_loader, optimizer, epochs = 30)"
      ],
      "metadata": {
        "id": "EdJmG82LtCmB"
      },
      "id": "EdJmG82LtCmB",
      "execution_count": 37,
      "outputs": []
    },
    {
      "cell_type": "markdown",
      "source": [
        "Training the model with uniform initialization."
      ],
      "metadata": {
        "id": "uSevAIMyt8OH"
      },
      "id": "uSevAIMyt8OH"
    },
    {
      "cell_type": "code",
      "execution_count": 38,
      "id": "b4f09d01",
      "metadata": {
        "id": "b4f09d01"
      },
      "outputs": [],
      "source": [
        "#Train the model with unifrom initialization\n",
        "\n",
        "model_uniform = Net_Uniform(layers)\n",
        "optimizer = torch.optim.SGD(model_uniform.parameters(), lr = learning_rate)\n",
        "training_results_uniform = train(model_uniform, criterion, train_loader, validation_loader, optimizer, epochs = 30)"
      ]
    },
    {
      "cell_type": "markdown",
      "source": [
        "Train the model with Xavier Initialization."
      ],
      "metadata": {
        "id": "nhAKaRjbvf_F"
      },
      "id": "nhAKaRjbvf_F"
    },
    {
      "cell_type": "code",
      "source": [
        "#Train the model with Xavier Initialization\n",
        "\n",
        "model_xavier = Net_Xavier(layers)\n",
        "optimizer = torch.optim.SGD(model_xavier.parameters(), lr = learning_rate)\n",
        "training_results_xavier = train(model_xavier, criterion, train_loader, validation_loader, optimizer, epochs = 30)"
      ],
      "metadata": {
        "id": "6aq8YSdTs48Y"
      },
      "id": "6aq8YSdTs48Y",
      "execution_count": 39,
      "outputs": []
    },
    {
      "cell_type": "markdown",
      "source": [
        "Train the model with He Initialization"
      ],
      "metadata": {
        "id": "uLukk7uYyLcq"
      },
      "id": "uLukk7uYyLcq"
    },
    {
      "cell_type": "code",
      "source": [
        "#Train the model with He intialization\n",
        "\n",
        "model_He = NetHe(layers)\n",
        "optimizer = torch.optim.SGD(model_He.parameters(), lr = learning_rate)\n",
        "training_results_he = train(model_He, criterion, train_loader, validation_loader, optimizer, epochs = 30)"
      ],
      "metadata": {
        "id": "CVzugubRyJqE"
      },
      "id": "CVzugubRyJqE",
      "execution_count": 44,
      "outputs": []
    },
    {
      "cell_type": "markdown",
      "source": [
        "### Analyze Results"
      ],
      "metadata": {
        "id": "Euw3aIbkzM_0"
      },
      "id": "Euw3aIbkzM_0"
    },
    {
      "cell_type": "markdown",
      "source": [
        "Compare the training loss for each model"
      ],
      "metadata": {
        "id": "S5H0xGOxzQs1"
      },
      "id": "S5H0xGOxzQs1"
    },
    {
      "cell_type": "code",
      "source": [
        "plt.plot(training_results['training_loss'], label = 'Default')\n",
        "plt.plot(training_results_uniform['training_loss'], label = 'Uniform')\n",
        "plt.plot(training_results_xavier['training_loss'], label = 'Xavier')\n",
        "plt.plot(training_results_he['training_loss'], label = 'He')\n",
        "plt.ylabel('loss')\n",
        "plt.xlabel('iteration ') \n",
        "plt.title('training loss iterations')\n",
        "plt.legend()"
      ],
      "metadata": {
        "colab": {
          "base_uri": "https://localhost:8080/",
          "height": 489
        },
        "id": "CDKNok2IzJDp",
        "outputId": "22b9570c-6a86-4a86-b837-058a16f5a08b"
      },
      "id": "CDKNok2IzJDp",
      "execution_count": 45,
      "outputs": [
        {
          "output_type": "execute_result",
          "data": {
            "text/plain": [
              "<matplotlib.legend.Legend at 0x7f04d4591f10>"
            ]
          },
          "metadata": {},
          "execution_count": 45
        },
        {
          "output_type": "display_data",
          "data": {
            "text/plain": [
              "<Figure size 640x480 with 1 Axes>"
            ],
            "image/png": "[encoded data removed]"
          },
          "metadata": {}
        }
      ]
    },
    {
      "cell_type": "markdown",
      "source": [
        "Compare the validation accuracy for each model"
      ],
      "metadata": {
        "id": "8ruQFwc00xQ0"
      },
      "id": "8ruQFwc00xQ0"
    },
    {
      "cell_type": "code",
      "source": [
        "# Plot the accuracy\n",
        "\n",
        "plt.plot(training_results_he['validation_accuracy'], label='He')\n",
        "plt.plot(training_results['validation_accuracy'], label='Default')\n",
        "plt.plot(training_results_uniform['validation_accuracy'], label='Uniform')\n",
        "plt.plot(training_results_xavier['validation_accuracy'], label = 'Xavier') \n",
        "plt.ylabel('validation accuracy')\n",
        "plt.xlabel('epochs ')   \n",
        "plt.legend()\n",
        "plt.show()"
      ],
      "metadata": {
        "colab": {
          "base_uri": "https://localhost:8080/",
          "height": 449
        },
        "id": "d8Tk6njw01jm",
        "outputId": "4afd8398-4284-4d77-cbdb-f7e2f00b53ae"
      },
      "id": "d8Tk6njw01jm",
      "execution_count": 46,
      "outputs": [
        {
          "output_type": "display_data",
          "data": {
            "text/plain": [
              "<Figure size 640x480 with 1 Axes>"
            ],
            "image/png": "[encoded data removed]"
          },
          "metadata": {}
        }
      ]
    }
  ],
  "metadata": {
    "kernelspec": {
      "display_name": "Python 3 (ipykernel)",
      "language": "python",
      "name": "python3"
    },
    "language_info": {
      "codemirror_mode": {
        "name": "ipython",
        "version": 3
      },
      "file_extension": ".py",
      "mimetype": "text/x-python",
      "name": "python",
      "nbconvert_exporter": "python",
      "pygments_lexer": "ipython3",
      "version": "3.9.12"
    },
    "colab": {
      "provenance": []
    }
  },
  "nbformat": 4,
  "nbformat_minor": 5
}