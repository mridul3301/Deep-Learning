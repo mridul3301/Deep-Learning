{
  "cells": [
    {
      "cell_type": "markdown",
      "id": "900ca1ac",
      "metadata": {
        "id": "900ca1ac"
      },
      "source": [
        "### Batch Normalization with the MNIST Dataset"
      ]
    },
    {
      "cell_type": "code",
      "execution_count": 26,
      "id": "feca8034",
      "metadata": {
        "colab": {
          "base_uri": "https://localhost:8080/"
        },
        "id": "feca8034",
        "outputId": "b031fdcb-08fd-4282-b4f5-379eb2da4654"
      },
      "outputs": [
        {
          "output_type": "execute_result",
          "data": {
            "text/plain": [
              "<torch._C.Generator at 0x7f15dc0bd250>"
            ]
          },
          "metadata": {},
          "execution_count": 26
        }
      ],
      "source": [
        "# Import necessary libraries\n",
        "\n",
        "import torch \n",
        "import torch.nn as nn\n",
        "import torchvision.transforms as transforms\n",
        "import torchvision.datasets as dsets\n",
        "import torch.nn.functional as F\n",
        "import matplotlib.pylab as plt\n",
        "import numpy as np\n",
        "\n",
        "# Set the manual seed for random number generation\n",
        "torch.manual_seed(0)"
      ]
    },
    {
      "cell_type": "markdown",
      "id": "6f715762",
      "metadata": {
        "id": "6f715762"
      },
      "source": [
        "#### Neural Network Module and Training Function"
      ]
    },
    {
      "cell_type": "markdown",
      "id": "1ecb7f04",
      "metadata": {
        "id": "1ecb7f04"
      },
      "source": [
        "Define the neural network module or class \n"
      ]
    },
    {
      "cell_type": "code",
      "execution_count": 27,
      "id": "51e2020b",
      "metadata": {
        "id": "51e2020b"
      },
      "outputs": [],
      "source": [
        "# Define Neural Network Module with two hidden layers using Batch Normalization\n",
        "\n",
        "class NetBatchNorm(nn.Module):\n",
        "    \n",
        "    # Constructor\n",
        "    def __init__(self, in_size, n_hidden1, n_hidden2, out_size):\n",
        "        super(NetBatchNorm, self).__init__()\n",
        "        self.linear1 = nn.Linear(in_size, n_hidden1)\n",
        "        self.linear2 = nn.Linear(n_hidden1, n_hidden2)\n",
        "        self.linear3 = nn.Linear(n_hidden2, out_size)\n",
        "        self.bn1 = nn.BatchNorm1d(n_hidden1)\n",
        "        self.bn2 = nn.BatchNorm1d(n_hidden2)\n",
        "        \n",
        "        \n",
        "    # Prediction\n",
        "    def forward(self, x):\n",
        "        x = self.bn1(torch.sigmoid(self.linear1(x)))\n",
        "        x = self.bn2(torch.sigmoid(self.linear2(x)))\n",
        "        x = self.linear3(x)\n",
        "        return x\n",
        "        \n",
        "    \n",
        "    # Activations to analyze results\n",
        "    def activation(self, x):\n",
        "        out = []\n",
        "        z1 = self.bn1(self.linear1(x))\n",
        "        out.append(z1.detach().numpy().reshape(-1))\n",
        "        a1 = torch.sigmoid(z1)\n",
        "        out.append(a1.detach().numpy().reshape(-1).reshape(-1))\n",
        "        z2 = self.bn2(self.linear2(a1))\n",
        "        out.append(z2.detach().numpy().reshape(-1))\n",
        "        a2 = torch.sigmoid(z2)\n",
        "        out.append(a2.detach().numpy().reshape(-1))\n",
        "        return out"
      ]
    },
    {
      "cell_type": "markdown",
      "id": "ac7caf9c",
      "metadata": {
        "id": "ac7caf9c"
      },
      "source": [
        "Neural Network Module with two hidden layers with out Batch Normalization\n"
      ]
    },
    {
      "cell_type": "code",
      "execution_count": 28,
      "id": "aa902b0e",
      "metadata": {
        "id": "aa902b0e"
      },
      "outputs": [],
      "source": [
        "# Class Net for Neural Network Model\n",
        "\n",
        "class Net(nn.Module):\n",
        "    \n",
        "    # Constructor\n",
        "    def __init__(self, in_size, n_hidden1, n_hidden2, out_size):\n",
        "\n",
        "        super(Net, self).__init__()\n",
        "        self.linear1 = nn.Linear(in_size, n_hidden1)\n",
        "        self.linear2 = nn.Linear(n_hidden1, n_hidden2)\n",
        "        self.linear3 = nn.Linear(n_hidden2, out_size)\n",
        "    \n",
        "    # Prediction\n",
        "    def forward(self, x):\n",
        "        x = torch.sigmoid(self.linear1(x))\n",
        "        x = torch.sigmoid(self.linear2(x))\n",
        "        x = self.linear3(x)\n",
        "        return x\n",
        "    \n",
        "    # Activations, to analyze results \n",
        "    def activation(self, x):\n",
        "        out = []\n",
        "        z1 = self.linear1(x)\n",
        "        out.append(z1.detach().numpy().reshape(-1))\n",
        "        a1 = torch.sigmoid(z1)\n",
        "        out.append(a1.detach().numpy().reshape(-1).reshape(-1))\n",
        "        z2 = self.linear2(a1)\n",
        "        out.append(z2.detach().numpy().reshape(-1))\n",
        "        a2 = torch.sigmoid(z2)\n",
        "        out.append(a2.detach().numpy().reshape(-1))\n",
        "        return out \n"
      ]
    },
    {
      "cell_type": "markdown",
      "id": "58631402",
      "metadata": {
        "id": "58631402"
      },
      "source": [
        "Define a function to train the model. In this case the function returns a Python dictionary to store the training loss and accuracy on the validation data \n"
      ]
    },
    {
      "cell_type": "code",
      "execution_count": 29,
      "id": "7de89417",
      "metadata": {
        "id": "7de89417"
      },
      "outputs": [],
      "source": [
        "# Function to train model\n",
        "\n",
        "def train(model, criterion, train_loader, validation_loader, optimizer, epochs=100):\n",
        "    useful_stuff = {'training_loss': [], 'validation_accuracy': []}\n",
        "\n",
        "    for epoch in range(epochs):\n",
        "        for i, (x, y) in enumerate(train_loader):\n",
        "            model.train()\n",
        "            optimizer.zero_grad()\n",
        "            z = model(x.view(-1, 28*28))\n",
        "\n",
        "            if z is None:\n",
        "                print(f\"Model returned None for input {x.view(-1, 28*28)}\")\n",
        "                continue\n",
        "\n",
        "            loss = criterion(z, y)\n",
        "            loss.backward()\n",
        "            optimizer.step()\n",
        "            useful_stuff['training_loss'].append(loss.data.item())\n",
        "\n",
        "        correct = 0\n",
        "        total = 0\n",
        "        with torch.no_grad():\n",
        "            for x, y in validation_loader:\n",
        "                model.eval()\n",
        "                yhat = model(x.view(-1, 28*28))\n",
        "                _, label = torch.max(yhat, 1)\n",
        "                correct += (label == y).sum().item()\n",
        "                total += x.shape[0]\n",
        "\n",
        "        accuracy = 100 * (correct / total)\n",
        "        useful_stuff['validation_accuracy'].append(accuracy)\n",
        "\n",
        "    return useful_stuff"
      ]
    },
    {
      "cell_type": "markdown",
      "id": "ff01f939",
      "metadata": {
        "id": "ff01f939"
      },
      "source": [
        "<h2 id=\"Makeup_Data\">Make Some Data</h2> \n"
      ]
    },
    {
      "cell_type": "markdown",
      "id": "6f7147e3",
      "metadata": {
        "id": "6f7147e3"
      },
      "source": [
        "Load the training dataset by setting the parameters <code>train </code> to <code>True</code> and convert it to a tensor  by placing a transform object int the argument <code>transform</code>\n"
      ]
    },
    {
      "cell_type": "code",
      "execution_count": 30,
      "id": "9ff4d46e",
      "metadata": {
        "id": "9ff4d46e"
      },
      "outputs": [],
      "source": [
        "# load the train dataset\n",
        "\n",
        "train_dataset = dsets.MNIST(root='./data', train=True, download=True, transform=transforms.ToTensor())"
      ]
    },
    {
      "cell_type": "markdown",
      "id": "9408052e",
      "metadata": {
        "id": "9408052e"
      },
      "source": [
        "Load the validating dataset by setting the parameters train  <code>False</code> and convert it to a tensor by placing a transform object into the argument <code>transform</code>\n"
      ]
    },
    {
      "cell_type": "code",
      "execution_count": 31,
      "id": "17fe2ea2",
      "metadata": {
        "id": "17fe2ea2"
      },
      "outputs": [],
      "source": [
        "# load the train dataset\n",
        "\n",
        "validation_dataset = dsets.MNIST(root='./data', train=False, download=True, transform=transforms.ToTensor())"
      ]
    },
    {
      "cell_type": "markdown",
      "id": "b52f994a",
      "metadata": {
        "id": "b52f994a"
      },
      "source": [
        "create the training-data loader and the validation-data loader object \n"
      ]
    },
    {
      "cell_type": "code",
      "execution_count": 32,
      "id": "959147f8",
      "metadata": {
        "id": "959147f8"
      },
      "outputs": [],
      "source": [
        "# Create Data Loader for both train and validating\n",
        "\n",
        "train_loader = torch.utils.data.DataLoader(dataset=train_dataset, batch_size=2000, shuffle=True)\n",
        "validation_loader = torch.utils.data.DataLoader(dataset=validation_dataset, batch_size=5000, shuffle=False)"
      ]
    },
    {
      "cell_type": "markdown",
      "id": "2beb498c",
      "metadata": {
        "id": "2beb498c"
      },
      "source": [
        "#### Define Neural Network, Criterion function, Optimizer and Train the Model"
      ]
    },
    {
      "cell_type": "markdown",
      "id": "2d37fac7",
      "metadata": {
        "id": "2d37fac7"
      },
      "source": [
        "Create the criterion function  \n"
      ]
    },
    {
      "cell_type": "code",
      "execution_count": 33,
      "id": "341e3956",
      "metadata": {
        "id": "341e3956"
      },
      "outputs": [],
      "source": [
        "# Create the criterion function\n",
        "\n",
        "criterion = nn.CrossEntropyLoss()"
      ]
    },
    {
      "cell_type": "markdown",
      "id": "5815dcfa",
      "metadata": {
        "id": "5815dcfa"
      },
      "source": [
        "Variables for Neural Network Shape <code> hidden_dim</code> used for number of neurons in both hidden layers.\n"
      ]
    },
    {
      "cell_type": "code",
      "execution_count": 34,
      "id": "fbea0df7",
      "metadata": {
        "id": "fbea0df7"
      },
      "outputs": [],
      "source": [
        "# Set the parameters\n",
        "\n",
        "input_dim = 28 * 28\n",
        "hidden_dim = 100\n",
        "output_dim = 10"
      ]
    },
    {
      "cell_type": "markdown",
      "source": [
        "#### Train Neural Network using Batch Normalization and no Batch Normalization "
      ],
      "metadata": {
        "id": "HH_JuUW_EkTP"
      },
      "id": "HH_JuUW_EkTP"
    },
    {
      "cell_type": "code",
      "execution_count": 35,
      "id": "c388313a",
      "metadata": {
        "id": "c388313a"
      },
      "outputs": [],
      "source": [
        "# Create model, optimizer and train the model with batch normalization\n",
        "\n",
        "model_norm  = NetBatchNorm(input_dim, hidden_dim, hidden_dim, output_dim)\n",
        "optimizer = torch.optim.Adam(model_norm.parameters(), lr = 0.1)\n"
      ]
    },
    {
      "cell_type": "code",
      "source": [
        "model_norm"
      ],
      "metadata": {
        "colab": {
          "base_uri": "https://localhost:8080/"
        },
        "id": "XGoOdRBgcFVO",
        "outputId": "ebac98ad-a541-427c-991d-c8a769a56c57"
      },
      "id": "XGoOdRBgcFVO",
      "execution_count": 36,
      "outputs": [
        {
          "output_type": "execute_result",
          "data": {
            "text/plain": [
              "NetBatchNorm(\n",
              "  (linear1): Linear(in_features=784, out_features=100, bias=True)\n",
              "  (linear2): Linear(in_features=100, out_features=100, bias=True)\n",
              "  (linear3): Linear(in_features=100, out_features=10, bias=True)\n",
              "  (bn1): BatchNorm1d(100, eps=1e-05, momentum=0.1, affine=True, track_running_stats=True)\n",
              "  (bn2): BatchNorm1d(100, eps=1e-05, momentum=0.1, affine=True, track_running_stats=True)\n",
              ")"
            ]
          },
          "metadata": {},
          "execution_count": 36
        }
      ]
    },
    {
      "cell_type": "code",
      "source": [
        "training_results_Norm=train(model_norm , criterion, train_loader, validation_loader, optimizer, epochs=5)"
      ],
      "metadata": {
        "id": "4Mk5F8ySTvG_"
      },
      "id": "4Mk5F8ySTvG_",
      "execution_count": 37,
      "outputs": []
    },
    {
      "cell_type": "markdown",
      "source": [],
      "metadata": {
        "id": "sK_SbBP0Tu2F"
      },
      "id": "sK_SbBP0Tu2F"
    },
    {
      "cell_type": "code",
      "source": [
        "# Create model without Batch Normalization, optimizer and train the model\n",
        "\n",
        "model = Net(input_dim, hidden_dim, hidden_dim, output_dim)\n",
        "optimizer = torch.optim.Adam(model.parameters(), lr = 0.1)\n",
        "training_results = train(model, criterion, train_loader, validation_loader, optimizer, epochs=5)"
      ],
      "metadata": {
        "id": "OgTKGa-jEsAW"
      },
      "id": "OgTKGa-jEsAW",
      "execution_count": 38,
      "outputs": []
    },
    {
      "cell_type": "markdown",
      "source": [
        "### Analyze Results"
      ],
      "metadata": {
        "id": "jfj87-_7fA3j"
      },
      "id": "jfj87-_7fA3j"
    },
    {
      "cell_type": "markdown",
      "source": [
        "Compare the histograms of the activation for the first layer of the first sample, for both models."
      ],
      "metadata": {
        "id": "22j6IFX5fE2r"
      },
      "id": "22j6IFX5fE2r"
    },
    {
      "cell_type": "code",
      "source": [
        "model.eval()\n",
        "model_norm.eval()\n",
        "out=model.activation(validation_dataset[0][0].reshape(-1,28*28))\n",
        "plt.hist(out[2],label='model with no batch normalization' )\n",
        "out_norm=model_norm.activation(validation_dataset[0][0].reshape(-1,28*28))\n",
        "plt.hist(out_norm[2],label='model with normalization')\n",
        "plt.xlabel(\"activation \")\n",
        "plt.legend()\n",
        "plt.show()"
      ],
      "metadata": {
        "colab": {
          "base_uri": "https://localhost:8080/",
          "height": 449
        },
        "id": "5lhctI-zfC9G",
        "outputId": "bcd1d10a-688a-49b4-fa5c-d2a78388322d"
      },
      "id": "5lhctI-zfC9G",
      "execution_count": 39,
      "outputs": [
        {
          "output_type": "display_data",
          "data": {
            "text/plain": [
              "<Figure size 640x480 with 1 Axes>"
            ],
            "image/png": "[encoded data removed]"
          },
          "metadata": {}
        }
      ]
    },
    {
      "cell_type": "markdown",
      "source": [
        "We see the activations with Batch Normalization are zero centred and have a smaller variance."
      ],
      "metadata": {
        "id": "WpRcr20NfI5Y"
      },
      "id": "WpRcr20NfI5Y"
    },
    {
      "cell_type": "markdown",
      "source": [
        "Compare the training loss for each iteration"
      ],
      "metadata": {
        "id": "nYezLhHAfMBv"
      },
      "id": "nYezLhHAfMBv"
    },
    {
      "cell_type": "code",
      "source": [
        "# Plot the diagram to show the loss\n",
        "\n",
        "plt.plot(training_results['training_loss'], label='No Batch Normalization')\n",
        "plt.plot(training_results_Norm['training_loss'], label='Batch Normalization')\n",
        "plt.ylabel('Cost')\n",
        "plt.xlabel('iterations ')   \n",
        "plt.legend()\n",
        "plt.show()"
      ],
      "metadata": {
        "colab": {
          "base_uri": "https://localhost:8080/",
          "height": 449
        },
        "id": "73RQi2xTfGiG",
        "outputId": "28e8290c-4ae8-41c0-9b7a-f1ddb482a237"
      },
      "id": "73RQi2xTfGiG",
      "execution_count": 40,
      "outputs": [
        {
          "output_type": "display_data",
          "data": {
            "text/plain": [
              "<Figure size 640x480 with 1 Axes>"
            ],
            "image/png": "[encoded data removed]"
          },
          "metadata": {}
        }
      ]
    },
    {
      "cell_type": "markdown",
      "source": [
        "Compare the validating accuracy for each iteration"
      ],
      "metadata": {
        "id": "kve__QHufTZb"
      },
      "id": "kve__QHufTZb"
    },
    {
      "cell_type": "code",
      "source": [
        "# Plot the diagram to show the accuracy\n",
        "\n",
        "plt.plot(training_results['validation_accuracy'],label='No Batch Normalization')\n",
        "plt.plot(training_results_Norm['validation_accuracy'],label='Batch Normalization')\n",
        "plt.ylabel('validation accuracy')\n",
        "plt.xlabel('epochs ')   \n",
        "plt.legend()\n",
        "plt.show()"
      ],
      "metadata": {
        "colab": {
          "base_uri": "https://localhost:8080/",
          "height": 449
        },
        "id": "rJqSuU_bfPvH",
        "outputId": "7b51ed59-67a0-4b31-c03e-430f9b7fbfb8"
      },
      "id": "rJqSuU_bfPvH",
      "execution_count": 41,
      "outputs": [
        {
          "output_type": "display_data",
          "data": {
            "text/plain": [
              "<Figure size 640x480 with 1 Axes>"
            ],
            "image/png": "[encoded data removed]"
          },
          "metadata": {}
        }
      ]
    }
  ],
  "metadata": {
    "kernelspec": {
      "display_name": "Python 3 (ipykernel)",
      "language": "python",
      "name": "python3"
    },
    "language_info": {
      "codemirror_mode": {
        "name": "ipython",
        "version": 3
      },
      "file_extension": ".py",
      "mimetype": "text/x-python",
      "name": "python",
      "nbconvert_exporter": "python",
      "pygments_lexer": "ipython3",
      "version": "3.9.12"
    },
    "colab": {
      "provenance": []
    }
  },
  "nbformat": 4,
  "nbformat_minor": 5
}