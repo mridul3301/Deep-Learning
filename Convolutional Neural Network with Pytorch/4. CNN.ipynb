{
  "cells": [
    {
      "cell_type": "markdown",
      "id": "86993b18",
      "metadata": {
        "id": "86993b18"
      },
      "source": [
        "<h3 align=center><font size = 5>Convolutional Neural Network Simple example </font></h3> "
      ]
    },
    {
      "cell_type": "code",
      "execution_count": 1,
      "id": "b91ba76d",
      "metadata": {
        "id": "b91ba76d"
      },
      "outputs": [],
      "source": [
        "# Import necessary libraries\n",
        "\n",
        "import torch\n",
        "import torch.nn as nn\n",
        "import torchvision.transforms as transforms\n",
        "import torchvision.datasets as dsets\n",
        "import matplotlib.pylab as plt\n",
        "import numpy as np\n",
        "import pandas as pd"
      ]
    },
    {
      "cell_type": "code",
      "execution_count": 2,
      "id": "dc1e028d",
      "metadata": {
        "colab": {
          "base_uri": "https://localhost:8080/"
        },
        "id": "dc1e028d",
        "outputId": "4d5b1af4-50dd-4b83-9800-5e1ef28230ae"
      },
      "outputs": [
        {
          "output_type": "execute_result",
          "data": {
            "text/plain": [
              "<torch._C.Generator at 0x7fcd40013250>"
            ]
          },
          "metadata": {},
          "execution_count": 2
        }
      ],
      "source": [
        "# Set the manual seed for random number generation\n",
        "torch.manual_seed(4)"
      ]
    },
    {
      "cell_type": "markdown",
      "id": "684dd25c",
      "metadata": {
        "id": "684dd25c"
      },
      "source": [
        "Function to plot parameters of convolutional layers : <code>plot_channels</code>"
      ]
    },
    {
      "cell_type": "code",
      "execution_count": 3,
      "id": "921f7f13",
      "metadata": {
        "id": "921f7f13"
      },
      "outputs": [],
      "source": [
        "# Function to plot out the parameters of the Convolutional Layers\n",
        "\n",
        "def plot_channels(W):\n",
        "    #number of output channels \n",
        "    n_out=W.shape[0]\n",
        "    #number of input channels \n",
        "    n_in=W.shape[1]\n",
        "    \n",
        "    w_min=W.min().item()\n",
        "    w_max=W.max().item()\n",
        "    \n",
        "    fig, axes = plt.subplots(n_out,n_in)\n",
        "    fig.subplots_adjust(hspace = 0.1)\n",
        "    \n",
        "    out_index=0\n",
        "    in_index=0\n",
        "    #plot outputs as rows inputs as columns \n",
        "    for ax in axes.flat:\n",
        "    \n",
        "        if in_index>n_in-1:\n",
        "            out_index=out_index+1\n",
        "            in_index=0\n",
        "              \n",
        "        ax.imshow(W[out_index,in_index,:,:], vmin=w_min, vmax=w_max, cmap='seismic')\n",
        "        ax.set_yticklabels([])\n",
        "        ax.set_xticklabels([])\n",
        "        in_index=in_index+1\n",
        "\n",
        "    plt.show()"
      ]
    },
    {
      "cell_type": "markdown",
      "id": "638883ed",
      "metadata": {
        "id": "638883ed"
      },
      "source": [
        "Function to plot data sample : <code>show_data</code>"
      ]
    },
    {
      "cell_type": "code",
      "execution_count": 4,
      "id": "9d091166",
      "metadata": {
        "id": "9d091166"
      },
      "outputs": [],
      "source": [
        "# Function to plot out data sample\n",
        "\n",
        "def show_data(dataset,sample):\n",
        "\n",
        "    plt.imshow(dataset.x[sample,0,:,:].numpy(),cmap='gray')\n",
        "    plt.title('y='+str(dataset.y[sample].item()))\n",
        "    plt.show()"
      ]
    },
    {
      "cell_type": "markdown",
      "id": "53d8fe45",
      "metadata": {
        "id": "53d8fe45"
      },
      "source": [
        "Create a Dataset class : <code>Data</code>"
      ]
    },
    {
      "cell_type": "code",
      "execution_count": 5,
      "id": "55267a6e",
      "metadata": {
        "id": "55267a6e"
      },
      "outputs": [],
      "source": [
        "from torch.utils.data import Dataset, DataLoader\n",
        "class Data(Dataset):\n",
        "    def __init__(self,N_images=100,offset=0,p=0.9, train=False):\n",
        "        \"\"\"\n",
        "        p:portability that pixel is wight  \n",
        "        N_images:number of images \n",
        "        offset:set a random vertical and horizontal offset images by a sample should be less than 3 \n",
        "        \"\"\"\n",
        "        if train==True:\n",
        "            np.random.seed(1)  \n",
        "        \n",
        "        #make images multiple of 3 \n",
        "        N_images=2*(N_images//2)\n",
        "        images=np.zeros((N_images,1,11,11))\n",
        "        start1=3\n",
        "        start2=1\n",
        "        self.y=torch.zeros(N_images).type(torch.long)\n",
        "\n",
        "        for n in range(N_images):\n",
        "            if offset>0:\n",
        "        \n",
        "                low=int(np.random.randint(low=start1, high=start1+offset, size=1))\n",
        "                high=int(np.random.randint(low=start2, high=start2+offset, size=1))\n",
        "            else:\n",
        "                low=4\n",
        "                high=1\n",
        "        \n",
        "            if n<=N_images//2:\n",
        "                self.y[n]=0\n",
        "                images[n,0,high:high+9,low:low+3]= np.random.binomial(1, p, (9,3))\n",
        "            elif  n>N_images//2:\n",
        "                self.y[n]=1\n",
        "                images[n,0,low:low+3,high:high+9] = np.random.binomial(1, p, (3,9))\n",
        "           \n",
        "        \n",
        "        \n",
        "        self.x=torch.from_numpy(images).type(torch.FloatTensor)\n",
        "        self.len=self.x.shape[0]\n",
        "        del(images)\n",
        "        np.random.seed(0)\n",
        "    def __getitem__(self,index):      \n",
        "        return self.x[index],self.y[index]\n",
        "    def __len__(self):\n",
        "        return self.len"
      ]
    },
    {
      "cell_type": "markdown",
      "id": "ceef2a23",
      "metadata": {
        "id": "ceef2a23"
      },
      "source": [
        "Functions to plot the activations of the Convolution Layers : <code>plot_activations</code>"
      ]
    },
    {
      "cell_type": "code",
      "execution_count": 6,
      "id": "df8107a8",
      "metadata": {
        "id": "df8107a8"
      },
      "outputs": [],
      "source": [
        "def plot_activations(A,number_rows= 1,name=\"\"):\n",
        "    A=A[0,:,:,:].detach().numpy()\n",
        "    n_activations=A.shape[0]\n",
        "    \n",
        "    \n",
        "    print(n_activations)\n",
        "    A_min=A.min().item()\n",
        "    A_max=A.max().item()\n",
        "\n",
        "    if n_activations==1:\n",
        "\n",
        "        # Plot the image.\n",
        "        plt.imshow(A[0,:], vmin=A_min, vmax=A_max, cmap='seismic')\n",
        "\n",
        "    else:\n",
        "        fig, axes = plt.subplots(number_rows, n_activations//number_rows)\n",
        "        fig.subplots_adjust(hspace = 0.4)\n",
        "        for i,ax in enumerate(axes.flat):\n",
        "            if i< n_activations:\n",
        "                # Set the label for the sub-plot.\n",
        "                ax.set_xlabel( \"activation:{0}\".format(i+1))\n",
        "\n",
        "                # Plot the image.\n",
        "                ax.imshow(A[i,:], vmin=A_min, vmax=A_max, cmap='seismic')\n",
        "                ax.set_xticks([])\n",
        "                ax.set_yticks([])\n",
        "    plt.show()"
      ]
    },
    {
      "cell_type": "markdown",
      "id": "a1fe33f9",
      "metadata": {
        "id": "a1fe33f9"
      },
      "source": [
        "Function to compute output of convolutions : <code>conv_output_shape</code>"
      ]
    },
    {
      "cell_type": "code",
      "execution_count": 7,
      "id": "2bf64394",
      "metadata": {
        "id": "2bf64394"
      },
      "outputs": [],
      "source": [
        "\n",
        "def conv_output_shape(h_w, kernel_size=1, stride=1, pad=0, dilation=1):\n",
        "    #by Duane Nielsen\n",
        "    from math import floor\n",
        "    if type(kernel_size) is not tuple:\n",
        "        kernel_size = (kernel_size, kernel_size)\n",
        "    h = floor( ((h_w[0] + (2 * pad) - ( dilation * (kernel_size[0] - 1) ) - 1 )/ stride) + 1)\n",
        "    w = floor( ((h_w[1] + (2 * pad) - ( dilation * (kernel_size[1] - 1) ) - 1 )/ stride) + 1)\n",
        "    return h, w"
      ]
    },
    {
      "cell_type": "markdown",
      "id": "caef31fe-225b-4a06-b925-d1da6e0618de",
      "metadata": {
        "id": "caef31fe-225b-4a06-b925-d1da6e0618de"
      },
      "source": [
        "<a id=\"ref1\"></a>\n",
        "<h3 align=center>Prepare Data </h3> \n"
      ]
    },
    {
      "cell_type": "markdown",
      "id": "ca99bfc6-9ab0-45cf-9676-14e6be84670e",
      "metadata": {
        "id": "ca99bfc6-9ab0-45cf-9676-14e6be84670e"
      },
      "source": [
        "Load the training dataset with 10000 samples \n"
      ]
    },
    {
      "cell_type": "code",
      "execution_count": 8,
      "id": "bf878100-3aa8-4851-9253-a4550344966c",
      "metadata": {
        "id": "bf878100-3aa8-4851-9253-a4550344966c"
      },
      "outputs": [],
      "source": [
        "N_images=10000\n",
        "train_dataset=Data(N_images=N_images)"
      ]
    },
    {
      "cell_type": "markdown",
      "id": "066c9ac0-3776-40c2-a915-058761c343b5",
      "metadata": {
        "id": "066c9ac0-3776-40c2-a915-058761c343b5"
      },
      "source": [
        "Load the testing dataset\n"
      ]
    },
    {
      "cell_type": "code",
      "execution_count": 9,
      "id": "2804e04a-f4c6-4b33-a2ef-02831adcb5fc",
      "metadata": {
        "colab": {
          "base_uri": "https://localhost:8080/"
        },
        "id": "2804e04a-f4c6-4b33-a2ef-02831adcb5fc",
        "outputId": "a56e9759-6a9b-4cb5-eda3-c3d34ef945bd"
      },
      "outputs": [
        {
          "output_type": "execute_result",
          "data": {
            "text/plain": [
              "<__main__.Data at 0x7fcd68136f70>"
            ]
          },
          "metadata": {},
          "execution_count": 9
        }
      ],
      "source": [
        "validation_dataset=Data(N_images=1000,train=False)\n",
        "validation_dataset"
      ]
    },
    {
      "cell_type": "markdown",
      "id": "e4f76952-8ee3-431c-a46b-8d91023ce603",
      "metadata": {
        "id": "e4f76952-8ee3-431c-a46b-8d91023ce603"
      },
      "source": [
        "We can see the data type is long.\n"
      ]
    },
    {
      "cell_type": "markdown",
      "id": "8e12dae0-ae35-41c8-8cfe-a7f68cf0b448",
      "metadata": {
        "id": "8e12dae0-ae35-41c8-8cfe-a7f68cf0b448"
      },
      "source": [
        "#### Data Visualization \n"
      ]
    },
    {
      "cell_type": "markdown",
      "id": "9483540f-938b-436c-8c9e-008ef815f6af",
      "metadata": {
        "id": "9483540f-938b-436c-8c9e-008ef815f6af"
      },
      "source": [
        "Each element in the rectangular  tensor corresponds to a number representing a pixel intensity  as demonstrated by  the following image.\n"
      ]
    },
    {
      "cell_type": "code",
      "execution_count": 10,
      "id": "bebaac1c-641d-4a3b-89dd-b85f93af008b",
      "metadata": {
        "colab": {
          "base_uri": "https://localhost:8080/",
          "height": 452
        },
        "id": "bebaac1c-641d-4a3b-89dd-b85f93af008b",
        "outputId": "e3a8883f-7121-4467-a6a7-e24a4a9222b5"
      },
      "outputs": [
        {
          "output_type": "display_data",
          "data": {
            "text/plain": [
              "<Figure size 640x480 with 1 Axes>"
            ],
            "image/png": "[encoded data removed]"
          },
          "metadata": {}
        }
      ],
      "source": [
        "show_data(train_dataset,0)"
      ]
    },
    {
      "cell_type": "code",
      "execution_count": 11,
      "id": "2c26564d-fa40-4946-a6c4-7000fb3863b8",
      "metadata": {
        "colab": {
          "base_uri": "https://localhost:8080/",
          "height": 452
        },
        "id": "2c26564d-fa40-4946-a6c4-7000fb3863b8",
        "outputId": "bf1554a3-db47-433a-aed3-a0bf7dc842be"
      },
      "outputs": [
        {
          "output_type": "display_data",
          "data": {
            "text/plain": [
              "<Figure size 640x480 with 1 Axes>"
            ],
            "image/png": "[encoded data removed]"
          },
          "metadata": {}
        }
      ],
      "source": [
        "show_data(train_dataset,N_images//2+2)"
      ]
    },
    {
      "cell_type": "markdown",
      "id": "1e3873d0",
      "metadata": {
        "id": "1e3873d0"
      },
      "source": [
        "#### Building a CNN class"
      ]
    },
    {
      "cell_type": "markdown",
      "id": "af13c770",
      "metadata": {
        "id": "af13c770"
      },
      "source": [
        "The input image is 11 x 11, the following will change the size of activations:<br>\n",
        "    convolution layer<br>\n",
        "    max pooling layer <br>\n",
        "    convolution layer <br>\n",
        "    max pooling layer <br>\n",
        "    \n",
        "with the following parameters <code>kernel_size</code>, <code>stride</code> and <code>pad</code>. We use the code below to change the image before we do anything with fully conected layer."
      ]
    },
    {
      "cell_type": "code",
      "execution_count": 12,
      "id": "fdcbc586",
      "metadata": {
        "colab": {
          "base_uri": "https://localhost:8080/"
        },
        "id": "fdcbc586",
        "outputId": "0ccaf723-f791-4349-cf09-12c727f0bd77"
      },
      "outputs": [
        {
          "output_type": "stream",
          "name": "stdout",
          "text": [
            "(10, 10)\n",
            "(9, 9)\n",
            "(8, 8)\n",
            "(7, 7)\n"
          ]
        }
      ],
      "source": [
        "out = conv_output_shape((11, 11), kernel_size= 2, stride = 1, pad = 0, dilation = 1)\n",
        "print(out)\n",
        "out1 = conv_output_shape(out, kernel_size=2, stride = 1, pad = 0, dilation = 1)\n",
        "print(out1)\n",
        "out2 = conv_output_shape(out1, kernel_size=2, stride=1, pad = 0, dilation=1)\n",
        "print(out2)\n",
        "out3 = conv_output_shape(out2, kernel_size=2, stride=1, pad = 0, dilation = 1)\n",
        "print(out3)"
      ]
    },
    {
      "cell_type": "markdown",
      "id": "64bfc691",
      "metadata": {
        "id": "64bfc691"
      },
      "source": [
        "Build a Convolutional Network class with two Convolutional layers and one fully connected layer. Pre-determine the size of the final output matrix. The parameters in the constructor are the number of output channels for the first and second layer."
      ]
    },
    {
      "cell_type": "code",
      "execution_count": 13,
      "id": "409db4c8",
      "metadata": {
        "id": "409db4c8"
      },
      "outputs": [],
      "source": [
        "class CNN(nn.Module):\n",
        "    \n",
        "    # Constructor\n",
        "    def __init__(self, out_1 = 2, out_2 =1):\n",
        "        \n",
        "        super(CNN, self).__init__()\n",
        "        \n",
        "        # First Convolution Layer\n",
        "        self.cnn1 = nn.Conv2d(in_channels=1, out_channels=out_1, kernel_size=2, padding = 0)\n",
        "        # First Pooling layer\n",
        "        self.maxpool1 = nn.MaxPool2d(kernel_size= 2, stride=1)\n",
        "        \n",
        "        \n",
        "        # Second Convolution layer\n",
        "        self.cnn2 = nn.Conv2d(in_channels=out_1, out_channels=out_2, kernel_size=2, stride=1, padding=0)\n",
        "        # Second Pooling Layer\n",
        "        self.maxpool2 = nn.MaxPool2d(kernel_size=2, stride=1)\n",
        "        \n",
        "        \n",
        "        # Fully Connected layer\n",
        "        self.fc1 = nn.Linear(out_2*7*7, 2)\n",
        "        \n",
        "        \n",
        "    \n",
        "    # Prediction\n",
        "    def forward(self, x):\n",
        "        \n",
        "        # First Convolution Layer\n",
        "        x = self.cnn1(x)\n",
        "        # Activation Function\n",
        "        x = torch.relu(x)\n",
        "        # First Pooling Layer\n",
        "        x = self.maxpool1(x)\n",
        "        # Second Convolution Layer\n",
        "        x = self.cnn2(x)\n",
        "        # Activation Function\n",
        "        x = torch.relu(x)\n",
        "        # Second pooling layer\n",
        "        x = self.maxpool2(x)\n",
        "        # Flatten the output\n",
        "        x = x.view(x.size(0), -1)\n",
        "        # Fully connected Layer\n",
        "        x = self.fc1(x)\n",
        "        return x\n",
        "    \n",
        "    # Activation\n",
        "    def activations(self, x):\n",
        "        \n",
        "        # This function outputs activation but is not necessary to do\n",
        "        z1=self.cnn1(x)\n",
        "        a1=torch.relu(z1)\n",
        "        out=self.maxpool1(a1)\n",
        "        \n",
        "        z2=self.cnn2(out)\n",
        "        a2=torch.relu(z2)\n",
        "        out=self.maxpool2(a2)\n",
        "        out=out.view(out.size(0),-1)\n",
        "        return z1,a1,z2,a2,out        "
      ]
    },
    {
      "cell_type": "markdown",
      "id": "9ec27fcb",
      "metadata": {
        "id": "9ec27fcb"
      },
      "source": [
        "#### Define the Convolutional Neral Network Classifier , Criterion function, Optimizer and Train the Model"
      ]
    },
    {
      "cell_type": "markdown",
      "id": "faa04725-942b-4494-b114-3e7798aa0436",
      "metadata": {
        "id": "faa04725-942b-4494-b114-3e7798aa0436"
      },
      "source": [
        "There are 2 output channels for the first layer, and 1 outputs channel for the second layer \n"
      ]
    },
    {
      "cell_type": "code",
      "execution_count": 14,
      "id": "bb80d1c0-2026-481e-92ed-b0933dfb5269",
      "metadata": {
        "id": "bb80d1c0-2026-481e-92ed-b0933dfb5269"
      },
      "outputs": [],
      "source": [
        "model=CNN(2,1)"
      ]
    },
    {
      "cell_type": "markdown",
      "id": "31f0d39c-44af-4e5f-9003-1c45d6a543d6",
      "metadata": {
        "id": "31f0d39c-44af-4e5f-9003-1c45d6a543d6"
      },
      "source": [
        "we can see the model parameters with the object \n"
      ]
    },
    {
      "cell_type": "code",
      "execution_count": 15,
      "id": "01d47bf0-555a-4e71-a0b7-02ffe3f64e33",
      "metadata": {
        "colab": {
          "base_uri": "https://localhost:8080/"
        },
        "id": "01d47bf0-555a-4e71-a0b7-02ffe3f64e33",
        "outputId": "5e4f949e-5f49-49d7-adcf-ee2c7ff593ec"
      },
      "outputs": [
        {
          "output_type": "execute_result",
          "data": {
            "text/plain": [
              "CNN(\n",
              "  (cnn1): Conv2d(1, 2, kernel_size=(2, 2), stride=(1, 1))\n",
              "  (maxpool1): MaxPool2d(kernel_size=2, stride=1, padding=0, dilation=1, ceil_mode=False)\n",
              "  (cnn2): Conv2d(2, 1, kernel_size=(2, 2), stride=(1, 1))\n",
              "  (maxpool2): MaxPool2d(kernel_size=2, stride=1, padding=0, dilation=1, ceil_mode=False)\n",
              "  (fc1): Linear(in_features=49, out_features=2, bias=True)\n",
              ")"
            ]
          },
          "metadata": {},
          "execution_count": 15
        }
      ],
      "source": [
        "model"
      ]
    },
    {
      "cell_type": "markdown",
      "id": "763b2652-060d-4198-8fab-4e65d2bd838f",
      "metadata": {
        "id": "763b2652-060d-4198-8fab-4e65d2bd838f"
      },
      "source": [
        "Plot the model parameters for the kernels before training the kernels. The kernels are initialized randomly.\n"
      ]
    },
    {
      "cell_type": "code",
      "execution_count": 16,
      "id": "f8809f0b-53a0-4517-8138-2b04288ecbee",
      "metadata": {
        "colab": {
          "base_uri": "https://localhost:8080/",
          "height": 411
        },
        "id": "f8809f0b-53a0-4517-8138-2b04288ecbee",
        "outputId": "3de7087b-6151-4449-ff6a-b1e7d8098726"
      },
      "outputs": [
        {
          "output_type": "display_data",
          "data": {
            "text/plain": [
              "<Figure size 640x480 with 2 Axes>"
            ],
            "image/png": "[encoded data removed]"
          },
          "metadata": {}
        }
      ],
      "source": [
        "\n",
        "plot_channels(model.state_dict()['cnn1.weight'])\n"
      ]
    },
    {
      "cell_type": "markdown",
      "id": "839e7e20-1870-4084-a603-d8634ec2fc7b",
      "metadata": {
        "id": "839e7e20-1870-4084-a603-d8634ec2fc7b"
      },
      "source": [
        "Loss function \n"
      ]
    },
    {
      "cell_type": "code",
      "execution_count": 17,
      "id": "868d5c3e-8e0d-47de-9157-258aa2459c17",
      "metadata": {
        "colab": {
          "base_uri": "https://localhost:8080/",
          "height": 267
        },
        "id": "868d5c3e-8e0d-47de-9157-258aa2459c17",
        "outputId": "3a90ca73-cc3b-4417-d41e-4d62d6c1261f"
      },
      "outputs": [
        {
          "output_type": "display_data",
          "data": {
            "text/plain": [
              "<Figure size 640x480 with 2 Axes>"
            ],
            "image/png": "[encoded data removed]"
          },
          "metadata": {}
        }
      ],
      "source": [
        "plot_channels(model.state_dict()['cnn2.weight'])"
      ]
    },
    {
      "cell_type": "markdown",
      "id": "1ee105ab-b987-4d7d-b4ec-46b4300b7b4e",
      "metadata": {
        "id": "1ee105ab-b987-4d7d-b4ec-46b4300b7b4e"
      },
      "source": [
        "Define the loss function \n"
      ]
    },
    {
      "cell_type": "code",
      "execution_count": 18,
      "id": "2d74dbb1-4c05-4cbe-9489-1b7fb35945b9",
      "metadata": {
        "id": "2d74dbb1-4c05-4cbe-9489-1b7fb35945b9"
      },
      "outputs": [],
      "source": [
        "criterion=nn.CrossEntropyLoss()"
      ]
    },
    {
      "cell_type": "markdown",
      "id": "174ee8ad-4f00-4812-87cf-4cd85661d5b9",
      "metadata": {
        "id": "174ee8ad-4f00-4812-87cf-4cd85661d5b9"
      },
      "source": [
        " optimizer class \n"
      ]
    },
    {
      "cell_type": "code",
      "execution_count": 19,
      "id": "8b348d67-ccd5-479a-a29e-7783d161fb3d",
      "metadata": {
        "id": "8b348d67-ccd5-479a-a29e-7783d161fb3d"
      },
      "outputs": [],
      "source": [
        "learning_rate=0.001\n",
        "\n",
        "optimizer = torch.optim.Adam(model.parameters(), lr=learning_rate)"
      ]
    },
    {
      "cell_type": "markdown",
      "id": "40f49b04-0b01-4d24-bcb7-3b8a47ea3eca",
      "metadata": {
        "id": "40f49b04-0b01-4d24-bcb7-3b8a47ea3eca"
      },
      "source": [
        "Define the optimizer class \n"
      ]
    },
    {
      "cell_type": "code",
      "execution_count": 20,
      "id": "0356cfb7-41cd-4629-aed2-34b3816f8cd9",
      "metadata": {
        "id": "0356cfb7-41cd-4629-aed2-34b3816f8cd9"
      },
      "outputs": [],
      "source": [
        "\n",
        "train_loader=torch.utils.data.DataLoader(dataset=train_dataset,batch_size=10)\n",
        "validation_loader=torch.utils.data.DataLoader(dataset=validation_dataset,batch_size=20)"
      ]
    },
    {
      "cell_type": "markdown",
      "source": [
        "Train the model and determine validation accuracy technically test accuracy"
      ],
      "metadata": {
        "id": "nx_LzZ5ebf03"
      },
      "id": "nx_LzZ5ebf03"
    },
    {
      "cell_type": "code",
      "execution_count": 21,
      "id": "b5d1ad73",
      "metadata": {
        "id": "b5d1ad73"
      },
      "outputs": [],
      "source": [
        "n_epochs=10\n",
        "cost_list=[]\n",
        "accuracy_list=[]\n",
        "N_test=len(validation_dataset)\n",
        "cost=0\n",
        "#n_epochs\n",
        "for epoch in range(n_epochs):\n",
        "    cost=0    \n",
        "    for x, y in train_loader:\n",
        "      \n",
        "\n",
        "        #clear gradient \n",
        "        optimizer.zero_grad()\n",
        "        #make a prediction \n",
        "        z=model(x)\n",
        "        # calculate loss \n",
        "        loss=criterion(z,y)\n",
        "        # calculate gradients of parameters \n",
        "        loss.backward()\n",
        "        # update parameters \n",
        "        optimizer.step()\n",
        "        cost+=loss.item()\n",
        "    cost_list.append(cost)\n",
        "        \n",
        "        \n",
        "    correct=0\n",
        "    #perform a prediction on the validation  data  \n",
        "    for x_test, y_test in validation_loader:\n",
        "\n",
        "        z=model(x_test)\n",
        "        _,yhat=torch.max(z.data,1)\n",
        "\n",
        "        correct+=(yhat==y_test).sum().item()\n",
        "        \n",
        "\n",
        "    accuracy=correct/N_test\n",
        "\n",
        "    accuracy_list.append(accuracy)\n",
        "    \n",
        "\n"
      ]
    },
    {
      "cell_type": "markdown",
      "source": [
        "#### <a id=\"ref3\"></a>\n",
        "<h3 align=center>Analyse Results</h3> \n"
      ],
      "metadata": {
        "id": "GUwYQce0hWxc"
      },
      "id": "GUwYQce0hWxc"
    },
    {
      "cell_type": "markdown",
      "source": [
        "Plot the loss and accuracy on the validation data."
      ],
      "metadata": {
        "id": "vhpB199dhbf0"
      },
      "id": "vhpB199dhbf0"
    },
    {
      "cell_type": "code",
      "source": [
        "fig, ax1 = plt.subplots()\n",
        "color = 'tab:red'\n",
        "ax1.plot(cost_list,color=color)\n",
        "ax1.set_xlabel('epoch',color=color)\n",
        "ax1.set_ylabel('total loss',color=color)\n",
        "ax1.tick_params(axis='y', color=color)"
      ],
      "metadata": {
        "colab": {
          "base_uri": "https://localhost:8080/",
          "height": 454
        },
        "id": "1hcgSvAVhfkv",
        "outputId": "545e6822-391c-43f2-ff1d-25503f6b4cde"
      },
      "id": "1hcgSvAVhfkv",
      "execution_count": 22,
      "outputs": [
        {
          "output_type": "display_data",
          "data": {
            "text/plain": [
              "<Figure size 640x480 with 1 Axes>"
            ],
            "image/png": "[encoded data removed]"
          },
          "metadata": {}
        }
      ]
    },
    {
      "cell_type": "code",
      "source": [
        "ax2 = ax1.twinx()  \n",
        "color = 'tab:blue'\n",
        "ax2.set_ylabel('accuracy', color=color)  \n",
        "ax2.plot( accuracy_list, color=color)\n",
        "ax2.tick_params(axis='y', labelcolor=color)\n",
        "fig.tight_layout()"
      ],
      "metadata": {
        "id": "ruMqPEi1hi9r"
      },
      "id": "ruMqPEi1hi9r",
      "execution_count": 23,
      "outputs": []
    },
    {
      "cell_type": "markdown",
      "source": [
        "View the results of the parameters for the Convolutional layers "
      ],
      "metadata": {
        "id": "gN_gv7jthl1T"
      },
      "id": "gN_gv7jthl1T"
    },
    {
      "cell_type": "code",
      "source": [
        "model.state_dict()['cnn1.weight']\n",
        "\n",
        "plot_channels(model.state_dict()['cnn1.weight'])"
      ],
      "metadata": {
        "colab": {
          "base_uri": "https://localhost:8080/",
          "height": 411
        },
        "id": "lrdtiqzqhpWG",
        "outputId": "1441638e-8323-4360-c8f7-ea1a2641c6f8"
      },
      "id": "lrdtiqzqhpWG",
      "execution_count": 24,
      "outputs": [
        {
          "output_type": "display_data",
          "data": {
            "text/plain": [
              "<Figure size 640x480 with 2 Axes>"
            ],
            "image/png": "[encoded data removed]"
          },
          "metadata": {}
        }
      ]
    },
    {
      "cell_type": "code",
      "source": [
        "model.state_dict()['cnn2.weight']\n",
        "\n",
        "plot_channels(model.state_dict()['cnn2.weight'])"
      ],
      "metadata": {
        "colab": {
          "base_uri": "https://localhost:8080/",
          "height": 267
        },
        "id": "Xip3FGm6hvJH",
        "outputId": "fea207d3-4667-430a-eabc-05307757bafd"
      },
      "id": "Xip3FGm6hvJH",
      "execution_count": 25,
      "outputs": [
        {
          "output_type": "display_data",
          "data": {
            "text/plain": [
              "<Figure size 640x480 with 2 Axes>"
            ],
            "image/png": "[encoded data removed]"
          },
          "metadata": {}
        }
      ]
    },
    {
      "cell_type": "code",
      "source": [
        "#Consider the following sample \n",
        "\n",
        "\n",
        "show_data(train_dataset,N_images//2+2)"
      ],
      "metadata": {
        "colab": {
          "base_uri": "https://localhost:8080/",
          "height": 452
        },
        "id": "xGc7IK7AiQSQ",
        "outputId": "3a3da4c2-0122-436b-8525-0f944dcdf618"
      },
      "id": "xGc7IK7AiQSQ",
      "execution_count": 26,
      "outputs": [
        {
          "output_type": "display_data",
          "data": {
            "text/plain": [
              "<Figure size 640x480 with 1 Axes>"
            ],
            "image/png": "[encoded data removed]"
          },
          "metadata": {}
        }
      ]
    },
    {
      "cell_type": "code",
      "source": [
        "#Determine the activations \n",
        "\n",
        "\n",
        "out=model.activations(train_dataset[N_images//2+2][0].view(1,1,11,11))\n",
        "out=model.activations(train_dataset[0][0].view(1,1,11,11))"
      ],
      "metadata": {
        "id": "V3UqvlSiiSS9"
      },
      "id": "V3UqvlSiiSS9",
      "execution_count": 27,
      "outputs": []
    },
    {
      "cell_type": "code",
      "source": [
        "#Plot them out\n",
        "\n",
        "\n",
        "plot_activations(out[0],number_rows=1,name=\" feature map\")\n",
        "plt.show()\n",
        "\n",
        "\n",
        "plot_activations(out[2],number_rows=1,name=\"2nd feature map\")\n",
        "plt.show()\n",
        "\n",
        "plot_activations(out[3],number_rows=1,name=\"first feature map\")\n",
        "plt.show()"
      ],
      "metadata": {
        "colab": {
          "base_uri": "https://localhost:8080/",
          "height": 1000
        },
        "id": "S0gKmAyqiV91",
        "outputId": "285e559a-220c-4089-bafb-cd9610868865"
      },
      "id": "S0gKmAyqiV91",
      "execution_count": 28,
      "outputs": [
        {
          "output_type": "stream",
          "name": "stdout",
          "text": [
            "2\n"
          ]
        },
        {
          "output_type": "display_data",
          "data": {
            "text/plain": [
              "<Figure size 640x480 with 2 Axes>"
            ],
            "image/png": "[encoded data removed]"
          },
          "metadata": {}
        },
        {
          "output_type": "stream",
          "name": "stdout",
          "text": [
            "1\n"
          ]
        },
        {
          "output_type": "display_data",
          "data": {
            "text/plain": [
              "<Figure size 640x480 with 1 Axes>"
            ],
            "image/png": "[encoded data removed]"
          },
          "metadata": {}
        },
        {
          "output_type": "stream",
          "name": "stdout",
          "text": [
            "1\n"
          ]
        },
        {
          "output_type": "display_data",
          "data": {
            "text/plain": [
              "<Figure size 640x480 with 1 Axes>"
            ],
            "image/png": "[encoded data removed]"
          },
          "metadata": {}
        }
      ]
    },
    {
      "cell_type": "code",
      "source": [
        "#we save the output of the activation after flattening  \n",
        "\n",
        "\n",
        "out1=out[4][0].detach().numpy()"
      ],
      "metadata": {
        "id": "uIBcToTPiYWw"
      },
      "id": "uIBcToTPiYWw",
      "execution_count": 29,
      "outputs": []
    },
    {
      "cell_type": "code",
      "source": [
        "# we can do the same for a sample  where y=0 \n",
        "\n",
        "\n",
        "out0=model.activations(train_dataset[100][0].view(1,1,11,11))[4][0].detach().numpy()\n",
        "out0\n"
      ],
      "metadata": {
        "colab": {
          "base_uri": "https://localhost:8080/"
        },
        "id": "V0mY3cmSid7W",
        "outputId": "5191da29-b0b3-4a09-af69-a051c69c5f17"
      },
      "id": "V0mY3cmSid7W",
      "execution_count": 30,
      "outputs": [
        {
          "output_type": "execute_result",
          "data": {
            "text/plain": [
              "array([0.7343697 , 1.7991949 , 2.4463239 , 2.4576194 , 2.4576194 ,\n",
              "       1.9632472 , 1.1187087 , 0.59256375, 1.3846284 , 2.0306056 ,\n",
              "       2.2005022 , 2.2005022 , 2.0235043 , 1.0538242 , 0.6195177 ,\n",
              "       1.5487019 , 2.1470425 , 2.2005022 , 2.2005022 , 2.0235043 ,\n",
              "       0.9604675 , 0.6195177 , 1.5487019 , 2.1470425 , 2.1812122 ,\n",
              "       2.1812122 , 1.6743761 , 0.7963539 , 0.6707198 , 1.6053883 ,\n",
              "       2.1294036 , 2.1294036 , 1.9932448 , 1.5102625 , 0.7963539 ,\n",
              "       0.7343697 , 1.6304352 , 2.1294036 , 2.1294036 , 1.9932448 ,\n",
              "       1.5102625 , 0.7963539 , 0.7343697 , 1.6304352 , 2.1163275 ,\n",
              "       2.1163275 , 1.9280366 , 1.6755705 , 0.86123836], dtype=float32)"
            ]
          },
          "metadata": {},
          "execution_count": 30
        }
      ]
    },
    {
      "cell_type": "code",
      "source": [
        "\n",
        "\n",
        "plt.subplot(2, 1, 1)\n",
        "plt.plot( out1, 'b')\n",
        "plt.title('Flatted Activation Values  ')\n",
        "plt.ylabel('Activation')\n",
        "plt.xlabel('index')\n",
        "plt.subplot(2, 1, 2)\n",
        "plt.plot(out0, 'r')\n",
        "plt.xlabel('index')\n",
        "plt.ylabel('Activation')"
      ],
      "metadata": {
        "colab": {
          "base_uri": "https://localhost:8080/",
          "height": 489
        },
        "id": "2qH9xM92bh-x",
        "outputId": "aedbdad9-aab8-4e2a-a465-7f0f2dea18d9"
      },
      "id": "2qH9xM92bh-x",
      "execution_count": 31,
      "outputs": [
        {
          "output_type": "execute_result",
          "data": {
            "text/plain": [
              "Text(0, 0.5, 'Activation')"
            ]
          },
          "metadata": {},
          "execution_count": 31
        },
        {
          "output_type": "display_data",
          "data": {
            "text/plain": [
              "<Figure size 640x480 with 2 Axes>"
            ],
            "image/png": "[encoded data removed]"
          },
          "metadata": {}
        }
      ]
    }
  ],
  "metadata": {
    "kernelspec": {
      "display_name": "Python 3 (ipykernel)",
      "language": "python",
      "name": "python3"
    },
    "language_info": {
      "codemirror_mode": {
        "name": "ipython",
        "version": 3
      },
      "file_extension": ".py",
      "mimetype": "text/x-python",
      "name": "python",
      "nbconvert_exporter": "python",
      "pygments_lexer": "ipython3",
      "version": "3.9.12"
    },
    "colab": {
      "provenance": []
    }
  },
  "nbformat": 4,
  "nbformat_minor": 5
}