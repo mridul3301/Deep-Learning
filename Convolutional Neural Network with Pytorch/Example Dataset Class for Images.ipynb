{
  "nbformat": 4,
  "nbformat_minor": 0,
  "metadata": {
    "colab": {
      "provenance": []
    },
    "kernelspec": {
      "name": "python3",
      "display_name": "Python 3"
    },
    "language_info": {
      "name": "python"
    }
  },
  "cells": [
    {
      "cell_type": "code",
      "execution_count": 1,
      "metadata": {
        "id": "AlF0o1ENzM4y"
      },
      "outputs": [],
      "source": [
        "import torch \n",
        "import torch.nn as nn\n",
        "import torchvision.transforms as transforms\n",
        "import torchvision.datasets as dsets\n",
        "import matplotlib.pylab as plt\n",
        "import numpy as np\n",
        "import pandas as pd"
      ]
    },
    {
      "cell_type": "code",
      "source": [
        "torch.manual_seed(4)"
      ],
      "metadata": {
        "colab": {
          "base_uri": "https://localhost:8080/"
        },
        "id": "f-CRTH9kzSsI",
        "outputId": "ec9360d4-fe9b-441a-a3f3-a46c50de9fef"
      },
      "execution_count": 2,
      "outputs": [
        {
          "output_type": "execute_result",
          "data": {
            "text/plain": [
              "<torch._C.Generator at 0x7f5b540ca4b0>"
            ]
          },
          "metadata": {},
          "execution_count": 2
        }
      ]
    },
    {
      "cell_type": "code",
      "source": [
        "x = np.zeros((3, 1, 11, 11))\n"
      ],
      "metadata": {
        "id": "A_5o6WNM22Tf"
      },
      "execution_count": 8,
      "outputs": []
    },
    {
      "cell_type": "code",
      "source": [
        "x.shape"
      ],
      "metadata": {
        "colab": {
          "base_uri": "https://localhost:8080/"
        },
        "id": "hjPm0_Xk28o4",
        "outputId": "3b318283-82de-4f67-8c04-ed92b647eef2"
      },
      "execution_count": 9,
      "outputs": [
        {
          "output_type": "execute_result",
          "data": {
            "text/plain": [
              "(3, 1, 11, 11)"
            ]
          },
          "metadata": {},
          "execution_count": 9
        }
      ]
    },
    {
      "cell_type": "code",
      "source": [
        "print(x)"
      ],
      "metadata": {
        "colab": {
          "base_uri": "https://localhost:8080/"
        },
        "id": "b3lafeLp3CK1",
        "outputId": "92060a2e-445b-4208-ed6c-82af9de39d86"
      },
      "execution_count": 10,
      "outputs": [
        {
          "output_type": "stream",
          "name": "stdout",
          "text": [
            "[[[[0. 0. 0. 0. 0. 0. 0. 0. 0. 0. 0.]\n",
            "   [0. 0. 0. 0. 0. 0. 0. 0. 0. 0. 0.]\n",
            "   [0. 0. 0. 0. 0. 0. 0. 0. 0. 0. 0.]\n",
            "   [0. 0. 0. 0. 0. 0. 0. 0. 0. 0. 0.]\n",
            "   [0. 0. 0. 0. 0. 0. 0. 0. 0. 0. 0.]\n",
            "   [0. 0. 0. 0. 0. 0. 0. 0. 0. 0. 0.]\n",
            "   [0. 0. 0. 0. 0. 0. 0. 0. 0. 0. 0.]\n",
            "   [0. 0. 0. 0. 0. 0. 0. 0. 0. 0. 0.]\n",
            "   [0. 0. 0. 0. 0. 0. 0. 0. 0. 0. 0.]\n",
            "   [0. 0. 0. 0. 0. 0. 0. 0. 0. 0. 0.]\n",
            "   [0. 0. 0. 0. 0. 0. 0. 0. 0. 0. 0.]]]\n",
            "\n",
            "\n",
            " [[[0. 0. 0. 0. 0. 0. 0. 0. 0. 0. 0.]\n",
            "   [0. 0. 0. 0. 0. 0. 0. 0. 0. 0. 0.]\n",
            "   [0. 0. 0. 0. 0. 0. 0. 0. 0. 0. 0.]\n",
            "   [0. 0. 0. 0. 0. 0. 0. 0. 0. 0. 0.]\n",
            "   [0. 0. 0. 0. 0. 0. 0. 0. 0. 0. 0.]\n",
            "   [0. 0. 0. 0. 0. 0. 0. 0. 0. 0. 0.]\n",
            "   [0. 0. 0. 0. 0. 0. 0. 0. 0. 0. 0.]\n",
            "   [0. 0. 0. 0. 0. 0. 0. 0. 0. 0. 0.]\n",
            "   [0. 0. 0. 0. 0. 0. 0. 0. 0. 0. 0.]\n",
            "   [0. 0. 0. 0. 0. 0. 0. 0. 0. 0. 0.]\n",
            "   [0. 0. 0. 0. 0. 0. 0. 0. 0. 0. 0.]]]\n",
            "\n",
            "\n",
            " [[[0. 0. 0. 0. 0. 0. 0. 0. 0. 0. 0.]\n",
            "   [0. 0. 0. 0. 0. 0. 0. 0. 0. 0. 0.]\n",
            "   [0. 0. 0. 0. 0. 0. 0. 0. 0. 0. 0.]\n",
            "   [0. 0. 0. 0. 0. 0. 0. 0. 0. 0. 0.]\n",
            "   [0. 0. 0. 0. 0. 0. 0. 0. 0. 0. 0.]\n",
            "   [0. 0. 0. 0. 0. 0. 0. 0. 0. 0. 0.]\n",
            "   [0. 0. 0. 0. 0. 0. 0. 0. 0. 0. 0.]\n",
            "   [0. 0. 0. 0. 0. 0. 0. 0. 0. 0. 0.]\n",
            "   [0. 0. 0. 0. 0. 0. 0. 0. 0. 0. 0.]\n",
            "   [0. 0. 0. 0. 0. 0. 0. 0. 0. 0. 0.]\n",
            "   [0. 0. 0. 0. 0. 0. 0. 0. 0. 0. 0.]]]]\n"
          ]
        }
      ]
    },
    {
      "cell_type": "code",
      "source": [
        "print(x[0])"
      ],
      "metadata": {
        "colab": {
          "base_uri": "https://localhost:8080/"
        },
        "id": "uGEn83y53ErG",
        "outputId": "3ca9375a-aaf5-4655-c567-666fe5309102"
      },
      "execution_count": 11,
      "outputs": [
        {
          "output_type": "stream",
          "name": "stdout",
          "text": [
            "[[[0. 0. 0. 0. 0. 0. 0. 0. 0. 0. 0.]\n",
            "  [0. 0. 0. 0. 0. 0. 0. 0. 0. 0. 0.]\n",
            "  [0. 0. 0. 0. 0. 0. 0. 0. 0. 0. 0.]\n",
            "  [0. 0. 0. 0. 0. 0. 0. 0. 0. 0. 0.]\n",
            "  [0. 0. 0. 0. 0. 0. 0. 0. 0. 0. 0.]\n",
            "  [0. 0. 0. 0. 0. 0. 0. 0. 0. 0. 0.]\n",
            "  [0. 0. 0. 0. 0. 0. 0. 0. 0. 0. 0.]\n",
            "  [0. 0. 0. 0. 0. 0. 0. 0. 0. 0. 0.]\n",
            "  [0. 0. 0. 0. 0. 0. 0. 0. 0. 0. 0.]\n",
            "  [0. 0. 0. 0. 0. 0. 0. 0. 0. 0. 0.]\n",
            "  [0. 0. 0. 0. 0. 0. 0. 0. 0. 0. 0.]]]\n"
          ]
        }
      ]
    },
    {
      "cell_type": "code",
      "source": [
        "print(x[0].shape)"
      ],
      "metadata": {
        "colab": {
          "base_uri": "https://localhost:8080/"
        },
        "id": "_GBfa0GW3O8O",
        "outputId": "3527b861-948f-4824-da08-17e50c000ccf"
      },
      "execution_count": 12,
      "outputs": [
        {
          "output_type": "stream",
          "name": "stdout",
          "text": [
            "(1, 11, 11)\n"
          ]
        }
      ]
    },
    {
      "cell_type": "code",
      "source": [
        "print(x[0][0])\n",
        "print(x[0][0].shape)"
      ],
      "metadata": {
        "colab": {
          "base_uri": "https://localhost:8080/"
        },
        "id": "QrjTB8R23Rgn",
        "outputId": "8ae51978-efe5-42a7-c533-e87ab2722af2"
      },
      "execution_count": 14,
      "outputs": [
        {
          "output_type": "stream",
          "name": "stdout",
          "text": [
            "[[0. 0. 0. 0. 0. 0. 0. 0. 0. 0. 0.]\n",
            " [0. 0. 0. 0. 0. 0. 0. 0. 0. 0. 0.]\n",
            " [0. 0. 0. 0. 0. 0. 0. 0. 0. 0. 0.]\n",
            " [0. 0. 0. 0. 0. 0. 0. 0. 0. 0. 0.]\n",
            " [0. 0. 0. 0. 0. 0. 0. 0. 0. 0. 0.]\n",
            " [0. 0. 0. 0. 0. 0. 0. 0. 0. 0. 0.]\n",
            " [0. 0. 0. 0. 0. 0. 0. 0. 0. 0. 0.]\n",
            " [0. 0. 0. 0. 0. 0. 0. 0. 0. 0. 0.]\n",
            " [0. 0. 0. 0. 0. 0. 0. 0. 0. 0. 0.]\n",
            " [0. 0. 0. 0. 0. 0. 0. 0. 0. 0. 0.]\n",
            " [0. 0. 0. 0. 0. 0. 0. 0. 0. 0. 0.]]\n",
            "(11, 11)\n"
          ]
        }
      ]
    },
    {
      "cell_type": "code",
      "source": [
        "print(x[2])"
      ],
      "metadata": {
        "colab": {
          "base_uri": "https://localhost:8080/"
        },
        "id": "cnSmNFdK3T1O",
        "outputId": "5523590d-0b7a-4efc-cd69-a67f19b9ae25"
      },
      "execution_count": 15,
      "outputs": [
        {
          "output_type": "stream",
          "name": "stdout",
          "text": [
            "[[[0. 0. 0. 0. 0. 0. 0. 0. 0. 0. 0.]\n",
            "  [0. 0. 0. 0. 0. 0. 0. 0. 0. 0. 0.]\n",
            "  [0. 0. 0. 0. 0. 0. 0. 0. 0. 0. 0.]\n",
            "  [0. 0. 0. 0. 0. 0. 0. 0. 0. 0. 0.]\n",
            "  [0. 0. 0. 0. 0. 0. 0. 0. 0. 0. 0.]\n",
            "  [0. 0. 0. 0. 0. 0. 0. 0. 0. 0. 0.]\n",
            "  [0. 0. 0. 0. 0. 0. 0. 0. 0. 0. 0.]\n",
            "  [0. 0. 0. 0. 0. 0. 0. 0. 0. 0. 0.]\n",
            "  [0. 0. 0. 0. 0. 0. 0. 0. 0. 0. 0.]\n",
            "  [0. 0. 0. 0. 0. 0. 0. 0. 0. 0. 0.]\n",
            "  [0. 0. 0. 0. 0. 0. 0. 0. 0. 0. 0.]]]\n"
          ]
        }
      ]
    },
    {
      "cell_type": "code",
      "source": [
        "from torch.utils.data import Dataset, DataLoader"
      ],
      "metadata": {
        "id": "ZTYkpemxzURP"
      },
      "execution_count": 3,
      "outputs": []
    },
    {
      "cell_type": "code",
      "source": [
        "class Data(Dataset):\n",
        "    def __init__(self,N_images=100,offset=0,p=0.9, train=False):\n",
        "        \"\"\"\n",
        "        p:portability that pixel is wight  \n",
        "        N_images:number of images \n",
        "        offset:set a random vertical and horizontal offset images by a sample should be less than 3 \n",
        "        \"\"\"\n",
        "        if train==True:\n",
        "            np.random.seed(1)  \n",
        "        \n",
        "        #make images multiple of 3 \n",
        "        N_images=2*(N_images//2)\n",
        "        images=np.zeros((N_images,1,11,11))\n",
        "        start1=3\n",
        "        start2=1\n",
        "        self.y=torch.zeros(N_images).type(torch.long)\n",
        "\n",
        "        for n in range(N_images):\n",
        "            if offset>0:\n",
        "        \n",
        "                low=int(np.random.randint(low=start1, high=start1+offset, size=1))\n",
        "                high=int(np.random.randint(low=start2, high=start2+offset, size=1))\n",
        "            else:\n",
        "                low=4\n",
        "                high=1\n",
        "        \n",
        "            if n<=N_images//2:\n",
        "                self.y[n]=0\n",
        "                images[n,0,high:high+9,low:low+3]= np.random.binomial(1, p, (9,3))\n",
        "            elif  n>N_images//2:\n",
        "                self.y[n]=1\n",
        "                images[n,0,low:low+3,high:high+9] = np.random.binomial(1, p, (3,9))\n",
        "           \n",
        "        \n",
        "        \n",
        "        self.x=torch.from_numpy(images).type(torch.FloatTensor)\n",
        "        self.len=self.x.shape[0]\n",
        "        del(images)\n",
        "        np.random.seed(0)\n",
        "    def __getitem__(self,index):      \n",
        "        return self.x[index],self.y[index]\n",
        "    def __len__(self):\n",
        "        return self.len"
      ],
      "metadata": {
        "id": "2JiAjs-SzcXi"
      },
      "execution_count": 16,
      "outputs": []
    },
    {
      "cell_type": "code",
      "source": [
        "img_dataset = Data(N_images = 10)"
      ],
      "metadata": {
        "id": "ti0H5L1X4T8g"
      },
      "execution_count": 17,
      "outputs": []
    },
    {
      "cell_type": "code",
      "source": [
        "img_dataset"
      ],
      "metadata": {
        "colab": {
          "base_uri": "https://localhost:8080/"
        },
        "id": "Js4YwYwT4eNn",
        "outputId": "295c1578-8652-4271-8214-082e7127b695"
      },
      "execution_count": 18,
      "outputs": [
        {
          "output_type": "execute_result",
          "data": {
            "text/plain": [
              "<__main__.Data at 0x7f5a8cf3b850>"
            ]
          },
          "metadata": {},
          "execution_count": 18
        }
      ]
    },
    {
      "cell_type": "code",
      "source": [
        "img_dataset[0]"
      ],
      "metadata": {
        "colab": {
          "base_uri": "https://localhost:8080/"
        },
        "id": "ZfpbOGEY4gBn",
        "outputId": "8d5926d9-e7cf-49ed-d563-3f7c6620ed1c"
      },
      "execution_count": 25,
      "outputs": [
        {
          "output_type": "execute_result",
          "data": {
            "text/plain": [
              "(tensor([[[0., 0., 0., 0., 0., 0., 0., 0., 0., 0., 0.],\n",
              "          [0., 0., 0., 0., 1., 1., 1., 0., 0., 0., 0.],\n",
              "          [0., 0., 0., 0., 1., 1., 1., 0., 0., 0., 0.],\n",
              "          [0., 0., 0., 0., 1., 1., 1., 0., 0., 0., 0.],\n",
              "          [0., 0., 0., 0., 1., 1., 1., 0., 0., 0., 0.],\n",
              "          [0., 0., 0., 0., 1., 1., 1., 0., 0., 0., 0.],\n",
              "          [0., 0., 0., 0., 1., 1., 1., 0., 0., 0., 0.],\n",
              "          [0., 0., 0., 0., 1., 1., 0., 0., 0., 0., 0.],\n",
              "          [0., 0., 0., 0., 1., 1., 1., 0., 0., 0., 0.],\n",
              "          [0., 0., 0., 0., 1., 1., 1., 0., 0., 0., 0.],\n",
              "          [0., 0., 0., 0., 0., 0., 0., 0., 0., 0., 0.]]]),\n",
              " tensor(0))"
            ]
          },
          "metadata": {},
          "execution_count": 25
        }
      ]
    },
    {
      "cell_type": "code",
      "source": [
        "print(img_dataset[0][0])\n",
        "img_dataset[0][0].shape"
      ],
      "metadata": {
        "colab": {
          "base_uri": "https://localhost:8080/"
        },
        "id": "H9deoRJV4iXX",
        "outputId": "040c9d73-cbfc-4cc4-e475-eb2d679b7b47"
      },
      "execution_count": 31,
      "outputs": [
        {
          "output_type": "stream",
          "name": "stdout",
          "text": [
            "tensor([[[0., 0., 0., 0., 0., 0., 0., 0., 0., 0., 0.],\n",
            "         [0., 0., 0., 0., 1., 1., 1., 0., 0., 0., 0.],\n",
            "         [0., 0., 0., 0., 1., 1., 1., 0., 0., 0., 0.],\n",
            "         [0., 0., 0., 0., 1., 1., 1., 0., 0., 0., 0.],\n",
            "         [0., 0., 0., 0., 1., 1., 1., 0., 0., 0., 0.],\n",
            "         [0., 0., 0., 0., 1., 1., 1., 0., 0., 0., 0.],\n",
            "         [0., 0., 0., 0., 1., 1., 1., 0., 0., 0., 0.],\n",
            "         [0., 0., 0., 0., 1., 1., 0., 0., 0., 0., 0.],\n",
            "         [0., 0., 0., 0., 1., 1., 1., 0., 0., 0., 0.],\n",
            "         [0., 0., 0., 0., 1., 1., 1., 0., 0., 0., 0.],\n",
            "         [0., 0., 0., 0., 0., 0., 0., 0., 0., 0., 0.]]])\n"
          ]
        },
        {
          "output_type": "execute_result",
          "data": {
            "text/plain": [
              "torch.Size([1, 11, 11])"
            ]
          },
          "metadata": {},
          "execution_count": 31
        }
      ]
    },
    {
      "cell_type": "code",
      "source": [
        "img_dataset[0][1]"
      ],
      "metadata": {
        "colab": {
          "base_uri": "https://localhost:8080/"
        },
        "id": "7yxytyjt4w0X",
        "outputId": "cd41be32-4af9-4486-d6f6-3f3439056c7d"
      },
      "execution_count": 29,
      "outputs": [
        {
          "output_type": "execute_result",
          "data": {
            "text/plain": [
              "tensor(0)"
            ]
          },
          "metadata": {},
          "execution_count": 29
        }
      ]
    },
    {
      "cell_type": "code",
      "source": [
        "type(img_dataset[0][0])"
      ],
      "metadata": {
        "colab": {
          "base_uri": "https://localhost:8080/"
        },
        "id": "Ld03e6mL46hn",
        "outputId": "1fd138eb-2c30-4feb-de18-8b704a37aa16"
      },
      "execution_count": 32,
      "outputs": [
        {
          "output_type": "execute_result",
          "data": {
            "text/plain": [
              "torch.Tensor"
            ]
          },
          "metadata": {},
          "execution_count": 32
        }
      ]
    },
    {
      "cell_type": "code",
      "source": [
        "type(img_dataset[0][1])"
      ],
      "metadata": {
        "colab": {
          "base_uri": "https://localhost:8080/"
        },
        "id": "XIC-dSqN6K8n",
        "outputId": "ed8e71f0-30ab-4acf-9948-9aa997aad70a"
      },
      "execution_count": 33,
      "outputs": [
        {
          "output_type": "execute_result",
          "data": {
            "text/plain": [
              "torch.Tensor"
            ]
          },
          "metadata": {},
          "execution_count": 33
        }
      ]
    }
  ]
}