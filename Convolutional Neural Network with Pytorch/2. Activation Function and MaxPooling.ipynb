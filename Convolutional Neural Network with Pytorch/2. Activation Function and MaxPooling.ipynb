{
 "cells": [
  {
   "cell_type": "markdown",
   "id": "39032bc6",
   "metadata": {},
   "source": [
    "<h3 align=center><font size = 5>Activation function and Maxpooling </h3>\n"
   ]
  },
  {
   "cell_type": "code",
   "execution_count": 1,
   "id": "c93293e6",
   "metadata": {},
   "outputs": [],
   "source": [
    "# Import necessary libraries\n",
    "\n",
    "import torch \n",
    "import torch.nn as nn\n",
    "import matplotlib.pyplot as plt\n",
    "import numpy as np\n",
    "from scipy import ndimage, misc"
   ]
  },
  {
   "cell_type": "markdown",
   "id": "6e284436",
   "metadata": {},
   "source": [
    "<a id=\"ref0\"></a>\n",
    "<h2 align=center>Activation Functions  </h2>\n"
   ]
  },
  {
   "cell_type": "markdown",
   "id": "78b4afb4",
   "metadata": {},
   "source": [
    "Just like a neural network, we apply an activation function to the activation map as shown in the following image:\n"
   ]
  },
  {
   "cell_type": "markdown",
   "id": "eb96bad3",
   "metadata": {},
   "source": [
    "<img src=\"https://s3-api.us-geo.objectstorage.softlayer.net/cf-courses-data/CognitiveClass/DL0110EN/notebook_images%20/chapter%206/6.1.3block_digram.png\" width=\"1000,\" align=\"center\">\n"
   ]
  },
  {
   "cell_type": "markdown",
   "id": "ebce0843",
   "metadata": {},
   "source": [
    "Let's create a kernel and image & Set the bias to zero: \n"
   ]
  },
  {
   "cell_type": "code",
   "execution_count": 3,
   "id": "72bf8bbd",
   "metadata": {},
   "outputs": [
    {
     "data": {
      "text/plain": [
       "OrderedDict([('weight',\n",
       "              tensor([[[[ 1.,  0., -1.],\n",
       "                        [ 2.,  0., -2.],\n",
       "                        [ 1.,  0., -1.]]]])),\n",
       "             ('bias', tensor([0.]))])"
      ]
     },
     "execution_count": 3,
     "metadata": {},
     "output_type": "execute_result"
    }
   ],
   "source": [
    "conv = nn.Conv2d(in_channels=1, out_channels=1, kernel_size=3)\n",
    "Gx = torch.tensor([[1.0, 0.0, -1.0], [2.0, 0.0, -2.0], [1.0, 0.0, -1.0]])\n",
    "conv.state_dict()['weight'][0][0] = Gx\n",
    "conv.state_dict()['bias'][0] = 0.0\n",
    "conv.state_dict()"
   ]
  },
  {
   "cell_type": "code",
   "execution_count": 4,
   "id": "9180ce41",
   "metadata": {},
   "outputs": [
    {
     "data": {
      "text/plain": [
       "tensor([[[[0., 0., 1., 0., 0.],\n",
       "          [0., 0., 1., 0., 0.],\n",
       "          [0., 0., 1., 0., 0.],\n",
       "          [0., 0., 1., 0., 0.],\n",
       "          [0., 0., 1., 0., 0.]]]])"
      ]
     },
     "execution_count": 4,
     "metadata": {},
     "output_type": "execute_result"
    }
   ],
   "source": [
    "image = torch.zeros(1, 1, 5, 5)\n",
    "image[0, 0, :, 2] = 1\n",
    "image"
   ]
  },
  {
   "cell_type": "markdown",
   "id": "aa79800b",
   "metadata": {},
   "source": [
    "The following image shows the image and kernel: \n"
   ]
  },
  {
   "cell_type": "markdown",
   "id": "9f6e5cdf",
   "metadata": {},
   "source": [
    "<img src=\"https://s3-api.us-geo.objectstorage.softlayer.net/cf-courses-data/CognitiveClass/DL0110EN/notebook_images%20/chapter%206/6.1.3kernal_out.png\" width=\"500,\" align=\"center\">\n"
   ]
  },
  {
   "cell_type": "markdown",
   "id": "6ece5d73",
   "metadata": {},
   "source": [
    "Apply convolution to the image: \n"
   ]
  },
  {
   "cell_type": "code",
   "execution_count": 5,
   "id": "92825538",
   "metadata": {},
   "outputs": [
    {
     "data": {
      "text/plain": [
       "tensor([[[[-4.,  0.,  4.],\n",
       "          [-4.,  0.,  4.],\n",
       "          [-4.,  0.,  4.]]]], grad_fn=<ConvolutionBackward0>)"
      ]
     },
     "execution_count": 5,
     "metadata": {},
     "output_type": "execute_result"
    }
   ],
   "source": [
    "Z = conv(image)\n",
    "Z"
   ]
  },
  {
   "cell_type": "markdown",
   "id": "d6634f9e",
   "metadata": {},
   "source": [
    "Apply the activation function to the activation map. This will apply the activation function to each element in the activation map."
   ]
  },
  {
   "cell_type": "code",
   "execution_count": 6,
   "id": "b2936a88",
   "metadata": {},
   "outputs": [
    {
     "data": {
      "text/plain": [
       "tensor([[[[0., 0., 4.],\n",
       "          [0., 0., 4.],\n",
       "          [0., 0., 4.]]]], grad_fn=<ReluBackward0>)"
      ]
     },
     "execution_count": 6,
     "metadata": {},
     "output_type": "execute_result"
    }
   ],
   "source": [
    "#Method 1\n",
    "A = torch.relu(Z)\n",
    "A"
   ]
  },
  {
   "cell_type": "code",
   "execution_count": 7,
   "id": "f4937f05",
   "metadata": {},
   "outputs": [
    {
     "data": {
      "text/plain": [
       "tensor([[[[0., 0., 4.],\n",
       "          [0., 0., 4.],\n",
       "          [0., 0., 4.]]]], grad_fn=<ReluBackward0>)"
      ]
     },
     "execution_count": 7,
     "metadata": {},
     "output_type": "execute_result"
    }
   ],
   "source": [
    "#Method 2\n",
    "relu = nn.ReLU()\n",
    "relu(Z)"
   ]
  },
  {
   "cell_type": "markdown",
   "id": "4b92aeaf",
   "metadata": {},
   "source": [
    "The process is summarized in the the following figure. The Relu function is applied to each element. All the elements less than zero are mapped to zero. The remaining components do not change.\n"
   ]
  },
  {
   "cell_type": "markdown",
   "id": "db84012d",
   "metadata": {},
   "source": [
    "<img src=\"https://s3-api.us-geo.objectstorage.softlayer.net/cf-courses-data/CognitiveClass/DL0110EN/notebook_images%20/chapter%206/6.2.3_block_example.gif\" width=\"1000,\" align=\"center\">\n"
   ]
  },
  {
   "cell_type": "markdown",
   "id": "dc732f84",
   "metadata": {},
   "source": [
    "<a id=\"ref1\"></a>\n",
    "<h4 align=center>Max Pooling </h4>\n"
   ]
  },
  {
   "cell_type": "markdown",
   "id": "6bce1407",
   "metadata": {},
   "source": [
    "Consider the following image: \n"
   ]
  },
  {
   "cell_type": "code",
   "execution_count": 8,
   "id": "e8ea0749",
   "metadata": {},
   "outputs": [
    {
     "data": {
      "text/plain": [
       "tensor([[[[ 1.,  2.,  3., -4.],\n",
       "          [ 0.,  2., -3.,  0.],\n",
       "          [ 0.,  2.,  3.,  1.],\n",
       "          [ 0.,  0.,  0.,  0.]]]])"
      ]
     },
     "execution_count": 8,
     "metadata": {},
     "output_type": "execute_result"
    }
   ],
   "source": [
    "image1=torch.zeros(1,1,4,4)\n",
    "image1[0,0,0,:]=torch.tensor([1.0,2.0,3.0,-4.0])\n",
    "image1[0,0,1,:]=torch.tensor([0.0,2.0,-3.0,0.0])\n",
    "image1[0,0,2,:]=torch.tensor([0.0,2.0,3.0,1.0])\n",
    "\n",
    "image1"
   ]
  },
  {
   "cell_type": "markdown",
   "id": "09d595ce",
   "metadata": {},
   "source": [
    "Max pooling simply takes the maximum value in each region. Consider the following image. For the first region, max pooling simply takes the largest element in a yellow region.   \n"
   ]
  },
  {
   "cell_type": "markdown",
   "id": "08a4feff",
   "metadata": {},
   "source": [
    "<img src=\"https://s3-api.us-geo.objectstorage.softlayer.net/cf-courses-data/CognitiveClass/DL0110EN/notebook_images%20/chapter%206/6.1.3maxpool_1.png\" width=\"500,\" align=\"center\">\n"
   ]
  },
  {
   "cell_type": "markdown",
   "id": "fb8fce6a",
   "metadata": {},
   "source": [
    "The region shifts, and the process is repeated. The process is similar to convolution and is demonstrated in the following figure:\n"
   ]
  },
  {
   "cell_type": "markdown",
   "id": "c110fc98",
   "metadata": {},
   "source": [
    "<img src=\"https://s3-api.us-geo.objectstorage.softlayer.net/cf-courses-data/CognitiveClass/DL0110EN/notebook_images%20/chapter%206/6.1.3_max_pool_animation.gif\" width=\"500,\" align=\"center\">\n"
   ]
  },
  {
   "cell_type": "markdown",
   "id": "e02b2573",
   "metadata": {},
   "source": [
    "Create a maxpooling object in 2d as follows and perform max pooling as follows:  \n"
   ]
  },
  {
   "cell_type": "code",
   "execution_count": 9,
   "id": "769cd257",
   "metadata": {},
   "outputs": [
    {
     "data": {
      "text/plain": [
       "tensor([[[[2., 3., 3.],\n",
       "          [2., 3., 3.],\n",
       "          [2., 3., 3.]]]])"
      ]
     },
     "execution_count": 9,
     "metadata": {},
     "output_type": "execute_result"
    }
   ],
   "source": [
    "max1 = torch.nn.MaxPool2d(2, stride=1)\n",
    "max1(image1)"
   ]
  },
  {
   "cell_type": "markdown",
   "id": "11dc51f4",
   "metadata": {},
   "source": [
    "If the stride is set to None (its defaults setting), the process will simply take the maximum in a prescribed area and shift over accordingly as shown in the following figure:\n"
   ]
  },
  {
   "cell_type": "markdown",
   "id": "dc25a152",
   "metadata": {},
   "source": [
    "<img src=\"https://s3-api.us-geo.objectstorage.softlayer.net/cf-courses-data/CognitiveClass/DL0110EN/notebook_images%20/chapter%206/6.1.3_max_pool_animation_2.gif\" width=\"500,\" align=\"center\">\n"
   ]
  },
  {
   "cell_type": "markdown",
   "id": "3cc3a5b1",
   "metadata": {},
   "source": [
    "Here's the code in Pytorch:  \n"
   ]
  },
  {
   "cell_type": "code",
   "execution_count": 10,
   "id": "d462efe2",
   "metadata": {},
   "outputs": [
    {
     "data": {
      "text/plain": [
       "tensor([[[[2., 3.],\n",
       "          [2., 3.]]]])"
      ]
     },
     "execution_count": 10,
     "metadata": {},
     "output_type": "execute_result"
    }
   ],
   "source": [
    "max1=torch.nn.MaxPool2d(2)\n",
    "max1(image1)"
   ]
  }
 ],
 "metadata": {
  "kernelspec": {
   "display_name": "Python 3 (ipykernel)",
   "language": "python",
   "name": "python3"
  },
  "language_info": {
   "codemirror_mode": {
    "name": "ipython",
    "version": 3
   },
   "file_extension": ".py",
   "mimetype": "text/x-python",
   "name": "python",
   "nbconvert_exporter": "python",
   "pygments_lexer": "ipython3",
   "version": "3.9.12"
  }
 },
 "nbformat": 4,
 "nbformat_minor": 5
}
