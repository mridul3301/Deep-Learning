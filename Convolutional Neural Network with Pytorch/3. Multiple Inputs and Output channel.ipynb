{
 "cells": [
  {
   "cell_type": "code",
   "execution_count": 1,
   "id": "dbf17950",
   "metadata": {},
   "outputs": [],
   "source": [
    "# Import the necessary libraries\n",
    "\n",
    "import torch \n",
    "import torch.nn as nn\n",
    "import matplotlib.pyplot as plt\n",
    "import numpy as np\n",
    "from scipy import ndimage, misc"
   ]
  },
  {
   "cell_type": "markdown",
   "id": "ee02a695",
   "metadata": {},
   "source": [
    "<a id=\"ref0\"></a>\n",
    "<h3 align=center>Multiple Output Channels </h3>\n"
   ]
  },
  {
   "cell_type": "markdown",
   "id": "50feb14d",
   "metadata": {},
   "source": [
    "In Pytroch, we can create a <code>Conv2d</code> object with multiple outputs. For each channel, a kernel is created, and each kernel performs a convolution independently. As a result, the number of outputs is equal to the number of channels. This is demonstrated in the following figure. The number 9 is convolved with three kernels: each of a different color. There are three different activation maps represented by the different colors.\n"
   ]
  },
  {
   "cell_type": "markdown",
   "id": "354b6d56",
   "metadata": {},
   "source": [
    "<img src=\"https://s3-api.us-geo.objectstorage.softlayer.net/cf-courses-data/CognitiveClass/DL0110EN/notebook_images%20/chapter%206/6.1.2activationmaps.png\" width=\"750,\" align=\"center\">\n"
   ]
  },
  {
   "cell_type": "markdown",
   "id": "0d056a17",
   "metadata": {},
   "source": [
    "Symbolically, this can be represented as follows:\n"
   ]
  },
  {
   "cell_type": "markdown",
   "id": "2ede93a0",
   "metadata": {},
   "source": [
    "<img src=\"https://s3-api.us-geo.objectstorage.softlayer.net/cf-courses-data/CognitiveClass/DL0110EN/notebook_images%20/chapter%206/6.1.2activationmap2.png\" width=\"500,\" align=\"center\">\n"
   ]
  },
  {
   "cell_type": "markdown",
   "id": "9b4d771c",
   "metadata": {},
   "source": [
    "Create a <code>Conv2d</code> with three channels:\n"
   ]
  },
  {
   "cell_type": "code",
   "execution_count": 2,
   "id": "871edc82",
   "metadata": {},
   "outputs": [],
   "source": [
    "# Conv2d object with 3 output channels\n",
    "\n",
    "conv1 = nn.Conv2d(in_channels=1, out_channels=3, kernel_size=3)"
   ]
  },
  {
   "cell_type": "markdown",
   "id": "e134d128",
   "metadata": {},
   "source": [
    "PyTorch randomly assigns values to each kerner. But, Let's assign them manually."
   ]
  },
  {
   "cell_type": "code",
   "execution_count": 3,
   "id": "ab1c07f5",
   "metadata": {},
   "outputs": [],
   "source": [
    "Gx=torch.tensor([[1.0,0,-1.0],[2.0,0,-2.0],[1.0,0.0,-1.0]])\n",
    "Gy=torch.tensor([[1.0,2.0,1.0],[0.0,0.0,0.0],[-1.0,-2.0,-1.0]])\n",
    "\n",
    "conv1.state_dict()['weight'][0][0]=Gx\n",
    "conv1.state_dict()['weight'][1][0]=Gy\n",
    "conv1.state_dict()['weight'][2][0]=torch.ones(3,3)"
   ]
  },
  {
   "cell_type": "markdown",
   "id": "74ba6642",
   "metadata": {},
   "source": [
    "Each kernel has its own bias, so set them all to zero:"
   ]
  },
  {
   "cell_type": "code",
   "execution_count": 4,
   "id": "e11b7c8b",
   "metadata": {},
   "outputs": [
    {
     "data": {
      "text/plain": [
       "tensor([0., 0., 0.])"
      ]
     },
     "execution_count": 4,
     "metadata": {},
     "output_type": "execute_result"
    }
   ],
   "source": [
    "conv1.state_dict()['bias'][:]=torch.tensor([0.0,0.0,0.0])\n",
    "conv1.state_dict()['bias']"
   ]
  },
  {
   "cell_type": "markdown",
   "id": "a9759105",
   "metadata": {},
   "source": [
    "Print out each kernel:"
   ]
  },
  {
   "cell_type": "code",
   "execution_count": 5,
   "id": "6183468b",
   "metadata": {},
   "outputs": [
    {
     "name": "stdout",
     "output_type": "stream",
     "text": [
      "tensor([[[ 1.,  0., -1.],\n",
      "         [ 2.,  0., -2.],\n",
      "         [ 1.,  0., -1.]]])\n",
      "tensor([[[ 1.,  2.,  1.],\n",
      "         [ 0.,  0.,  0.],\n",
      "         [-1., -2., -1.]]])\n",
      "tensor([[[1., 1., 1.],\n",
      "         [1., 1., 1.],\n",
      "         [1., 1., 1.]]])\n"
     ]
    }
   ],
   "source": [
    "for x in conv1.state_dict()['weight']:\n",
    "    print(x)"
   ]
  },
  {
   "cell_type": "markdown",
   "id": "f4de6dd9",
   "metadata": {},
   "source": [
    "Create an input image to represent the input X:"
   ]
  },
  {
   "cell_type": "code",
   "execution_count": 6,
   "id": "0e4ec4a6",
   "metadata": {},
   "outputs": [
    {
     "data": {
      "text/plain": [
       "tensor([[[[0., 0., 1., 0., 0.],\n",
       "          [0., 0., 1., 0., 0.],\n",
       "          [0., 0., 1., 0., 0.],\n",
       "          [0., 0., 1., 0., 0.],\n",
       "          [0., 0., 1., 0., 0.]]]])"
      ]
     },
     "execution_count": 6,
     "metadata": {},
     "output_type": "execute_result"
    }
   ],
   "source": [
    "image=torch.zeros(1,1,5,5)\n",
    "image[0,0,:,2]=1\n",
    "image"
   ]
  },
  {
   "cell_type": "code",
   "execution_count": 7,
   "id": "c62f879a",
   "metadata": {},
   "outputs": [
    {
     "data": {
      "image/png": "[encoded data removed]",
      "text/plain": [
       "<Figure size 432x288 with 2 Axes>"
      ]
     },
     "metadata": {
      "needs_background": "light"
     },
     "output_type": "display_data"
    }
   ],
   "source": [
    "# Plot the image\n",
    "plt.imshow(image[0,0,:,:].numpy(), interpolation='nearest', cmap=plt.cm.gray)\n",
    "plt.colorbar()\n",
    "plt.show()"
   ]
  },
  {
   "cell_type": "code",
   "execution_count": 8,
   "id": "80620be1",
   "metadata": {},
   "outputs": [],
   "source": [
    "# Perform convolution using each channel\n",
    "\n",
    "out = conv1(image)"
   ]
  },
  {
   "cell_type": "markdown",
   "id": "b5d992a1",
   "metadata": {},
   "source": [
    "The result is a 1x3x3x3 tensor. This represents one sample with three channels, and each channel contains a 3x3 image. The same rules that govern the shape of each image were discussed in the last section."
   ]
  },
  {
   "cell_type": "code",
   "execution_count": 9,
   "id": "a1566d71",
   "metadata": {},
   "outputs": [
    {
     "data": {
      "text/plain": [
       "tensor([[[[-4.,  0.,  4.],\n",
       "          [-4.,  0.,  4.],\n",
       "          [-4.,  0.,  4.]],\n",
       "\n",
       "         [[ 0.,  0.,  0.],\n",
       "          [ 0.,  0.,  0.],\n",
       "          [ 0.,  0.,  0.]],\n",
       "\n",
       "         [[ 3.,  3.,  3.],\n",
       "          [ 3.,  3.,  3.],\n",
       "          [ 3.,  3.,  3.]]]], grad_fn=<ConvolutionBackward0>)"
      ]
     },
     "execution_count": 9,
     "metadata": {},
     "output_type": "execute_result"
    }
   ],
   "source": [
    "out"
   ]
  },
  {
   "cell_type": "code",
   "execution_count": 10,
   "id": "e2b670da",
   "metadata": {},
   "outputs": [
    {
     "data": {
      "text/plain": [
       "torch.Size([1, 3, 3, 3])"
      ]
     },
     "execution_count": 10,
     "metadata": {},
     "output_type": "execute_result"
    }
   ],
   "source": [
    "out.shape"
   ]
  },
  {
   "cell_type": "markdown",
   "id": "0b8b9eca",
   "metadata": {},
   "source": [
    "Print out each channel as a tensor or an image:"
   ]
  },
  {
   "cell_type": "code",
   "execution_count": 11,
   "id": "6658b240",
   "metadata": {},
   "outputs": [
    {
     "name": "stdout",
     "output_type": "stream",
     "text": [
      "tensor([[-4.,  0.,  4.],\n",
      "        [-4.,  0.,  4.],\n",
      "        [-4.,  0.,  4.]], grad_fn=<UnbindBackward0>)\n"
     ]
    },
    {
     "data": {
      "image/png": "[encoded data removed]",
      "text/plain": [
       "<Figure size 432x288 with 2 Axes>"
      ]
     },
     "metadata": {
      "needs_background": "light"
     },
     "output_type": "display_data"
    },
    {
     "name": "stdout",
     "output_type": "stream",
     "text": [
      "tensor([[0., 0., 0.],\n",
      "        [0., 0., 0.],\n",
      "        [0., 0., 0.]], grad_fn=<UnbindBackward0>)\n"
     ]
    },
    {
     "data": {
      "image/png": "[encoded data removed]",
      "text/plain": [
       "<Figure size 432x288 with 2 Axes>"
      ]
     },
     "metadata": {
      "needs_background": "light"
     },
     "output_type": "display_data"
    },
    {
     "name": "stdout",
     "output_type": "stream",
     "text": [
      "tensor([[3., 3., 3.],\n",
      "        [3., 3., 3.],\n",
      "        [3., 3., 3.]], grad_fn=<UnbindBackward0>)\n"
     ]
    },
    {
     "data": {
      "image/png": "[encoded data removed]",
      "text/plain": [
       "<Figure size 432x288 with 2 Axes>"
      ]
     },
     "metadata": {
      "needs_background": "light"
     },
     "output_type": "display_data"
    }
   ],
   "source": [
    "for channel,image in enumerate(out[0]):\n",
    "    plt.imshow(image.detach().numpy(), interpolation='nearest', cmap=plt.cm.gray)\n",
    "    print(image)\n",
    "    plt.title(\"channel {}\".format(channel))\n",
    "    plt.colorbar()\n",
    "    plt.show()"
   ]
  },
  {
   "cell_type": "markdown",
   "id": "12b009d9",
   "metadata": {},
   "source": [
    "The following figure summarizes the process:\n"
   ]
  },
  {
   "cell_type": "markdown",
   "id": "80bd313d",
   "metadata": {},
   "source": [
    "<img src=\"https://s3-api.us-geo.objectstorage.softlayer.net/cf-courses-data/CognitiveClass/DL0110EN/notebook_images%20/chapter%206/6.1.2ouputsgray2.png\" width=\"750,\" align=\"center\">\n"
   ]
  },
  {
   "cell_type": "markdown",
   "id": "d43d38f0",
   "metadata": {},
   "source": [
    "<a id=\"ref1\"></a>\n",
    "<h3 align=center>Multiple Input Channels </h3>\n"
   ]
  },
  {
   "cell_type": "markdown",
   "id": "3f53af7e",
   "metadata": {},
   "source": [
    "For two inputs, you can create two kernels. Each kernel performs a convolution on its associated input channel. The resulting output is added together as shown:  \n"
   ]
  },
  {
   "cell_type": "markdown",
   "id": "ee52275a",
   "metadata": {},
   "source": [
    "<img src=\"https://s3-api.us-geo.objectstorage.softlayer.net/cf-courses-data/CognitiveClass/DL0110EN/notebook_images%20/chapter%206/6.1.22chanalsinput.png\" width=\"750,\" align=\"center\">\n"
   ]
  },
  {
   "cell_type": "markdown",
   "id": "6a2d516d",
   "metadata": {},
   "source": [
    "Create an input with two channels:\n"
   ]
  },
  {
   "cell_type": "code",
   "execution_count": 12,
   "id": "2213b318",
   "metadata": {},
   "outputs": [
    {
     "data": {
      "text/plain": [
       "tensor([[[[ 0.,  0.,  0.,  0.,  0.],\n",
       "          [ 0.,  0.,  0.,  0.,  0.],\n",
       "          [-2., -2., -2., -2., -2.],\n",
       "          [ 0.,  0.,  0.,  0.,  0.],\n",
       "          [ 0.,  0.,  0.,  0.,  0.]],\n",
       "\n",
       "         [[ 0.,  0.,  0.,  0.,  0.],\n",
       "          [ 0.,  0.,  0.,  0.,  0.],\n",
       "          [ 1.,  1.,  1.,  1.,  1.],\n",
       "          [ 0.,  0.,  0.,  0.,  0.],\n",
       "          [ 0.,  0.,  0.,  0.,  0.]]]])"
      ]
     },
     "execution_count": 12,
     "metadata": {},
     "output_type": "execute_result"
    }
   ],
   "source": [
    "image2=torch.zeros(1,2,5,5)\n",
    "image2[0,0,2,:]=-2\n",
    "image2[0,1,2,:]=1\n",
    "image2"
   ]
  },
  {
   "cell_type": "markdown",
   "id": "155215c1",
   "metadata": {},
   "source": [
    "Plot out each image: \n"
   ]
  },
  {
   "cell_type": "code",
   "execution_count": 13,
   "id": "13211ec2",
   "metadata": {},
   "outputs": [
    {
     "name": "stdout",
     "output_type": "stream",
     "text": [
      "tensor([[ 0.,  0.,  0.,  0.,  0.],\n",
      "        [ 0.,  0.,  0.,  0.,  0.],\n",
      "        [-2., -2., -2., -2., -2.],\n",
      "        [ 0.,  0.,  0.,  0.,  0.],\n",
      "        [ 0.,  0.,  0.,  0.,  0.]])\n"
     ]
    },
    {
     "data": {
      "image/png": "[encoded data removed]",
      "text/plain": [
       "<Figure size 432x288 with 2 Axes>"
      ]
     },
     "metadata": {
      "needs_background": "light"
     },
     "output_type": "display_data"
    },
    {
     "name": "stdout",
     "output_type": "stream",
     "text": [
      "tensor([[0., 0., 0., 0., 0.],\n",
      "        [0., 0., 0., 0., 0.],\n",
      "        [1., 1., 1., 1., 1.],\n",
      "        [0., 0., 0., 0., 0.],\n",
      "        [0., 0., 0., 0., 0.]])\n"
     ]
    },
    {
     "data": {
      "image/png": "[encoded data removed]",
      "text/plain": [
       "<Figure size 432x288 with 2 Axes>"
      ]
     },
     "metadata": {
      "needs_background": "light"
     },
     "output_type": "display_data"
    }
   ],
   "source": [
    "for channel,image in enumerate(image2[0]):\n",
    "    plt.imshow(image.detach().numpy(), interpolation='nearest', cmap=plt.cm.gray)\n",
    "    print(image)\n",
    "    plt.title(\"channel {}\".format(channel))\n",
    "    plt.colorbar()\n",
    "    plt.show()"
   ]
  },
  {
   "cell_type": "markdown",
   "id": "5fd40d81",
   "metadata": {},
   "source": [
    "Create a <code>Conv2d</code> object with two inputs:\n"
   ]
  },
  {
   "cell_type": "code",
   "execution_count": 14,
   "id": "ba7f7d48",
   "metadata": {},
   "outputs": [],
   "source": [
    "conv3 = nn.Conv2d(in_channels=2, out_channels=1,kernel_size=3)"
   ]
  },
  {
   "cell_type": "markdown",
   "id": "83a1ef0a",
   "metadata": {},
   "source": [
    "Assign kernel values to make the math a little easier: \n"
   ]
  },
  {
   "cell_type": "code",
   "execution_count": 15,
   "id": "22009980",
   "metadata": {},
   "outputs": [],
   "source": [
    "Gx1=torch.tensor([[0.0,0.0,0.0],[0,1.0,0],[0.0,0.0,0.0]])\n",
    "conv3.state_dict()['weight'][0][0]=1*Gx1\n",
    "conv3.state_dict()['weight'][0][1]=-2*Gx1\n",
    "conv3.state_dict()['bias'][:]=torch.tensor([0.0])"
   ]
  },
  {
   "cell_type": "code",
   "execution_count": 16,
   "id": "db0b629d",
   "metadata": {},
   "outputs": [
    {
     "data": {
      "text/plain": [
       "tensor([[[[ 0.,  0.,  0.],\n",
       "          [ 0.,  1.,  0.],\n",
       "          [ 0.,  0.,  0.]],\n",
       "\n",
       "         [[-0., -0., -0.],\n",
       "          [-0., -2., -0.],\n",
       "          [-0., -0., -0.]]]])"
      ]
     },
     "execution_count": 16,
     "metadata": {},
     "output_type": "execute_result"
    }
   ],
   "source": [
    "conv3.state_dict()['weight']"
   ]
  },
  {
   "cell_type": "markdown",
   "id": "309427ae",
   "metadata": {},
   "source": [
    "Perform the convolution:\n"
   ]
  },
  {
   "cell_type": "code",
   "execution_count": 17,
   "id": "8fb2c0f7",
   "metadata": {},
   "outputs": [
    {
     "data": {
      "text/plain": [
       "tensor([[[[ 0.,  0.,  0.],\n",
       "          [-4., -4., -4.],\n",
       "          [ 0.,  0.,  0.]]]], grad_fn=<ConvolutionBackward0>)"
      ]
     },
     "execution_count": 17,
     "metadata": {},
     "output_type": "execute_result"
    }
   ],
   "source": [
    "conv3(image2)"
   ]
  },
  {
   "cell_type": "markdown",
   "id": "7968deab",
   "metadata": {},
   "source": [
    "The following images summarize the process. The object performs Convolution.\n"
   ]
  },
  {
   "cell_type": "markdown",
   "id": "abed7159",
   "metadata": {},
   "source": [
    "<img src=\"https://s3-api.us-geo.objectstorage.softlayer.net/cf-courses-data/CognitiveClass/DL0110EN/notebook_images%20/chapter%206/6.1.2_two_channal_example.png\" width=\"750,\" align=\"center\">\n"
   ]
  },
  {
   "cell_type": "markdown",
   "id": "264c8535",
   "metadata": {},
   "source": [
    "Then, it adds the result: \n"
   ]
  },
  {
   "cell_type": "markdown",
   "id": "8019d53c",
   "metadata": {},
   "source": [
    "<img src=\"https://s3-api.us-geo.objectstorage.softlayer.net/cf-courses-data/CognitiveClass/DL0110EN/notebook_images%20/chapter%206/6.1.2_two_channal_example2.png\" width=\"750,\" align=\"center\">\n"
   ]
  },
  {
   "cell_type": "markdown",
   "id": "828e39ed",
   "metadata": {},
   "source": [
    "<a id=\"ref1\"></a>\n",
    "<h3 align=center>Multiple Input and Multiple Output Channels </h3>\n"
   ]
  },
  {
   "cell_type": "markdown",
   "id": "28081f0e",
   "metadata": {},
   "source": [
    "When using multiple inputs and outputs, a kernel is created for each input, and the process is repeated for each output. The process is summarized in the following image. \n",
    "\n",
    "There are two input channels and 3 output channels. For each channel, the input in red and purple is convolved with an individual kernel that is colored differently. As a result, there are three outputs. \n"
   ]
  },
  {
   "cell_type": "markdown",
   "id": "facbd75a",
   "metadata": {},
   "source": [
    "<img src=\"https://s3-api.us-geo.objectstorage.softlayer.net/cf-courses-data/CognitiveClass/DL0110EN/notebook_images%20/chapter%206/6.1.2mulit_input_output.png\" width=\"750,\" align=\"center\">\n"
   ]
  },
  {
   "cell_type": "markdown",
   "id": "b1b66f22",
   "metadata": {},
   "source": [
    "Create an example with two inputs and three outputs and assign the kernel values to make the math a little easier: \n"
   ]
  },
  {
   "cell_type": "code",
   "execution_count": 18,
   "id": "d764ad0f",
   "metadata": {},
   "outputs": [],
   "source": [
    "conv4 = nn.Conv2d(in_channels=2, out_channels=3,kernel_size=3)"
   ]
  },
  {
   "cell_type": "markdown",
   "id": "19eebb98",
   "metadata": {},
   "source": [
    "Initialize weights manually"
   ]
  },
  {
   "cell_type": "code",
   "execution_count": 19,
   "id": "a798fc06",
   "metadata": {},
   "outputs": [],
   "source": [
    "conv4.state_dict()['weight'][0][0]=torch.tensor([[0.0,0.0,0.0],[0,0.5,0],[0.0,0.0,0.0]])\n",
    "conv4.state_dict()['weight'][0][1]=torch.tensor([[0.0,0.0,0.0],[0,0.5,0],[0.0,0.0,0.0]])\n",
    "\n",
    "\n",
    "conv4.state_dict()['weight'][1][0]=torch.tensor([[0.0,0.0,0.0],[0,1,0],[0.0,0.0,0.0]])\n",
    "conv4.state_dict()['weight'][1][1]=torch.tensor([[0.0,0.0,0.0],[0,-1,0],[0.0,0.0,0.0]])\n",
    "\n",
    "conv4.state_dict()['weight'][2][0]=torch.tensor([[1.0,0,-1.0],[2.0,0,-2.0],[1.0,0.0,-1.0]])\n",
    "conv4.state_dict()['weight'][2][1]=torch.tensor([[1.0,2.0,1.0],[0.0,0.0,0.0],[-1.0,-2.0,-1.0]])"
   ]
  },
  {
   "cell_type": "markdown",
   "id": "63e49dea",
   "metadata": {},
   "source": [
    "For each output, there is a bias, so set them all to zero: \n"
   ]
  },
  {
   "cell_type": "code",
   "execution_count": 20,
   "id": "70005be9",
   "metadata": {},
   "outputs": [],
   "source": [
    "conv4.state_dict()['bias'][:]=torch.tensor([0.0,0.0,0.0])"
   ]
  },
  {
   "cell_type": "markdown",
   "id": "74ab1ad0",
   "metadata": {},
   "source": [
    "Create a two-channel image and plot the results: \n"
   ]
  },
  {
   "cell_type": "code",
   "execution_count": 21,
   "id": "0dad79fe",
   "metadata": {},
   "outputs": [
    {
     "name": "stdout",
     "output_type": "stream",
     "text": [
      "tensor([[1., 1., 1., 1., 1.],\n",
      "        [1., 1., 1., 1., 1.],\n",
      "        [1., 1., 1., 1., 1.],\n",
      "        [1., 1., 1., 1., 1.],\n",
      "        [1., 1., 1., 1., 1.]])\n"
     ]
    },
    {
     "data": {
      "image/png": "[encoded data removed]",
      "text/plain": [
       "<Figure size 432x288 with 2 Axes>"
      ]
     },
     "metadata": {
      "needs_background": "light"
     },
     "output_type": "display_data"
    },
    {
     "name": "stdout",
     "output_type": "stream",
     "text": [
      "tensor([[0., 0., 0., 0., 0.],\n",
      "        [0., 0., 0., 0., 0.],\n",
      "        [0., 0., 1., 0., 0.],\n",
      "        [0., 0., 0., 0., 0.],\n",
      "        [0., 0., 0., 0., 0.]])\n"
     ]
    },
    {
     "data": {
      "image/png": "[encoded data removed]",
      "text/plain": [
       "<Figure size 432x288 with 2 Axes>"
      ]
     },
     "metadata": {
      "needs_background": "light"
     },
     "output_type": "display_data"
    }
   ],
   "source": [
    "image4=torch.zeros(1,2,5,5)\n",
    "image4[0][0]=torch.ones(5,5)\n",
    "image4[0][1][2][2]=1\n",
    "for channel,image in enumerate(image4[0]):\n",
    "    plt.imshow(image.detach().numpy(), interpolation='nearest', cmap=plt.cm.gray)\n",
    "    print(image)\n",
    "    plt.title(\"channel {}\".format(channel))\n",
    "    plt.colorbar()\n",
    "    plt.show()"
   ]
  },
  {
   "cell_type": "markdown",
   "id": "8ef7c514",
   "metadata": {},
   "source": [
    "Perform the convolution:\n"
   ]
  },
  {
   "cell_type": "code",
   "execution_count": 22,
   "id": "4f4d1f2e",
   "metadata": {},
   "outputs": [
    {
     "data": {
      "text/plain": [
       "tensor([[[[ 0.5000,  0.5000,  0.5000],\n",
       "          [ 0.5000,  1.0000,  0.5000],\n",
       "          [ 0.5000,  0.5000,  0.5000]],\n",
       "\n",
       "         [[ 1.0000,  1.0000,  1.0000],\n",
       "          [ 1.0000,  0.0000,  1.0000],\n",
       "          [ 1.0000,  1.0000,  1.0000]],\n",
       "\n",
       "         [[-1.0000, -2.0000, -1.0000],\n",
       "          [ 0.0000,  0.0000,  0.0000],\n",
       "          [ 1.0000,  2.0000,  1.0000]]]], grad_fn=<ConvolutionBackward0>)"
      ]
     },
     "execution_count": 22,
     "metadata": {},
     "output_type": "execute_result"
    }
   ],
   "source": [
    "z=conv4(image4)\n",
    "z"
   ]
  },
  {
   "cell_type": "markdown",
   "id": "62e2ab9b",
   "metadata": {},
   "source": [
    "The output of the first channel is given by: \n"
   ]
  },
  {
   "cell_type": "markdown",
   "id": "92e89f34",
   "metadata": {},
   "source": [
    "<img src=\"https://s3-api.us-geo.objectstorage.softlayer.net/cf-courses-data/CognitiveClass/DL0110EN/notebook_images%20/chapter%206/6.1.2_%20multi_channel_1.png\" width=\"750,\" align=\"center\">\n"
   ]
  },
  {
   "cell_type": "markdown",
   "id": "13a58293",
   "metadata": {},
   "source": [
    "The output of the second channel is given by:\n"
   ]
  },
  {
   "cell_type": "markdown",
   "id": "991203aa",
   "metadata": {},
   "source": [
    "<img src=\"https://s3-api.us-geo.objectstorage.softlayer.net/cf-courses-data/CognitiveClass/DL0110EN/notebook_images%20/chapter%206/6.1.2_%20multi_channel_2.png\" width=\"750,\" align=\"center\">\n"
   ]
  },
  {
   "cell_type": "markdown",
   "id": "83c90c51",
   "metadata": {},
   "source": [
    "The output of the third channel is given by: \n"
   ]
  },
  {
   "cell_type": "markdown",
   "id": "e1120252",
   "metadata": {},
   "source": [
    "<img src=\"https://s3-api.us-geo.objectstorage.softlayer.net/cf-courses-data/CognitiveClass/DL0110EN/notebook_images%20/chapter%206/6.1.2_%20multi_channel_3.png\" width=\"750,\" align=\"center\">\n"
   ]
  },
  {
   "cell_type": "code",
   "execution_count": 23,
   "id": "01407617",
   "metadata": {},
   "outputs": [],
   "source": [
    "## PRACTICE ##\n",
    "\n",
    "\n",
    "imageA=torch.zeros(1,1,5,5)\n",
    "imageB=torch.zeros(1,1,5,5)\n",
    "imageA[0,0,2,:]=-2\n",
    "imageB[0,0,2,:]=1\n"
   ]
  },
  {
   "cell_type": "code",
   "execution_count": 24,
   "id": "f6f5cf23",
   "metadata": {},
   "outputs": [],
   "source": [
    "conv5 = nn.Conv2d(in_channels=1, out_channels=1,kernel_size=3)\n",
    "conv6 = nn.Conv2d(in_channels=1, out_channels=1,kernel_size=3)"
   ]
  },
  {
   "cell_type": "code",
   "execution_count": 25,
   "id": "ea068ab3",
   "metadata": {},
   "outputs": [],
   "source": [
    "Gx1=torch.tensor([[0.0,0.0,0.0],[0,1.0,0],[0.0,0.0,0.0]])\n",
    "conv5.state_dict()['weight'][0][0]=1*Gx1\n",
    "conv6.state_dict()['weight'][0][0]=-2*Gx1\n",
    "conv5.state_dict()['bias'][:]=torch.tensor([0.0])\n",
    "conv6.state_dict()['bias'][:]=torch.tensor([0.0])"
   ]
  },
  {
   "cell_type": "code",
   "execution_count": 26,
   "id": "e88d0e1a",
   "metadata": {},
   "outputs": [
    {
     "data": {
      "text/plain": [
       "tensor([[[[ 0.,  0.,  0.],\n",
       "          [-2., -2., -2.],\n",
       "          [ 0.,  0.,  0.]]]], grad_fn=<ConvolutionBackward0>)"
      ]
     },
     "execution_count": 26,
     "metadata": {},
     "output_type": "execute_result"
    }
   ],
   "source": [
    "conv5(imageA)"
   ]
  },
  {
   "cell_type": "code",
   "execution_count": 27,
   "id": "8ba61076",
   "metadata": {},
   "outputs": [
    {
     "data": {
      "text/plain": [
       "tensor([[[[ 0.,  0.,  0.],\n",
       "          [-2., -2., -2.],\n",
       "          [ 0.,  0.,  0.]]]], grad_fn=<ConvolutionBackward0>)"
      ]
     },
     "execution_count": 27,
     "metadata": {},
     "output_type": "execute_result"
    }
   ],
   "source": [
    "conv6(imageB)"
   ]
  },
  {
   "cell_type": "code",
   "execution_count": 28,
   "id": "5b0e78d1",
   "metadata": {
    "scrolled": true
   },
   "outputs": [
    {
     "data": {
      "text/plain": [
       "tensor([[[[ 0.,  0.,  0.],\n",
       "          [-4., -4., -4.],\n",
       "          [ 0.,  0.,  0.]]]], grad_fn=<AddBackward0>)"
      ]
     },
     "execution_count": 28,
     "metadata": {},
     "output_type": "execute_result"
    }
   ],
   "source": [
    "conv5(imageA) + conv6(imageB)"
   ]
  },
  {
   "cell_type": "markdown",
   "id": "5acad48f",
   "metadata": {},
   "source": [
    "It can be visualized as:"
   ]
  },
  {
   "cell_type": "markdown",
   "id": "9bcc83c7",
   "metadata": {},
   "source": [
    "<img src=\"https://s3-api.us-geo.objectstorage.softlayer.net/cf-courses-data/CognitiveClass/DL0110EN/notebook_images%20/chapter%206/6.1.2Practice%20Questions_1.png\" width=\"750,\" align=\"center\">\n"
   ]
  },
  {
   "cell_type": "markdown",
   "id": "1edfb11f",
   "metadata": {},
   "source": [
    "<img src=\"https://s3-api.us-geo.objectstorage.softlayer.net/cf-courses-data/CognitiveClass/DL0110EN/notebook_images%20/chapter%206/6.1.2Practice%20Questions_2.png\" width=\"750,\" align=\"center\">\n"
   ]
  }
 ],
 "metadata": {
  "kernelspec": {
   "display_name": "Python 3 (ipykernel)",
   "language": "python",
   "name": "python3"
  },
  "language_info": {
   "codemirror_mode": {
    "name": "ipython",
    "version": 3
   },
   "file_extension": ".py",
   "mimetype": "text/x-python",
   "name": "python",
   "nbconvert_exporter": "python",
   "pygments_lexer": "ipython3",
   "version": "3.9.12"
  }
 },
 "nbformat": 4,
 "nbformat_minor": 5
}
